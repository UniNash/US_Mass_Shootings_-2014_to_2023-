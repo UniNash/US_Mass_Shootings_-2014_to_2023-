{
 "cells": [
  {
   "cell_type": "markdown",
   "id": "78d007ad-5f01-4df6-9dfa-fb61f3cde506",
   "metadata": {
    "tags": []
   },
   "source": [
    "# US Gun Violence"
   ]
  },
  {
   "cell_type": "markdown",
   "id": "8294f3b0-0fbf-413b-948f-5da30cb5ca6c",
   "metadata": {
    "tags": []
   },
   "source": [
    "## Importing required libraries"
   ]
  },
  {
   "cell_type": "code",
   "execution_count": 1,
   "id": "0a7cf32f-8c12-4af2-9c4c-c074fb88725e",
   "metadata": {},
   "outputs": [],
   "source": [
    "# importing the required libraries\n",
    "\n",
    "import pandas as pd\n",
    "import numpy as np\n",
    "import requests\n",
    "from bs4 import BeautifulSoup\n",
    "import re\n",
    "import os"
   ]
  },
  {
   "cell_type": "markdown",
   "id": "da1c9951-f4d3-4d7f-83e1-789569831362",
   "metadata": {},
   "source": [
    "## Accessing Directory and files paths"
   ]
  },
  {
   "cell_type": "code",
   "execution_count": 2,
   "id": "73f1346b-3000-4c0e-8ae1-10a82f6e1600",
   "metadata": {},
   "outputs": [],
   "source": [
    "# location of the downloaded datasets (LOCAL)\n",
    "\n",
    "path = r'C:\\Users\\pryns\\OneDrive\\Desktop\\Dataset'"
   ]
  },
  {
   "cell_type": "code",
   "execution_count": 3,
   "id": "c740ef9c-d733-4415-bbde-030bff6350fa",
   "metadata": {},
   "outputs": [],
   "source": [
    "# get the list of all the data files from location\n",
    "\n",
    "for i in os.walk(path,topdown = False):\n",
    "    files = i[2]"
   ]
  },
  {
   "cell_type": "code",
   "execution_count": 4,
   "id": "fab2ae40-cfa1-4c66-a1fa-7e73217b18e8",
   "metadata": {},
   "outputs": [
    {
     "data": {
      "text/plain": [
       "['2014_mass_shootings.csv',\n",
       " '2015_mass_shootings.csv',\n",
       " '2016_mass_shootings.csv',\n",
       " '2017_mass_shootings.csv',\n",
       " '2018_mass_shootings.csv',\n",
       " '2019_mass_shootings.csv',\n",
       " '2020_mass_shootings.csv',\n",
       " '2020_to_2023_mass_shootings.csv',\n",
       " '2021_mass_shootings.csv',\n",
       " '2022_mass_shootings.csv',\n",
       " 'us_census_bureau_regions_divisions.csv',\n",
       " 'us_state_code.csv']"
      ]
     },
     "execution_count": 4,
     "metadata": {},
     "output_type": "execute_result"
    }
   ],
   "source": [
    "# list of all the files available in the dataset directory\n",
    "\n",
    "files"
   ]
  },
  {
   "cell_type": "markdown",
   "id": "2649811b-fb12-45a9-a5ac-bc3fdfe50cc3",
   "metadata": {},
   "source": [
    "- **Individual Year Datasets**: '2014_mass_shootings.csv', '2015_mass_shootings.csv', '2016_mass_shootings.csv', '2017_mass_shootings.csv', '2018_mass_shootings.csv', '2019_mass_shootings.csv', '2020_mass_shootings.csv', '2021_mass_shootings.csv', '2022_mass_shootings.csv'\n",
    "- **Combined data file for 4 years** - '2020_to_2023_mass_shootings.csv' from which we are going to extract data for 2023"
   ]
  },
  {
   "cell_type": "code",
   "execution_count": 5,
   "id": "0b8ac814-5af5-4a36-a640-22cc388e3956",
   "metadata": {},
   "outputs": [],
   "source": [
    "# Creating filepath(s) for each file in order to access each data separately\n",
    "\n",
    "filepaths = []\n",
    "\n",
    "for i in files:\n",
    "    filepaths.append(os.path.join(path,i))"
   ]
  },
  {
   "cell_type": "code",
   "execution_count": 6,
   "id": "e49d29ad-c41f-403d-8e79-c620df91f9d2",
   "metadata": {},
   "outputs": [
    {
     "data": {
      "text/plain": [
       "['C:\\\\Users\\\\pryns\\\\OneDrive\\\\Desktop\\\\Dataset\\\\2014_mass_shootings.csv',\n",
       " 'C:\\\\Users\\\\pryns\\\\OneDrive\\\\Desktop\\\\Dataset\\\\2015_mass_shootings.csv',\n",
       " 'C:\\\\Users\\\\pryns\\\\OneDrive\\\\Desktop\\\\Dataset\\\\2016_mass_shootings.csv',\n",
       " 'C:\\\\Users\\\\pryns\\\\OneDrive\\\\Desktop\\\\Dataset\\\\2017_mass_shootings.csv',\n",
       " 'C:\\\\Users\\\\pryns\\\\OneDrive\\\\Desktop\\\\Dataset\\\\2018_mass_shootings.csv',\n",
       " 'C:\\\\Users\\\\pryns\\\\OneDrive\\\\Desktop\\\\Dataset\\\\2019_mass_shootings.csv',\n",
       " 'C:\\\\Users\\\\pryns\\\\OneDrive\\\\Desktop\\\\Dataset\\\\2020_mass_shootings.csv',\n",
       " 'C:\\\\Users\\\\pryns\\\\OneDrive\\\\Desktop\\\\Dataset\\\\2020_to_2023_mass_shootings.csv',\n",
       " 'C:\\\\Users\\\\pryns\\\\OneDrive\\\\Desktop\\\\Dataset\\\\2021_mass_shootings.csv',\n",
       " 'C:\\\\Users\\\\pryns\\\\OneDrive\\\\Desktop\\\\Dataset\\\\2022_mass_shootings.csv',\n",
       " 'C:\\\\Users\\\\pryns\\\\OneDrive\\\\Desktop\\\\Dataset\\\\us_census_bureau_regions_divisions.csv',\n",
       " 'C:\\\\Users\\\\pryns\\\\OneDrive\\\\Desktop\\\\Dataset\\\\us_state_code.csv']"
      ]
     },
     "execution_count": 6,
     "metadata": {},
     "output_type": "execute_result"
    }
   ],
   "source": [
    "filepaths"
   ]
  },
  {
   "cell_type": "markdown",
   "id": "e081cf72-9779-400a-92db-c50213dc93e3",
   "metadata": {},
   "source": [
    "## Looking into one data file"
   ]
  },
  {
   "cell_type": "code",
   "execution_count": 7,
   "id": "a3107507-508c-4a21-bb0a-691e831618f4",
   "metadata": {},
   "outputs": [],
   "source": [
    "# reading and checking 2014 data\n",
    "\n",
    "data_2014 = pd.read_csv(filepaths[0])"
   ]
  },
  {
   "cell_type": "code",
   "execution_count": 8,
   "id": "5157b5a6-89f5-4c1c-959f-311db374e671",
   "metadata": {},
   "outputs": [
    {
     "data": {
      "text/html": [
       "<div>\n",
       "<style scoped>\n",
       "    .dataframe tbody tr th:only-of-type {\n",
       "        vertical-align: middle;\n",
       "    }\n",
       "\n",
       "    .dataframe tbody tr th {\n",
       "        vertical-align: top;\n",
       "    }\n",
       "\n",
       "    .dataframe thead th {\n",
       "        text-align: right;\n",
       "    }\n",
       "</style>\n",
       "<table border=\"1\" class=\"dataframe\">\n",
       "  <thead>\n",
       "    <tr style=\"text-align: right;\">\n",
       "      <th></th>\n",
       "      <th>Incident ID</th>\n",
       "      <th>Incident Date</th>\n",
       "      <th>State</th>\n",
       "      <th>City Or County</th>\n",
       "      <th>Address</th>\n",
       "      <th>Victims Killed</th>\n",
       "      <th>Victims Injured</th>\n",
       "      <th>Suspects Killed</th>\n",
       "      <th>Suspects Injured</th>\n",
       "      <th>Suspects Arrested</th>\n",
       "      <th>Operations</th>\n",
       "    </tr>\n",
       "  </thead>\n",
       "  <tbody>\n",
       "    <tr>\n",
       "      <th>0</th>\n",
       "      <td>271363</td>\n",
       "      <td>December 29, 2014</td>\n",
       "      <td>Louisiana</td>\n",
       "      <td>New Orleans</td>\n",
       "      <td>Poydras and Bolivar</td>\n",
       "      <td>0</td>\n",
       "      <td>4</td>\n",
       "      <td>0</td>\n",
       "      <td>0</td>\n",
       "      <td>0</td>\n",
       "      <td>NaN</td>\n",
       "    </tr>\n",
       "    <tr>\n",
       "      <th>1</th>\n",
       "      <td>269679</td>\n",
       "      <td>December 27, 2014</td>\n",
       "      <td>California</td>\n",
       "      <td>Los Angeles</td>\n",
       "      <td>8800 block of South Figueroa Street</td>\n",
       "      <td>1</td>\n",
       "      <td>3</td>\n",
       "      <td>0</td>\n",
       "      <td>0</td>\n",
       "      <td>0</td>\n",
       "      <td>NaN</td>\n",
       "    </tr>\n",
       "    <tr>\n",
       "      <th>2</th>\n",
       "      <td>270036</td>\n",
       "      <td>December 27, 2014</td>\n",
       "      <td>California</td>\n",
       "      <td>Sacramento</td>\n",
       "      <td>4000 block of May Street</td>\n",
       "      <td>0</td>\n",
       "      <td>4</td>\n",
       "      <td>0</td>\n",
       "      <td>0</td>\n",
       "      <td>0</td>\n",
       "      <td>NaN</td>\n",
       "    </tr>\n",
       "    <tr>\n",
       "      <th>3</th>\n",
       "      <td>269167</td>\n",
       "      <td>December 26, 2014</td>\n",
       "      <td>Illinois</td>\n",
       "      <td>East St. Louis</td>\n",
       "      <td>2500 block of Summit Avenue</td>\n",
       "      <td>1</td>\n",
       "      <td>3</td>\n",
       "      <td>0</td>\n",
       "      <td>0</td>\n",
       "      <td>0</td>\n",
       "      <td>NaN</td>\n",
       "    </tr>\n",
       "    <tr>\n",
       "      <th>4</th>\n",
       "      <td>268598</td>\n",
       "      <td>December 24, 2014</td>\n",
       "      <td>Missouri</td>\n",
       "      <td>Saint Louis</td>\n",
       "      <td>18th and Pine</td>\n",
       "      <td>1</td>\n",
       "      <td>3</td>\n",
       "      <td>0</td>\n",
       "      <td>0</td>\n",
       "      <td>0</td>\n",
       "      <td>NaN</td>\n",
       "    </tr>\n",
       "  </tbody>\n",
       "</table>\n",
       "</div>"
      ],
      "text/plain": [
       "   Incident ID      Incident Date       State  City Or County  \\\n",
       "0       271363  December 29, 2014   Louisiana     New Orleans   \n",
       "1       269679  December 27, 2014  California     Los Angeles   \n",
       "2       270036  December 27, 2014  California      Sacramento   \n",
       "3       269167  December 26, 2014    Illinois  East St. Louis   \n",
       "4       268598  December 24, 2014    Missouri     Saint Louis   \n",
       "\n",
       "                               Address  Victims Killed  Victims Injured  \\\n",
       "0                  Poydras and Bolivar               0                4   \n",
       "1  8800 block of South Figueroa Street               1                3   \n",
       "2             4000 block of May Street               0                4   \n",
       "3          2500 block of Summit Avenue               1                3   \n",
       "4                        18th and Pine               1                3   \n",
       "\n",
       "   Suspects Killed  Suspects Injured  Suspects Arrested  Operations  \n",
       "0                0                 0                  0         NaN  \n",
       "1                0                 0                  0         NaN  \n",
       "2                0                 0                  0         NaN  \n",
       "3                0                 0                  0         NaN  \n",
       "4                0                 0                  0         NaN  "
      ]
     },
     "execution_count": 8,
     "metadata": {},
     "output_type": "execute_result"
    }
   ],
   "source": [
    "data_2014.head()"
   ]
  },
  {
   "cell_type": "code",
   "execution_count": 9,
   "id": "5af24aaa-d00f-46db-942d-545921d758ec",
   "metadata": {},
   "outputs": [
    {
     "name": "stdout",
     "output_type": "stream",
     "text": [
      "<class 'pandas.core.frame.DataFrame'>\n",
      "RangeIndex: 272 entries, 0 to 271\n",
      "Data columns (total 11 columns):\n",
      " #   Column             Non-Null Count  Dtype  \n",
      "---  ------             --------------  -----  \n",
      " 0   Incident ID        272 non-null    int64  \n",
      " 1   Incident Date      272 non-null    object \n",
      " 2   State              272 non-null    object \n",
      " 3   City Or County     272 non-null    object \n",
      " 4   Address            272 non-null    object \n",
      " 5   Victims Killed     272 non-null    int64  \n",
      " 6   Victims Injured    272 non-null    int64  \n",
      " 7   Suspects Killed    272 non-null    int64  \n",
      " 8   Suspects Injured   272 non-null    int64  \n",
      " 9   Suspects Arrested  272 non-null    int64  \n",
      " 10  Operations         0 non-null      float64\n",
      "dtypes: float64(1), int64(6), object(4)\n",
      "memory usage: 23.5+ KB\n"
     ]
    }
   ],
   "source": [
    "data_2014.info()"
   ]
  },
  {
   "cell_type": "code",
   "execution_count": 11,
   "id": "ebf6cfa7-c08a-4fcd-ae1e-e7d6e7cabea6",
   "metadata": {},
   "outputs": [
    {
     "data": {
      "text/plain": [
       "Index(['Incident ID', 'Incident Date', 'State', 'City Or County', 'Address',\n",
       "       'Victims Killed', 'Victims Injured', 'Suspects Killed',\n",
       "       'Suspects Injured', 'Suspects Arrested', 'Operations'],\n",
       "      dtype='object')"
      ]
     },
     "execution_count": 11,
     "metadata": {},
     "output_type": "execute_result"
    }
   ],
   "source": [
    "data_2014.columns"
   ]
  },
  {
   "cell_type": "code",
   "execution_count": 12,
   "id": "9783e993-7652-440a-92f1-3945329eca9c",
   "metadata": {},
   "outputs": [
    {
     "data": {
      "text/plain": [
       "False"
      ]
     },
     "execution_count": 12,
     "metadata": {},
     "output_type": "execute_result"
    }
   ],
   "source": [
    "# check negative values\n",
    "# `.values` to convert to numpy array and apply any() across rows\n",
    "\n",
    "(data_2014.select_dtypes('int64').values < 0).any()"
   ]
  },
  {
   "cell_type": "markdown",
   "id": "e551726c-59af-4ac1-82c8-81bf94043aec",
   "metadata": {},
   "source": [
    "- no null or negative values found for the required columns, except \"operations\" which is not required."
   ]
  },
  {
   "cell_type": "code",
   "execution_count": 13,
   "id": "f210b952-ee50-4df2-b93c-8af27a3aad54",
   "metadata": {},
   "outputs": [
    {
     "data": {
      "text/plain": [
       "(272, 11)"
      ]
     },
     "execution_count": 13,
     "metadata": {},
     "output_type": "execute_result"
    }
   ],
   "source": [
    "# lets verfiy the shapes of the current data set\n",
    "\n",
    "data_2014.shape"
   ]
  },
  {
   "cell_type": "markdown",
   "id": "dcb6d1b7-6f7c-481e-8439-a9004b0e0af6",
   "metadata": {},
   "source": [
    "- there are 11 columns and 272 rows"
   ]
  },
  {
   "cell_type": "markdown",
   "id": "182ec73d-3890-4e9d-a97e-cdaa49431dca",
   "metadata": {},
   "source": [
    "## Verifying all the data sets"
   ]
  },
  {
   "cell_type": "markdown",
   "id": "bd4276a4-5c08-432d-bdb3-c13d667d9f91",
   "metadata": {},
   "source": [
    "- checking the no. of columns, rows and header labels"
   ]
  },
  {
   "cell_type": "code",
   "execution_count": 19,
   "id": "fdb7f9f0-6417-4b9a-9702-d838ac4a2b3d",
   "metadata": {},
   "outputs": [],
   "source": [
    "columns_check = []\n",
    "rows_check = []\n",
    "headers = set()\n",
    "\n",
    "for i in filepaths[0:10]:\n",
    "    df = pd.read_csv(i)\n",
    "    columns_check.append(df.shape[1]) # check the no. of columns\n",
    "    rows_check.append(df.shape[0]) # check no. of rows\n",
    "    \n",
    "            # check unique headers\n",
    "    headers.update(df.columns)"
   ]
  },
  {
   "cell_type": "code",
   "execution_count": 23,
   "id": "d65ed7e0-a501-4c68-91e2-2e75d269fc6e",
   "metadata": {},
   "outputs": [
    {
     "name": "stdout",
     "output_type": "stream",
     "text": [
      "11 {'Suspects Injured', 'Victims Injured', 'Incident Date', 'Operations', 'City Or County', 'Incident ID', 'Victims Killed', 'Suspects Arrested', 'Address', 'State', 'Suspects Killed'}\n",
      "[11, 11, 11, 11, 11, 11, 11, 11, 11, 11]\n",
      "[272, 333, 383, 347, 335, 414, 610, 2000, 689, 645]\n"
     ]
    }
   ],
   "source": [
    "print(len(headers),headers)\n",
    "print(columns_check)\n",
    "print(rows_check)"
   ]
  },
  {
   "cell_type": "code",
   "execution_count": 49,
   "id": "ffba2954-c31d-416c-98c6-62ce45e65119",
   "metadata": {},
   "outputs": [
    {
     "data": {
      "text/plain": [
       "6028"
      ]
     },
     "execution_count": 49,
     "metadata": {},
     "output_type": "execute_result"
    }
   ],
   "source": [
    "sum(rows_check)"
   ]
  },
  {
   "cell_type": "markdown",
   "id": "1137a565-fed3-44f5-a543-7d3d8f5e129c",
   "metadata": {},
   "source": [
    "* The headers are good and have the same headers for all the data sets"
   ]
  },
  {
   "cell_type": "markdown",
   "id": "ac26932e-b968-45ac-834f-c8a0a4e9f600",
   "metadata": {
    "tags": []
   },
   "source": [
    "## Combining required data into a single data set - 2014 to 2023"
   ]
  },
  {
   "cell_type": "code",
   "execution_count": 28,
   "id": "90c121c6-3d1c-44f8-97d6-0bb3b90fb6e2",
   "metadata": {},
   "outputs": [],
   "source": [
    "# creating an empty dataset\n",
    "\n",
    "df0 = pd.DataFrame([],columns = data_2014.columns)"
   ]
  },
  {
   "cell_type": "code",
   "execution_count": 29,
   "id": "21fb16c9-e539-4ca9-93f9-7ee998db3e25",
   "metadata": {},
   "outputs": [],
   "source": [
    "# combining all the data till 2023\n",
    "\n",
    "for i in filepaths[0:10]:\n",
    "    df = pd.read_csv(i)\n",
    "    df0 = pd.concat([df0,df], ignore_index = True)"
   ]
  },
  {
   "cell_type": "code",
   "execution_count": 31,
   "id": "98704c63-7dfd-476f-98c9-5e9ae62ec5b7",
   "metadata": {},
   "outputs": [
    {
     "data": {
      "text/html": [
       "<div>\n",
       "<style scoped>\n",
       "    .dataframe tbody tr th:only-of-type {\n",
       "        vertical-align: middle;\n",
       "    }\n",
       "\n",
       "    .dataframe tbody tr th {\n",
       "        vertical-align: top;\n",
       "    }\n",
       "\n",
       "    .dataframe thead th {\n",
       "        text-align: right;\n",
       "    }\n",
       "</style>\n",
       "<table border=\"1\" class=\"dataframe\">\n",
       "  <thead>\n",
       "    <tr style=\"text-align: right;\">\n",
       "      <th></th>\n",
       "      <th>Incident ID</th>\n",
       "      <th>Incident Date</th>\n",
       "      <th>State</th>\n",
       "      <th>City Or County</th>\n",
       "      <th>Address</th>\n",
       "      <th>Victims Killed</th>\n",
       "      <th>Victims Injured</th>\n",
       "      <th>Suspects Killed</th>\n",
       "      <th>Suspects Injured</th>\n",
       "      <th>Suspects Arrested</th>\n",
       "      <th>Operations</th>\n",
       "    </tr>\n",
       "  </thead>\n",
       "  <tbody>\n",
       "    <tr>\n",
       "      <th>0</th>\n",
       "      <td>271363</td>\n",
       "      <td>December 29, 2014</td>\n",
       "      <td>Louisiana</td>\n",
       "      <td>New Orleans</td>\n",
       "      <td>Poydras and Bolivar</td>\n",
       "      <td>0</td>\n",
       "      <td>4</td>\n",
       "      <td>0</td>\n",
       "      <td>0</td>\n",
       "      <td>0</td>\n",
       "      <td>NaN</td>\n",
       "    </tr>\n",
       "    <tr>\n",
       "      <th>1</th>\n",
       "      <td>269679</td>\n",
       "      <td>December 27, 2014</td>\n",
       "      <td>California</td>\n",
       "      <td>Los Angeles</td>\n",
       "      <td>8800 block of South Figueroa Street</td>\n",
       "      <td>1</td>\n",
       "      <td>3</td>\n",
       "      <td>0</td>\n",
       "      <td>0</td>\n",
       "      <td>0</td>\n",
       "      <td>NaN</td>\n",
       "    </tr>\n",
       "    <tr>\n",
       "      <th>2</th>\n",
       "      <td>270036</td>\n",
       "      <td>December 27, 2014</td>\n",
       "      <td>California</td>\n",
       "      <td>Sacramento</td>\n",
       "      <td>4000 block of May Street</td>\n",
       "      <td>0</td>\n",
       "      <td>4</td>\n",
       "      <td>0</td>\n",
       "      <td>0</td>\n",
       "      <td>0</td>\n",
       "      <td>NaN</td>\n",
       "    </tr>\n",
       "    <tr>\n",
       "      <th>3</th>\n",
       "      <td>269167</td>\n",
       "      <td>December 26, 2014</td>\n",
       "      <td>Illinois</td>\n",
       "      <td>East St. Louis</td>\n",
       "      <td>2500 block of Summit Avenue</td>\n",
       "      <td>1</td>\n",
       "      <td>3</td>\n",
       "      <td>0</td>\n",
       "      <td>0</td>\n",
       "      <td>0</td>\n",
       "      <td>NaN</td>\n",
       "    </tr>\n",
       "    <tr>\n",
       "      <th>4</th>\n",
       "      <td>268598</td>\n",
       "      <td>December 24, 2014</td>\n",
       "      <td>Missouri</td>\n",
       "      <td>Saint Louis</td>\n",
       "      <td>18th and Pine</td>\n",
       "      <td>1</td>\n",
       "      <td>3</td>\n",
       "      <td>0</td>\n",
       "      <td>0</td>\n",
       "      <td>0</td>\n",
       "      <td>NaN</td>\n",
       "    </tr>\n",
       "  </tbody>\n",
       "</table>\n",
       "</div>"
      ],
      "text/plain": [
       "  Incident ID      Incident Date       State  City Or County  \\\n",
       "0      271363  December 29, 2014   Louisiana     New Orleans   \n",
       "1      269679  December 27, 2014  California     Los Angeles   \n",
       "2      270036  December 27, 2014  California      Sacramento   \n",
       "3      269167  December 26, 2014    Illinois  East St. Louis   \n",
       "4      268598  December 24, 2014    Missouri     Saint Louis   \n",
       "\n",
       "                               Address Victims Killed Victims Injured  \\\n",
       "0                  Poydras and Bolivar              0               4   \n",
       "1  8800 block of South Figueroa Street              1               3   \n",
       "2             4000 block of May Street              0               4   \n",
       "3          2500 block of Summit Avenue              1               3   \n",
       "4                        18th and Pine              1               3   \n",
       "\n",
       "  Suspects Killed Suspects Injured Suspects Arrested Operations  \n",
       "0               0                0                 0        NaN  \n",
       "1               0                0                 0        NaN  \n",
       "2               0                0                 0        NaN  \n",
       "3               0                0                 0        NaN  \n",
       "4               0                0                 0        NaN  "
      ]
     },
     "execution_count": 31,
     "metadata": {},
     "output_type": "execute_result"
    }
   ],
   "source": [
    "# 2014 to 2022 data\n",
    "\n",
    "df0.head()"
   ]
  },
  {
   "cell_type": "code",
   "execution_count": 32,
   "id": "d163f9ca-bab6-4aff-b812-2b9dc68d516c",
   "metadata": {},
   "outputs": [
    {
     "name": "stdout",
     "output_type": "stream",
     "text": [
      "<class 'pandas.core.frame.DataFrame'>\n",
      "RangeIndex: 6028 entries, 0 to 6027\n",
      "Data columns (total 11 columns):\n",
      " #   Column             Non-Null Count  Dtype \n",
      "---  ------             --------------  ----- \n",
      " 0   Incident ID        6028 non-null   object\n",
      " 1   Incident Date      6028 non-null   object\n",
      " 2   State              6028 non-null   object\n",
      " 3   City Or County     6028 non-null   object\n",
      " 4   Address            6005 non-null   object\n",
      " 5   Victims Killed     6028 non-null   object\n",
      " 6   Victims Injured    6028 non-null   object\n",
      " 7   Suspects Killed    6028 non-null   object\n",
      " 8   Suspects Injured   6028 non-null   object\n",
      " 9   Suspects Arrested  6028 non-null   object\n",
      " 10  Operations         0 non-null      object\n",
      "dtypes: object(11)\n",
      "memory usage: 518.2+ KB\n"
     ]
    }
   ],
   "source": [
    "df0.info()"
   ]
  },
  {
   "cell_type": "markdown",
   "id": "62152bb7-6003-4325-9cd4-0e1de8c5fcff",
   "metadata": {},
   "source": [
    "- 23 address columns are empty\n",
    "- Operations columns is not required"
   ]
  },
  {
   "cell_type": "code",
   "execution_count": 33,
   "id": "6c9f0b00-f860-4ced-b9d8-7af9b2ac3141",
   "metadata": {},
   "outputs": [],
   "source": [
    "# keeping the original combined data intact and creating a copy\n",
    "\n",
    "df = df0.copy()"
   ]
  },
  {
   "cell_type": "code",
   "execution_count": 35,
   "id": "25ba9dcf-3c50-4e83-9c09-ef70cb543d00",
   "metadata": {},
   "outputs": [
    {
     "data": {
      "text/plain": [
       "(6028, 11)"
      ]
     },
     "execution_count": 35,
     "metadata": {},
     "output_type": "execute_result"
    }
   ],
   "source": [
    "df.shape"
   ]
  },
  {
   "cell_type": "markdown",
   "id": "df49dbcb-e463-44e3-b2b6-1688f16bbf58",
   "metadata": {},
   "source": [
    "## Analysing and Cleaning the combined data"
   ]
  },
  {
   "cell_type": "code",
   "execution_count": 38,
   "id": "2aeb97c1-eeff-49fc-a900-db8e9ba12f7a",
   "metadata": {},
   "outputs": [],
   "source": [
    "# dropping the Operations column\n",
    "\n",
    "df.drop(\"Operations\",axis=1,inplace = True)"
   ]
  },
  {
   "cell_type": "code",
   "execution_count": 106,
   "id": "07e4abdb-b0b4-41e8-9e88-5ceb780f7a5d",
   "metadata": {},
   "outputs": [
    {
     "data": {
      "text/html": [
       "<div>\n",
       "<style scoped>\n",
       "    .dataframe tbody tr th:only-of-type {\n",
       "        vertical-align: middle;\n",
       "    }\n",
       "\n",
       "    .dataframe tbody tr th {\n",
       "        vertical-align: top;\n",
       "    }\n",
       "\n",
       "    .dataframe thead th {\n",
       "        text-align: right;\n",
       "    }\n",
       "</style>\n",
       "<table border=\"1\" class=\"dataframe\">\n",
       "  <thead>\n",
       "    <tr style=\"text-align: right;\">\n",
       "      <th></th>\n",
       "      <th>Incident ID</th>\n",
       "      <th>Incident Date</th>\n",
       "      <th>State</th>\n",
       "      <th>City Or County</th>\n",
       "      <th>Address</th>\n",
       "      <th>Victims Killed</th>\n",
       "      <th>Victims Injured</th>\n",
       "      <th>Suspects Killed</th>\n",
       "      <th>Suspects Injured</th>\n",
       "      <th>Suspects Arrested</th>\n",
       "    </tr>\n",
       "  </thead>\n",
       "  <tbody>\n",
       "    <tr>\n",
       "      <th>0</th>\n",
       "      <td>271363</td>\n",
       "      <td>December 29, 2014</td>\n",
       "      <td>Louisiana</td>\n",
       "      <td>New Orleans</td>\n",
       "      <td>Poydras and Bolivar</td>\n",
       "      <td>0</td>\n",
       "      <td>4</td>\n",
       "      <td>0</td>\n",
       "      <td>0</td>\n",
       "      <td>0</td>\n",
       "    </tr>\n",
       "    <tr>\n",
       "      <th>1</th>\n",
       "      <td>269679</td>\n",
       "      <td>December 27, 2014</td>\n",
       "      <td>California</td>\n",
       "      <td>Los Angeles</td>\n",
       "      <td>8800 block of South Figueroa Street</td>\n",
       "      <td>1</td>\n",
       "      <td>3</td>\n",
       "      <td>0</td>\n",
       "      <td>0</td>\n",
       "      <td>0</td>\n",
       "    </tr>\n",
       "  </tbody>\n",
       "</table>\n",
       "</div>"
      ],
      "text/plain": [
       "  Incident ID      Incident Date       State City Or County  \\\n",
       "0      271363  December 29, 2014   Louisiana    New Orleans   \n",
       "1      269679  December 27, 2014  California    Los Angeles   \n",
       "\n",
       "                               Address Victims Killed Victims Injured  \\\n",
       "0                  Poydras and Bolivar              0               4   \n",
       "1  8800 block of South Figueroa Street              1               3   \n",
       "\n",
       "  Suspects Killed Suspects Injured Suspects Arrested  \n",
       "0               0                0                 0  \n",
       "1               0                0                 0  "
      ]
     },
     "execution_count": 106,
     "metadata": {},
     "output_type": "execute_result"
    }
   ],
   "source": [
    "df.head(2)"
   ]
  },
  {
   "cell_type": "markdown",
   "id": "dd637c53-568b-4064-a329-d6d6d336b9cf",
   "metadata": {},
   "source": [
    "- since all the data was combined, there will be duplicate rows."
   ]
  },
  {
   "cell_type": "code",
   "execution_count": 108,
   "id": "14122e1f-79a1-4d5a-89ef-74f3459f9b01",
   "metadata": {},
   "outputs": [],
   "source": [
    "# dropping duplicate values\n",
    "\n",
    "df.drop_duplicates(inplace = True)"
   ]
  },
  {
   "cell_type": "code",
   "execution_count": 110,
   "id": "83e9ed13-9554-4c52-92b2-ab963dd281d6",
   "metadata": {},
   "outputs": [
    {
     "data": {
      "text/html": [
       "<div>\n",
       "<style scoped>\n",
       "    .dataframe tbody tr th:only-of-type {\n",
       "        vertical-align: middle;\n",
       "    }\n",
       "\n",
       "    .dataframe tbody tr th {\n",
       "        vertical-align: top;\n",
       "    }\n",
       "\n",
       "    .dataframe thead th {\n",
       "        text-align: right;\n",
       "    }\n",
       "</style>\n",
       "<table border=\"1\" class=\"dataframe\">\n",
       "  <thead>\n",
       "    <tr style=\"text-align: right;\">\n",
       "      <th></th>\n",
       "      <th>Incident ID</th>\n",
       "      <th>Incident Date</th>\n",
       "      <th>State</th>\n",
       "      <th>City Or County</th>\n",
       "      <th>Address</th>\n",
       "      <th>Victims Killed</th>\n",
       "      <th>Victims Injured</th>\n",
       "      <th>Suspects Killed</th>\n",
       "      <th>Suspects Injured</th>\n",
       "      <th>Suspects Arrested</th>\n",
       "    </tr>\n",
       "  </thead>\n",
       "  <tbody>\n",
       "    <tr>\n",
       "      <th>0</th>\n",
       "      <td>271363</td>\n",
       "      <td>December 29, 2014</td>\n",
       "      <td>Louisiana</td>\n",
       "      <td>New Orleans</td>\n",
       "      <td>Poydras and Bolivar</td>\n",
       "      <td>0</td>\n",
       "      <td>4</td>\n",
       "      <td>0</td>\n",
       "      <td>0</td>\n",
       "      <td>0</td>\n",
       "    </tr>\n",
       "    <tr>\n",
       "      <th>1</th>\n",
       "      <td>269679</td>\n",
       "      <td>December 27, 2014</td>\n",
       "      <td>California</td>\n",
       "      <td>Los Angeles</td>\n",
       "      <td>8800 block of South Figueroa Street</td>\n",
       "      <td>1</td>\n",
       "      <td>3</td>\n",
       "      <td>0</td>\n",
       "      <td>0</td>\n",
       "      <td>0</td>\n",
       "    </tr>\n",
       "  </tbody>\n",
       "</table>\n",
       "</div>"
      ],
      "text/plain": [
       "  Incident ID      Incident Date       State City Or County  \\\n",
       "0      271363  December 29, 2014   Louisiana    New Orleans   \n",
       "1      269679  December 27, 2014  California    Los Angeles   \n",
       "\n",
       "                               Address Victims Killed Victims Injured  \\\n",
       "0                  Poydras and Bolivar              0               4   \n",
       "1  8800 block of South Figueroa Street              1               3   \n",
       "\n",
       "  Suspects Killed Suspects Injured Suspects Arrested  \n",
       "0               0                0                 0  \n",
       "1               0                0                 0  "
      ]
     },
     "execution_count": 110,
     "metadata": {},
     "output_type": "execute_result"
    }
   ],
   "source": [
    "df.head(2)"
   ]
  },
  {
   "cell_type": "code",
   "execution_count": 112,
   "id": "f9a0e85e-e08e-41fb-a7d9-061818bf15fc",
   "metadata": {},
   "outputs": [
    {
     "data": {
      "text/plain": [
       "(4521, 10)"
      ]
     },
     "execution_count": 112,
     "metadata": {},
     "output_type": "execute_result"
    }
   ],
   "source": [
    "# after removing duplicates, there are unique values and the no. of rows have reduced from 6028 to 4521\n",
    "\n",
    "df.shape"
   ]
  },
  {
   "cell_type": "code",
   "execution_count": 113,
   "id": "8090146e-86c1-4e72-beb8-c5710d29729f",
   "metadata": {},
   "outputs": [
    {
     "data": {
      "text/html": [
       "<div>\n",
       "<style scoped>\n",
       "    .dataframe tbody tr th:only-of-type {\n",
       "        vertical-align: middle;\n",
       "    }\n",
       "\n",
       "    .dataframe tbody tr th {\n",
       "        vertical-align: top;\n",
       "    }\n",
       "\n",
       "    .dataframe thead th {\n",
       "        text-align: right;\n",
       "    }\n",
       "</style>\n",
       "<table border=\"1\" class=\"dataframe\">\n",
       "  <thead>\n",
       "    <tr style=\"text-align: right;\">\n",
       "      <th></th>\n",
       "      <th>Incident ID</th>\n",
       "      <th>Incident Date</th>\n",
       "      <th>State</th>\n",
       "      <th>City Or County</th>\n",
       "      <th>Address</th>\n",
       "      <th>Victims Killed</th>\n",
       "      <th>Victims Injured</th>\n",
       "      <th>Suspects Killed</th>\n",
       "      <th>Suspects Injured</th>\n",
       "      <th>Suspects Arrested</th>\n",
       "    </tr>\n",
       "  </thead>\n",
       "  <tbody>\n",
       "    <tr>\n",
       "      <th>0</th>\n",
       "      <td>271363</td>\n",
       "      <td>December 29, 2014</td>\n",
       "      <td>Louisiana</td>\n",
       "      <td>New Orleans</td>\n",
       "      <td>Poydras and Bolivar</td>\n",
       "      <td>0</td>\n",
       "      <td>4</td>\n",
       "      <td>0</td>\n",
       "      <td>0</td>\n",
       "      <td>0</td>\n",
       "    </tr>\n",
       "    <tr>\n",
       "      <th>1</th>\n",
       "      <td>269679</td>\n",
       "      <td>December 27, 2014</td>\n",
       "      <td>California</td>\n",
       "      <td>Los Angeles</td>\n",
       "      <td>8800 block of South Figueroa Street</td>\n",
       "      <td>1</td>\n",
       "      <td>3</td>\n",
       "      <td>0</td>\n",
       "      <td>0</td>\n",
       "      <td>0</td>\n",
       "    </tr>\n",
       "    <tr>\n",
       "      <th>2</th>\n",
       "      <td>270036</td>\n",
       "      <td>December 27, 2014</td>\n",
       "      <td>California</td>\n",
       "      <td>Sacramento</td>\n",
       "      <td>4000 block of May Street</td>\n",
       "      <td>0</td>\n",
       "      <td>4</td>\n",
       "      <td>0</td>\n",
       "      <td>0</td>\n",
       "      <td>0</td>\n",
       "    </tr>\n",
       "    <tr>\n",
       "      <th>3</th>\n",
       "      <td>269167</td>\n",
       "      <td>December 26, 2014</td>\n",
       "      <td>Illinois</td>\n",
       "      <td>East St. Louis</td>\n",
       "      <td>2500 block of Summit Avenue</td>\n",
       "      <td>1</td>\n",
       "      <td>3</td>\n",
       "      <td>0</td>\n",
       "      <td>0</td>\n",
       "      <td>0</td>\n",
       "    </tr>\n",
       "    <tr>\n",
       "      <th>4</th>\n",
       "      <td>268598</td>\n",
       "      <td>December 24, 2014</td>\n",
       "      <td>Missouri</td>\n",
       "      <td>Saint Louis</td>\n",
       "      <td>18th and Pine</td>\n",
       "      <td>1</td>\n",
       "      <td>3</td>\n",
       "      <td>0</td>\n",
       "      <td>0</td>\n",
       "      <td>0</td>\n",
       "    </tr>\n",
       "  </tbody>\n",
       "</table>\n",
       "</div>"
      ],
      "text/plain": [
       "  Incident ID      Incident Date       State  City Or County  \\\n",
       "0      271363  December 29, 2014   Louisiana     New Orleans   \n",
       "1      269679  December 27, 2014  California     Los Angeles   \n",
       "2      270036  December 27, 2014  California      Sacramento   \n",
       "3      269167  December 26, 2014    Illinois  East St. Louis   \n",
       "4      268598  December 24, 2014    Missouri     Saint Louis   \n",
       "\n",
       "                               Address Victims Killed Victims Injured  \\\n",
       "0                  Poydras and Bolivar              0               4   \n",
       "1  8800 block of South Figueroa Street              1               3   \n",
       "2             4000 block of May Street              0               4   \n",
       "3          2500 block of Summit Avenue              1               3   \n",
       "4                        18th and Pine              1               3   \n",
       "\n",
       "  Suspects Killed Suspects Injured Suspects Arrested  \n",
       "0               0                0                 0  \n",
       "1               0                0                 0  \n",
       "2               0                0                 0  \n",
       "3               0                0                 0  \n",
       "4               0                0                 0  "
      ]
     },
     "execution_count": 113,
     "metadata": {},
     "output_type": "execute_result"
    }
   ],
   "source": [
    "df.head()"
   ]
  },
  {
   "cell_type": "code",
   "execution_count": 114,
   "id": "be5b5b66-6169-4e28-a73d-2ec69bdba332",
   "metadata": {},
   "outputs": [
    {
     "name": "stdout",
     "output_type": "stream",
     "text": [
      "<class 'pandas.core.frame.DataFrame'>\n",
      "Index: 4521 entries, 0 to 4520\n",
      "Data columns (total 10 columns):\n",
      " #   Column             Non-Null Count  Dtype \n",
      "---  ------             --------------  ----- \n",
      " 0   Incident ID        4521 non-null   object\n",
      " 1   Incident Date      4521 non-null   object\n",
      " 2   State              4521 non-null   object\n",
      " 3   City Or County     4521 non-null   object\n",
      " 4   Address            4507 non-null   object\n",
      " 5   Victims Killed     4521 non-null   object\n",
      " 6   Victims Injured    4521 non-null   object\n",
      " 7   Suspects Killed    4521 non-null   object\n",
      " 8   Suspects Injured   4521 non-null   object\n",
      " 9   Suspects Arrested  4521 non-null   object\n",
      "dtypes: object(10)\n",
      "memory usage: 388.5+ KB\n"
     ]
    }
   ],
   "source": [
    "df.info()"
   ]
  },
  {
   "cell_type": "markdown",
   "id": "1f1f809f-fad8-41fb-a41f-5b69f72d2284",
   "metadata": {},
   "source": [
    "### Datetime conversion"
   ]
  },
  {
   "cell_type": "markdown",
   "id": "edaee40f-3298-4dd7-a42c-11eae30062bc",
   "metadata": {},
   "source": [
    "* Converting the dates that are in string to datetime type"
   ]
  },
  {
   "cell_type": "code",
   "execution_count": 116,
   "id": "102d675c-ef66-472d-b080-f914af8e1bf4",
   "metadata": {},
   "outputs": [],
   "source": [
    "df['Incident Date'] = pd.to_datetime(df['Incident Date'])"
   ]
  },
  {
   "cell_type": "code",
   "execution_count": 117,
   "id": "681f20cb-2e84-4d94-873c-d3e60048f6db",
   "metadata": {},
   "outputs": [
    {
     "name": "stdout",
     "output_type": "stream",
     "text": [
      "<class 'pandas.core.frame.DataFrame'>\n",
      "Index: 4521 entries, 0 to 4520\n",
      "Data columns (total 10 columns):\n",
      " #   Column             Non-Null Count  Dtype         \n",
      "---  ------             --------------  -----         \n",
      " 0   Incident ID        4521 non-null   object        \n",
      " 1   Incident Date      4521 non-null   datetime64[ns]\n",
      " 2   State              4521 non-null   object        \n",
      " 3   City Or County     4521 non-null   object        \n",
      " 4   Address            4507 non-null   object        \n",
      " 5   Victims Killed     4521 non-null   object        \n",
      " 6   Victims Injured    4521 non-null   object        \n",
      " 7   Suspects Killed    4521 non-null   object        \n",
      " 8   Suspects Injured   4521 non-null   object        \n",
      " 9   Suspects Arrested  4521 non-null   object        \n",
      "dtypes: datetime64[ns](1), object(9)\n",
      "memory usage: 388.5+ KB\n"
     ]
    }
   ],
   "source": [
    "df.info()"
   ]
  },
  {
   "cell_type": "code",
   "execution_count": 118,
   "id": "3c9a91c6-c367-4345-a94e-db23fd1d0b49",
   "metadata": {},
   "outputs": [
    {
     "data": {
      "text/html": [
       "<div>\n",
       "<style scoped>\n",
       "    .dataframe tbody tr th:only-of-type {\n",
       "        vertical-align: middle;\n",
       "    }\n",
       "\n",
       "    .dataframe tbody tr th {\n",
       "        vertical-align: top;\n",
       "    }\n",
       "\n",
       "    .dataframe thead th {\n",
       "        text-align: right;\n",
       "    }\n",
       "</style>\n",
       "<table border=\"1\" class=\"dataframe\">\n",
       "  <thead>\n",
       "    <tr style=\"text-align: right;\">\n",
       "      <th></th>\n",
       "      <th>Incident ID</th>\n",
       "      <th>Incident Date</th>\n",
       "      <th>State</th>\n",
       "      <th>City Or County</th>\n",
       "      <th>Address</th>\n",
       "      <th>Victims Killed</th>\n",
       "      <th>Victims Injured</th>\n",
       "      <th>Suspects Killed</th>\n",
       "      <th>Suspects Injured</th>\n",
       "      <th>Suspects Arrested</th>\n",
       "    </tr>\n",
       "  </thead>\n",
       "  <tbody>\n",
       "    <tr>\n",
       "      <th>0</th>\n",
       "      <td>271363</td>\n",
       "      <td>2014-12-29</td>\n",
       "      <td>Louisiana</td>\n",
       "      <td>New Orleans</td>\n",
       "      <td>Poydras and Bolivar</td>\n",
       "      <td>0</td>\n",
       "      <td>4</td>\n",
       "      <td>0</td>\n",
       "      <td>0</td>\n",
       "      <td>0</td>\n",
       "    </tr>\n",
       "    <tr>\n",
       "      <th>1</th>\n",
       "      <td>269679</td>\n",
       "      <td>2014-12-27</td>\n",
       "      <td>California</td>\n",
       "      <td>Los Angeles</td>\n",
       "      <td>8800 block of South Figueroa Street</td>\n",
       "      <td>1</td>\n",
       "      <td>3</td>\n",
       "      <td>0</td>\n",
       "      <td>0</td>\n",
       "      <td>0</td>\n",
       "    </tr>\n",
       "    <tr>\n",
       "      <th>2</th>\n",
       "      <td>270036</td>\n",
       "      <td>2014-12-27</td>\n",
       "      <td>California</td>\n",
       "      <td>Sacramento</td>\n",
       "      <td>4000 block of May Street</td>\n",
       "      <td>0</td>\n",
       "      <td>4</td>\n",
       "      <td>0</td>\n",
       "      <td>0</td>\n",
       "      <td>0</td>\n",
       "    </tr>\n",
       "    <tr>\n",
       "      <th>3</th>\n",
       "      <td>269167</td>\n",
       "      <td>2014-12-26</td>\n",
       "      <td>Illinois</td>\n",
       "      <td>East St. Louis</td>\n",
       "      <td>2500 block of Summit Avenue</td>\n",
       "      <td>1</td>\n",
       "      <td>3</td>\n",
       "      <td>0</td>\n",
       "      <td>0</td>\n",
       "      <td>0</td>\n",
       "    </tr>\n",
       "    <tr>\n",
       "      <th>4</th>\n",
       "      <td>268598</td>\n",
       "      <td>2014-12-24</td>\n",
       "      <td>Missouri</td>\n",
       "      <td>Saint Louis</td>\n",
       "      <td>18th and Pine</td>\n",
       "      <td>1</td>\n",
       "      <td>3</td>\n",
       "      <td>0</td>\n",
       "      <td>0</td>\n",
       "      <td>0</td>\n",
       "    </tr>\n",
       "  </tbody>\n",
       "</table>\n",
       "</div>"
      ],
      "text/plain": [
       "  Incident ID Incident Date       State  City Or County  \\\n",
       "0      271363    2014-12-29   Louisiana     New Orleans   \n",
       "1      269679    2014-12-27  California     Los Angeles   \n",
       "2      270036    2014-12-27  California      Sacramento   \n",
       "3      269167    2014-12-26    Illinois  East St. Louis   \n",
       "4      268598    2014-12-24    Missouri     Saint Louis   \n",
       "\n",
       "                               Address Victims Killed Victims Injured  \\\n",
       "0                  Poydras and Bolivar              0               4   \n",
       "1  8800 block of South Figueroa Street              1               3   \n",
       "2             4000 block of May Street              0               4   \n",
       "3          2500 block of Summit Avenue              1               3   \n",
       "4                        18th and Pine              1               3   \n",
       "\n",
       "  Suspects Killed Suspects Injured Suspects Arrested  \n",
       "0               0                0                 0  \n",
       "1               0                0                 0  \n",
       "2               0                0                 0  \n",
       "3               0                0                 0  \n",
       "4               0                0                 0  "
      ]
     },
     "execution_count": 118,
     "metadata": {},
     "output_type": "execute_result"
    }
   ],
   "source": [
    "df.head()"
   ]
  },
  {
   "cell_type": "markdown",
   "id": "afd778b5-dc8f-4395-8229-4d4798958fa7",
   "metadata": {},
   "source": [
    "- checking if the incident ID is distinct"
   ]
  },
  {
   "cell_type": "code",
   "execution_count": 131,
   "id": "32a038bb-0f47-4712-9577-cb5b17bdcfa0",
   "metadata": {},
   "outputs": [
    {
     "data": {
      "text/plain": [
       "(4521,)"
      ]
     },
     "execution_count": 131,
     "metadata": {},
     "output_type": "execute_result"
    }
   ],
   "source": [
    "# Incident ID is unique; no duplicates\n",
    "\n",
    "df[\"Incident ID\"].unique().shape"
   ]
  },
  {
   "cell_type": "markdown",
   "id": "13621d64-df3d-46f6-ad99-4ff863f70392",
   "metadata": {},
   "source": [
    "## spliting the dataset for POWER BI consumption"
   ]
  },
  {
   "cell_type": "code",
   "execution_count": 143,
   "id": "c04062c3-4910-47ff-a999-d196cc6727a9",
   "metadata": {},
   "outputs": [
    {
     "data": {
      "text/plain": [
       "Index(['Incident ID', 'Incident Date', 'State', 'City Or County', 'Address',\n",
       "       'Victims Killed', 'Victims Injured', 'Suspects Killed',\n",
       "       'Suspects Injured', 'Suspects Arrested'],\n",
       "      dtype='object')"
      ]
     },
     "execution_count": 143,
     "metadata": {},
     "output_type": "execute_result"
    }
   ],
   "source": [
    "df.columns"
   ]
  },
  {
   "cell_type": "code",
   "execution_count": 145,
   "id": "e0cfe31e-ec3b-4988-9309-629668c98c33",
   "metadata": {},
   "outputs": [],
   "source": [
    "df_1 = df[['Incident ID', 'State', 'City Or County', 'Address']]\n",
    "df_2 = df[['Incident ID', 'Incident Date','Victims Killed', 'Victims Injured', 'Suspects Killed','Suspects Injured', 'Suspects Arrested']]"
   ]
  },
  {
   "cell_type": "code",
   "execution_count": 147,
   "id": "5bc37ef6-c14f-46fa-9bf2-0d1c22b5a7d7",
   "metadata": {},
   "outputs": [
    {
     "data": {
      "text/html": [
       "<div>\n",
       "<style scoped>\n",
       "    .dataframe tbody tr th:only-of-type {\n",
       "        vertical-align: middle;\n",
       "    }\n",
       "\n",
       "    .dataframe tbody tr th {\n",
       "        vertical-align: top;\n",
       "    }\n",
       "\n",
       "    .dataframe thead th {\n",
       "        text-align: right;\n",
       "    }\n",
       "</style>\n",
       "<table border=\"1\" class=\"dataframe\">\n",
       "  <thead>\n",
       "    <tr style=\"text-align: right;\">\n",
       "      <th></th>\n",
       "      <th>Incident ID</th>\n",
       "      <th>State</th>\n",
       "      <th>City Or County</th>\n",
       "      <th>Address</th>\n",
       "    </tr>\n",
       "  </thead>\n",
       "  <tbody>\n",
       "    <tr>\n",
       "      <th>0</th>\n",
       "      <td>271363</td>\n",
       "      <td>Louisiana</td>\n",
       "      <td>New Orleans</td>\n",
       "      <td>Poydras and Bolivar</td>\n",
       "    </tr>\n",
       "    <tr>\n",
       "      <th>1</th>\n",
       "      <td>269679</td>\n",
       "      <td>California</td>\n",
       "      <td>Los Angeles</td>\n",
       "      <td>8800 block of South Figueroa Street</td>\n",
       "    </tr>\n",
       "    <tr>\n",
       "      <th>2</th>\n",
       "      <td>270036</td>\n",
       "      <td>California</td>\n",
       "      <td>Sacramento</td>\n",
       "      <td>4000 block of May Street</td>\n",
       "    </tr>\n",
       "    <tr>\n",
       "      <th>3</th>\n",
       "      <td>269167</td>\n",
       "      <td>Illinois</td>\n",
       "      <td>East St. Louis</td>\n",
       "      <td>2500 block of Summit Avenue</td>\n",
       "    </tr>\n",
       "    <tr>\n",
       "      <th>4</th>\n",
       "      <td>268598</td>\n",
       "      <td>Missouri</td>\n",
       "      <td>Saint Louis</td>\n",
       "      <td>18th and Pine</td>\n",
       "    </tr>\n",
       "  </tbody>\n",
       "</table>\n",
       "</div>"
      ],
      "text/plain": [
       "  Incident ID       State  City Or County                              Address\n",
       "0      271363   Louisiana     New Orleans                  Poydras and Bolivar\n",
       "1      269679  California     Los Angeles  8800 block of South Figueroa Street\n",
       "2      270036  California      Sacramento             4000 block of May Street\n",
       "3      269167    Illinois  East St. Louis          2500 block of Summit Avenue\n",
       "4      268598    Missouri     Saint Louis                        18th and Pine"
      ]
     },
     "execution_count": 147,
     "metadata": {},
     "output_type": "execute_result"
    }
   ],
   "source": [
    "df_1.head()"
   ]
  },
  {
   "cell_type": "code",
   "execution_count": 148,
   "id": "4540986f-e2e1-430c-97ee-976a14dca2a5",
   "metadata": {},
   "outputs": [
    {
     "data": {
      "text/html": [
       "<div>\n",
       "<style scoped>\n",
       "    .dataframe tbody tr th:only-of-type {\n",
       "        vertical-align: middle;\n",
       "    }\n",
       "\n",
       "    .dataframe tbody tr th {\n",
       "        vertical-align: top;\n",
       "    }\n",
       "\n",
       "    .dataframe thead th {\n",
       "        text-align: right;\n",
       "    }\n",
       "</style>\n",
       "<table border=\"1\" class=\"dataframe\">\n",
       "  <thead>\n",
       "    <tr style=\"text-align: right;\">\n",
       "      <th></th>\n",
       "      <th>Incident ID</th>\n",
       "      <th>Incident Date</th>\n",
       "      <th>Victims Killed</th>\n",
       "      <th>Victims Injured</th>\n",
       "      <th>Suspects Killed</th>\n",
       "      <th>Suspects Injured</th>\n",
       "      <th>Suspects Arrested</th>\n",
       "    </tr>\n",
       "  </thead>\n",
       "  <tbody>\n",
       "    <tr>\n",
       "      <th>0</th>\n",
       "      <td>271363</td>\n",
       "      <td>2014-12-29</td>\n",
       "      <td>0</td>\n",
       "      <td>4</td>\n",
       "      <td>0</td>\n",
       "      <td>0</td>\n",
       "      <td>0</td>\n",
       "    </tr>\n",
       "    <tr>\n",
       "      <th>1</th>\n",
       "      <td>269679</td>\n",
       "      <td>2014-12-27</td>\n",
       "      <td>1</td>\n",
       "      <td>3</td>\n",
       "      <td>0</td>\n",
       "      <td>0</td>\n",
       "      <td>0</td>\n",
       "    </tr>\n",
       "    <tr>\n",
       "      <th>2</th>\n",
       "      <td>270036</td>\n",
       "      <td>2014-12-27</td>\n",
       "      <td>0</td>\n",
       "      <td>4</td>\n",
       "      <td>0</td>\n",
       "      <td>0</td>\n",
       "      <td>0</td>\n",
       "    </tr>\n",
       "    <tr>\n",
       "      <th>3</th>\n",
       "      <td>269167</td>\n",
       "      <td>2014-12-26</td>\n",
       "      <td>1</td>\n",
       "      <td>3</td>\n",
       "      <td>0</td>\n",
       "      <td>0</td>\n",
       "      <td>0</td>\n",
       "    </tr>\n",
       "    <tr>\n",
       "      <th>4</th>\n",
       "      <td>268598</td>\n",
       "      <td>2014-12-24</td>\n",
       "      <td>1</td>\n",
       "      <td>3</td>\n",
       "      <td>0</td>\n",
       "      <td>0</td>\n",
       "      <td>0</td>\n",
       "    </tr>\n",
       "  </tbody>\n",
       "</table>\n",
       "</div>"
      ],
      "text/plain": [
       "  Incident ID Incident Date Victims Killed Victims Injured Suspects Killed  \\\n",
       "0      271363    2014-12-29              0               4               0   \n",
       "1      269679    2014-12-27              1               3               0   \n",
       "2      270036    2014-12-27              0               4               0   \n",
       "3      269167    2014-12-26              1               3               0   \n",
       "4      268598    2014-12-24              1               3               0   \n",
       "\n",
       "  Suspects Injured Suspects Arrested  \n",
       "0                0                 0  \n",
       "1                0                 0  \n",
       "2                0                 0  \n",
       "3                0                 0  \n",
       "4                0                 0  "
      ]
     },
     "execution_count": 148,
     "metadata": {},
     "output_type": "execute_result"
    }
   ],
   "source": [
    "df_2.head()"
   ]
  },
  {
   "cell_type": "markdown",
   "id": "385c188b-3607-4b69-ab88-7d21f0aa3dab",
   "metadata": {},
   "source": [
    "## exporting the datasets to .csv for further analysis in POWER BI"
   ]
  },
  {
   "cell_type": "code",
   "execution_count": 149,
   "id": "50bdd23f-1dad-45c4-b8f3-f9d431d887b0",
   "metadata": {},
   "outputs": [],
   "source": [
    "# exporting data to local storage\n",
    "\n",
    "df.to_csv(r'C:\\Users\\pryns\\OneDrive\\Desktop\\Dataset\\Processed Dataset for POWER BI\\incidents_master.csv',index = False)\n",
    "df_1.to_csv(r'C:\\Users\\pryns\\OneDrive\\Desktop\\Dataset\\Processed Dataset for POWER BI\\incidents_geographic_location.csv',index = False)\n",
    "df_2.to_csv(r'C:\\Users\\pryns\\OneDrive\\Desktop\\Dataset\\Processed Dataset for POWER BI\\incidents_data.csv',index = False)"
   ]
  }
 ],
 "metadata": {
  "kernelspec": {
   "display_name": "general",
   "language": "python",
   "name": "general"
  },
  "language_info": {
   "codemirror_mode": {
    "name": "ipython",
    "version": 3
   },
   "file_extension": ".py",
   "mimetype": "text/x-python",
   "name": "python",
   "nbconvert_exporter": "python",
   "pygments_lexer": "ipython3",
   "version": "3.11.4"
  }
 },
 "nbformat": 4,
 "nbformat_minor": 5
}
