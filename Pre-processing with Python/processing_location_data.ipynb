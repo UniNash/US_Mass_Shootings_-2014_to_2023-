{
 "cells": [
  {
   "cell_type": "markdown",
   "id": "3a2ddf63-b2c4-4052-9c66-a7e785532856",
   "metadata": {},
   "source": [
    "# Checking/Analysing Location Data with main data"
   ]
  },
  {
   "cell_type": "markdown",
   "id": "5b47d094-236f-494d-afac-11d4c79fe810",
   "metadata": {},
   "source": [
    "The following items are needed for categorical analysis of mass shooting:\n",
    "- region\n",
    "- division\n",
    "- state\n",
    "- state_code\n",
    "- county\n",
    "- city    \n",
    "\n",
    "Check, analyse and match the geographic/location data with the main dataset and use it for analysis."
   ]
  },
  {
   "cell_type": "markdown",
   "id": "84d44bb3-c300-445b-b580-0808da746978",
   "metadata": {
    "jp-MarkdownHeadingCollapsed": true
   },
   "source": [
    "## Importing Required Libraries"
   ]
  },
  {
   "cell_type": "code",
   "execution_count": 1,
   "id": "3352b703-23e2-4e6f-83b7-26df8ab99600",
   "metadata": {},
   "outputs": [],
   "source": [
    "# importing the required libraries\n",
    "\n",
    "import pandas as pd\n",
    "import numpy as np"
   ]
  },
  {
   "cell_type": "markdown",
   "id": "b267d421-3ec8-46cd-b9eb-f75c5821f6c4",
   "metadata": {
    "jp-MarkdownHeadingCollapsed": true
   },
   "source": [
    "## Importing master List of States, counties and cities - I\n",
    "- source - `opendatasoft`"
   ]
  },
  {
   "cell_type": "code",
   "execution_count": 2,
   "id": "30fba19f-db66-40fb-bb24-d545cffff857",
   "metadata": {},
   "outputs": [],
   "source": [
    "path = r'C:\\Users\\pryns\\OneDrive\\Desktop\\Dataset\\Raw Dataset\\georef-united-states-of-america-zc-point@public.csv'"
   ]
  },
  {
   "cell_type": "code",
   "execution_count": 3,
   "id": "bac6cd43-f70d-4fc0-b79e-efc7167f5053",
   "metadata": {},
   "outputs": [],
   "source": [
    "geographic_data = pd.read_csv(path,delimiter = ';')"
   ]
  },
  {
   "cell_type": "code",
   "execution_count": 4,
   "id": "dade8231-88c1-4be1-8c47-1f084e673294",
   "metadata": {},
   "outputs": [
    {
     "data": {
      "text/html": [
       "<div>\n",
       "<style scoped>\n",
       "    .dataframe tbody tr th:only-of-type {\n",
       "        vertical-align: middle;\n",
       "    }\n",
       "\n",
       "    .dataframe tbody tr th {\n",
       "        vertical-align: top;\n",
       "    }\n",
       "\n",
       "    .dataframe thead th {\n",
       "        text-align: right;\n",
       "    }\n",
       "</style>\n",
       "<table border=\"1\" class=\"dataframe\">\n",
       "  <thead>\n",
       "    <tr style=\"text-align: right;\">\n",
       "      <th></th>\n",
       "      <th>Zip Code</th>\n",
       "      <th>Official USPS city name</th>\n",
       "      <th>Official USPS State Code</th>\n",
       "      <th>Official State Name</th>\n",
       "      <th>ZCTA</th>\n",
       "      <th>ZCTA parent</th>\n",
       "      <th>Population</th>\n",
       "      <th>Density</th>\n",
       "      <th>Primary Official County Code</th>\n",
       "      <th>Primary Official County Name</th>\n",
       "      <th>County Weights</th>\n",
       "      <th>Official County Name</th>\n",
       "      <th>Official County Code</th>\n",
       "      <th>Imprecise</th>\n",
       "      <th>Military</th>\n",
       "      <th>Timezone</th>\n",
       "      <th>Geo Point</th>\n",
       "    </tr>\n",
       "  </thead>\n",
       "  <tbody>\n",
       "    <tr>\n",
       "      <th>0</th>\n",
       "      <td>90005</td>\n",
       "      <td>Los Angeles</td>\n",
       "      <td>CA</td>\n",
       "      <td>California</td>\n",
       "      <td>True</td>\n",
       "      <td>NaN</td>\n",
       "      <td>39732.0</td>\n",
       "      <td>14151.8</td>\n",
       "      <td>6037</td>\n",
       "      <td>Los Angeles</td>\n",
       "      <td>{\"06037\": \"100\"}</td>\n",
       "      <td>Los Angeles</td>\n",
       "      <td>6037</td>\n",
       "      <td>False</td>\n",
       "      <td>False</td>\n",
       "      <td>America/Los_Angeles</td>\n",
       "      <td>34.05912, -118.30654</td>\n",
       "    </tr>\n",
       "    <tr>\n",
       "      <th>1</th>\n",
       "      <td>90006</td>\n",
       "      <td>Los Angeles</td>\n",
       "      <td>CA</td>\n",
       "      <td>California</td>\n",
       "      <td>True</td>\n",
       "      <td>NaN</td>\n",
       "      <td>59576.0</td>\n",
       "      <td>11981.7</td>\n",
       "      <td>6037</td>\n",
       "      <td>Los Angeles</td>\n",
       "      <td>{\"06037\": \"100\"}</td>\n",
       "      <td>Los Angeles</td>\n",
       "      <td>6037</td>\n",
       "      <td>False</td>\n",
       "      <td>False</td>\n",
       "      <td>America/Los_Angeles</td>\n",
       "      <td>34.04801, -118.29418</td>\n",
       "    </tr>\n",
       "    <tr>\n",
       "      <th>2</th>\n",
       "      <td>90008</td>\n",
       "      <td>Los Angeles</td>\n",
       "      <td>CA</td>\n",
       "      <td>California</td>\n",
       "      <td>True</td>\n",
       "      <td>NaN</td>\n",
       "      <td>31754.0</td>\n",
       "      <td>3337.9</td>\n",
       "      <td>6037</td>\n",
       "      <td>Los Angeles</td>\n",
       "      <td>{\"06037\": \"100\"}</td>\n",
       "      <td>Los Angeles</td>\n",
       "      <td>6037</td>\n",
       "      <td>False</td>\n",
       "      <td>False</td>\n",
       "      <td>America/Los_Angeles</td>\n",
       "      <td>34.00956, -118.34706</td>\n",
       "    </tr>\n",
       "    <tr>\n",
       "      <th>3</th>\n",
       "      <td>90040</td>\n",
       "      <td>Los Angeles</td>\n",
       "      <td>CA</td>\n",
       "      <td>California</td>\n",
       "      <td>True</td>\n",
       "      <td>NaN</td>\n",
       "      <td>12328.0</td>\n",
       "      <td>852.8</td>\n",
       "      <td>6037</td>\n",
       "      <td>Los Angeles</td>\n",
       "      <td>{\"06037\": \"100\"}</td>\n",
       "      <td>Los Angeles</td>\n",
       "      <td>6037</td>\n",
       "      <td>False</td>\n",
       "      <td>False</td>\n",
       "      <td>America/Los_Angeles</td>\n",
       "      <td>33.99353, -118.14907</td>\n",
       "    </tr>\n",
       "    <tr>\n",
       "      <th>4</th>\n",
       "      <td>90045</td>\n",
       "      <td>Los Angeles</td>\n",
       "      <td>CA</td>\n",
       "      <td>California</td>\n",
       "      <td>True</td>\n",
       "      <td>NaN</td>\n",
       "      <td>40567.0</td>\n",
       "      <td>1459.6</td>\n",
       "      <td>6037</td>\n",
       "      <td>Los Angeles</td>\n",
       "      <td>{\"06037\": \"100\"}</td>\n",
       "      <td>Los Angeles</td>\n",
       "      <td>6037</td>\n",
       "      <td>False</td>\n",
       "      <td>False</td>\n",
       "      <td>America/Los_Angeles</td>\n",
       "      <td>33.95297, -118.40014</td>\n",
       "    </tr>\n",
       "  </tbody>\n",
       "</table>\n",
       "</div>"
      ],
      "text/plain": [
       "   Zip Code Official USPS city name Official USPS State Code  \\\n",
       "0     90005             Los Angeles                       CA   \n",
       "1     90006             Los Angeles                       CA   \n",
       "2     90008             Los Angeles                       CA   \n",
       "3     90040             Los Angeles                       CA   \n",
       "4     90045             Los Angeles                       CA   \n",
       "\n",
       "  Official State Name  ZCTA  ZCTA parent  Population  Density  \\\n",
       "0          California  True          NaN     39732.0  14151.8   \n",
       "1          California  True          NaN     59576.0  11981.7   \n",
       "2          California  True          NaN     31754.0   3337.9   \n",
       "3          California  True          NaN     12328.0    852.8   \n",
       "4          California  True          NaN     40567.0   1459.6   \n",
       "\n",
       "   Primary Official County Code Primary Official County Name  \\\n",
       "0                          6037                  Los Angeles   \n",
       "1                          6037                  Los Angeles   \n",
       "2                          6037                  Los Angeles   \n",
       "3                          6037                  Los Angeles   \n",
       "4                          6037                  Los Angeles   \n",
       "\n",
       "     County Weights Official County Name Official County Code  Imprecise  \\\n",
       "0  {\"06037\": \"100\"}          Los Angeles                 6037      False   \n",
       "1  {\"06037\": \"100\"}          Los Angeles                 6037      False   \n",
       "2  {\"06037\": \"100\"}          Los Angeles                 6037      False   \n",
       "3  {\"06037\": \"100\"}          Los Angeles                 6037      False   \n",
       "4  {\"06037\": \"100\"}          Los Angeles                 6037      False   \n",
       "\n",
       "   Military             Timezone             Geo Point  \n",
       "0     False  America/Los_Angeles  34.05912, -118.30654  \n",
       "1     False  America/Los_Angeles  34.04801, -118.29418  \n",
       "2     False  America/Los_Angeles  34.00956, -118.34706  \n",
       "3     False  America/Los_Angeles  33.99353, -118.14907  \n",
       "4     False  America/Los_Angeles  33.95297, -118.40014  "
      ]
     },
     "execution_count": 4,
     "metadata": {},
     "output_type": "execute_result"
    }
   ],
   "source": [
    "geographic_data.head()"
   ]
  },
  {
   "cell_type": "markdown",
   "id": "92c320b3-ad9c-4e66-bcc7-b1081bbf9a6c",
   "metadata": {},
   "source": [
    "* above data has lots of information we need only the state, city and its county information\n",
    "* creating a new dataframe below for the required information"
   ]
  },
  {
   "cell_type": "code",
   "execution_count": 5,
   "id": "be5abdcb-bfff-41cf-8364-0678e6e77598",
   "metadata": {},
   "outputs": [],
   "source": [
    "geographic_data_1 = geographic_data[['Official USPS city name', 'Official USPS State Code','Official State Name','Primary Official County Name']].copy()"
   ]
  },
  {
   "cell_type": "code",
   "execution_count": 6,
   "id": "9d23bb98-126e-4b97-a917-b3334525417a",
   "metadata": {},
   "outputs": [],
   "source": [
    "# dropping duplicates\n",
    "geographic_data_1.drop_duplicates(inplace = True)"
   ]
  },
  {
   "cell_type": "code",
   "execution_count": 7,
   "id": "10054fbe-f6dc-44e5-88cd-5d1b54cb0eef",
   "metadata": {},
   "outputs": [
    {
     "data": {
      "text/html": [
       "<div>\n",
       "<style scoped>\n",
       "    .dataframe tbody tr th:only-of-type {\n",
       "        vertical-align: middle;\n",
       "    }\n",
       "\n",
       "    .dataframe tbody tr th {\n",
       "        vertical-align: top;\n",
       "    }\n",
       "\n",
       "    .dataframe thead th {\n",
       "        text-align: right;\n",
       "    }\n",
       "</style>\n",
       "<table border=\"1\" class=\"dataframe\">\n",
       "  <thead>\n",
       "    <tr style=\"text-align: right;\">\n",
       "      <th></th>\n",
       "      <th>Official USPS city name</th>\n",
       "      <th>Official USPS State Code</th>\n",
       "      <th>Official State Name</th>\n",
       "      <th>Primary Official County Name</th>\n",
       "    </tr>\n",
       "  </thead>\n",
       "  <tbody>\n",
       "    <tr>\n",
       "      <th>0</th>\n",
       "      <td>Los Angeles</td>\n",
       "      <td>CA</td>\n",
       "      <td>California</td>\n",
       "      <td>Los Angeles</td>\n",
       "    </tr>\n",
       "    <tr>\n",
       "      <th>5</th>\n",
       "      <td>Santa Monica</td>\n",
       "      <td>CA</td>\n",
       "      <td>California</td>\n",
       "      <td>Los Angeles</td>\n",
       "    </tr>\n",
       "    <tr>\n",
       "      <th>6</th>\n",
       "      <td>Torrance</td>\n",
       "      <td>CA</td>\n",
       "      <td>California</td>\n",
       "      <td>Los Angeles</td>\n",
       "    </tr>\n",
       "    <tr>\n",
       "      <th>7</th>\n",
       "      <td>Lomita</td>\n",
       "      <td>CA</td>\n",
       "      <td>California</td>\n",
       "      <td>Los Angeles</td>\n",
       "    </tr>\n",
       "    <tr>\n",
       "      <th>8</th>\n",
       "      <td>Long Beach</td>\n",
       "      <td>CA</td>\n",
       "      <td>California</td>\n",
       "      <td>Los Angeles</td>\n",
       "    </tr>\n",
       "  </tbody>\n",
       "</table>\n",
       "</div>"
      ],
      "text/plain": [
       "  Official USPS city name Official USPS State Code Official State Name  \\\n",
       "0             Los Angeles                       CA          California   \n",
       "5            Santa Monica                       CA          California   \n",
       "6                Torrance                       CA          California   \n",
       "7                  Lomita                       CA          California   \n",
       "8              Long Beach                       CA          California   \n",
       "\n",
       "  Primary Official County Name  \n",
       "0                  Los Angeles  \n",
       "5                  Los Angeles  \n",
       "6                  Los Angeles  \n",
       "7                  Los Angeles  \n",
       "8                  Los Angeles  "
      ]
     },
     "execution_count": 7,
     "metadata": {},
     "output_type": "execute_result"
    }
   ],
   "source": [
    "geographic_data_1.head()"
   ]
  },
  {
   "cell_type": "code",
   "execution_count": 8,
   "id": "e456d6da-7966-4907-a406-6ad7dc32b53c",
   "metadata": {},
   "outputs": [
    {
     "data": {
      "text/html": [
       "<div>\n",
       "<style scoped>\n",
       "    .dataframe tbody tr th:only-of-type {\n",
       "        vertical-align: middle;\n",
       "    }\n",
       "\n",
       "    .dataframe tbody tr th {\n",
       "        vertical-align: top;\n",
       "    }\n",
       "\n",
       "    .dataframe thead th {\n",
       "        text-align: right;\n",
       "    }\n",
       "</style>\n",
       "<table border=\"1\" class=\"dataframe\">\n",
       "  <thead>\n",
       "    <tr style=\"text-align: right;\">\n",
       "      <th></th>\n",
       "      <th>Official USPS city name</th>\n",
       "      <th>Official USPS State Code</th>\n",
       "      <th>Official State Name</th>\n",
       "      <th>Primary Official County Name</th>\n",
       "    </tr>\n",
       "  </thead>\n",
       "  <tbody>\n",
       "    <tr>\n",
       "      <th>0</th>\n",
       "      <td>Los Angeles</td>\n",
       "      <td>CA</td>\n",
       "      <td>California</td>\n",
       "      <td>Los Angeles</td>\n",
       "    </tr>\n",
       "    <tr>\n",
       "      <th>5</th>\n",
       "      <td>Santa Monica</td>\n",
       "      <td>CA</td>\n",
       "      <td>California</td>\n",
       "      <td>Los Angeles</td>\n",
       "    </tr>\n",
       "    <tr>\n",
       "      <th>6</th>\n",
       "      <td>Torrance</td>\n",
       "      <td>CA</td>\n",
       "      <td>California</td>\n",
       "      <td>Los Angeles</td>\n",
       "    </tr>\n",
       "    <tr>\n",
       "      <th>7</th>\n",
       "      <td>Lomita</td>\n",
       "      <td>CA</td>\n",
       "      <td>California</td>\n",
       "      <td>Los Angeles</td>\n",
       "    </tr>\n",
       "    <tr>\n",
       "      <th>8</th>\n",
       "      <td>Long Beach</td>\n",
       "      <td>CA</td>\n",
       "      <td>California</td>\n",
       "      <td>Los Angeles</td>\n",
       "    </tr>\n",
       "    <tr>\n",
       "      <th>...</th>\n",
       "      <td>...</td>\n",
       "      <td>...</td>\n",
       "      <td>...</td>\n",
       "      <td>...</td>\n",
       "    </tr>\n",
       "    <tr>\n",
       "      <th>33115</th>\n",
       "      <td>Deer Harbor</td>\n",
       "      <td>WA</td>\n",
       "      <td>Washington</td>\n",
       "      <td>San Juan</td>\n",
       "    </tr>\n",
       "    <tr>\n",
       "      <th>33116</th>\n",
       "      <td>Marblemount</td>\n",
       "      <td>WA</td>\n",
       "      <td>Washington</td>\n",
       "      <td>Skagit</td>\n",
       "    </tr>\n",
       "    <tr>\n",
       "      <th>33117</th>\n",
       "      <td>Sedro Woolley</td>\n",
       "      <td>WA</td>\n",
       "      <td>Washington</td>\n",
       "      <td>Skagit</td>\n",
       "    </tr>\n",
       "    <tr>\n",
       "      <th>33119</th>\n",
       "      <td>Lakebay</td>\n",
       "      <td>WA</td>\n",
       "      <td>Washington</td>\n",
       "      <td>Pierce</td>\n",
       "    </tr>\n",
       "    <tr>\n",
       "      <th>33120</th>\n",
       "      <td>Poulsbo</td>\n",
       "      <td>WA</td>\n",
       "      <td>Washington</td>\n",
       "      <td>Kitsap</td>\n",
       "    </tr>\n",
       "  </tbody>\n",
       "</table>\n",
       "<p>27765 rows × 4 columns</p>\n",
       "</div>"
      ],
      "text/plain": [
       "      Official USPS city name Official USPS State Code Official State Name  \\\n",
       "0                 Los Angeles                       CA          California   \n",
       "5                Santa Monica                       CA          California   \n",
       "6                    Torrance                       CA          California   \n",
       "7                      Lomita                       CA          California   \n",
       "8                  Long Beach                       CA          California   \n",
       "...                       ...                      ...                 ...   \n",
       "33115             Deer Harbor                       WA          Washington   \n",
       "33116             Marblemount                       WA          Washington   \n",
       "33117           Sedro Woolley                       WA          Washington   \n",
       "33119                 Lakebay                       WA          Washington   \n",
       "33120                 Poulsbo                       WA          Washington   \n",
       "\n",
       "      Primary Official County Name  \n",
       "0                      Los Angeles  \n",
       "5                      Los Angeles  \n",
       "6                      Los Angeles  \n",
       "7                      Los Angeles  \n",
       "8                      Los Angeles  \n",
       "...                            ...  \n",
       "33115                     San Juan  \n",
       "33116                       Skagit  \n",
       "33117                       Skagit  \n",
       "33119                       Pierce  \n",
       "33120                       Kitsap  \n",
       "\n",
       "[27765 rows x 4 columns]"
      ]
     },
     "execution_count": 8,
     "metadata": {},
     "output_type": "execute_result"
    }
   ],
   "source": [
    "geographic_data_1"
   ]
  },
  {
   "cell_type": "markdown",
   "id": "0f2d711e-2032-4d18-b926-b828abac0417",
   "metadata": {},
   "source": [
    "* getting the unique list of state and city or county data from the original gun violence data to match and get the correct county information"
   ]
  },
  {
   "cell_type": "code",
   "execution_count": 9,
   "id": "99c52f82-53b2-4022-bc30-9712aa69883f",
   "metadata": {},
   "outputs": [
    {
     "data": {
      "text/plain": [
       "array(['California', 'Hawaii', 'Guam', 'Oregon', 'Washington',\n",
       "       'South Dakota', 'Puerto Rico', 'Massachusetts', 'Rhode Island',\n",
       "       'New Hampshire', 'Maine', 'Vermont', 'Connecticut', 'New Jersey',\n",
       "       'New York', 'Pennsylvania', 'Delaware', 'District of Columbia',\n",
       "       'Virginia', 'Maryland', 'West Virginia', 'North Carolina',\n",
       "       'South Carolina', 'Georgia', 'Florida', 'Alabama', 'Tennessee',\n",
       "       'Mississippi', 'Kentucky', 'Ohio', 'Indiana', 'Michigan', 'Iowa',\n",
       "       'Wisconsin', 'Minnesota', 'North Dakota', 'Montana', 'Illinois',\n",
       "       'Missouri', 'Kansas', 'Nebraska', 'Louisiana', 'Arkansas',\n",
       "       'Oklahoma', 'Texas', 'Colorado', 'Wyoming', 'Idaho', 'Utah',\n",
       "       'Arizona', 'New Mexico', 'Nevada', 'Alaska',\n",
       "       'Northern Mariana Islands', 'Virgin Islands', 'American Samoa'],\n",
       "      dtype=object)"
      ]
     },
     "execution_count": 9,
     "metadata": {},
     "output_type": "execute_result"
    }
   ],
   "source": [
    "geographic_data_1['Official State Name'].unique()"
   ]
  },
  {
   "cell_type": "code",
   "execution_count": 10,
   "id": "f4a2878e-52be-463f-87d5-fe0074eca706",
   "metadata": {},
   "outputs": [
    {
     "data": {
      "text/plain": [
       "array(['CA', 'HI', 'GU', 'OR', 'WA', 'SD', 'PR', 'MA', 'RI', 'NH', 'ME',\n",
       "       'VT', 'CT', 'NJ', 'NY', 'PA', 'DE', 'DC', 'VA', 'MD', 'WV', 'NC',\n",
       "       'SC', 'GA', 'FL', 'AL', 'TN', 'MS', 'KY', 'OH', 'IN', 'MI', 'IA',\n",
       "       'WI', 'MN', 'ND', 'MT', 'IL', 'MO', 'KS', 'NE', 'LA', 'AR', 'OK',\n",
       "       'TX', 'CO', 'WY', 'ID', 'UT', 'AZ', 'NM', 'NV', 'AK', 'MP', 'VI',\n",
       "       'AS'], dtype=object)"
      ]
     },
     "execution_count": 10,
     "metadata": {},
     "output_type": "execute_result"
    }
   ],
   "source": [
    "geographic_data_1['Official USPS State Code'].unique()"
   ]
  },
  {
   "cell_type": "markdown",
   "id": "3db9bd77-1797-42ac-b70e-c8e3994c4a1e",
   "metadata": {},
   "source": [
    "## Importing region data\n",
    "- source - `Centers for Disease Control and Prevention`"
   ]
  },
  {
   "cell_type": "code",
   "execution_count": 11,
   "id": "01b0f3d1-4364-46d9-be1a-5e37a963a477",
   "metadata": {},
   "outputs": [],
   "source": [
    "region_data = pd.read_csv(r'C:\\Users\\pryns\\OneDrive\\Desktop\\Dataset\\Raw Dataset\\us_census_bureau_regions_divisions.csv')"
   ]
  },
  {
   "cell_type": "code",
   "execution_count": 12,
   "id": "29c57d6b-1960-4f5f-a06c-47dfab7ff528",
   "metadata": {},
   "outputs": [
    {
     "data": {
      "text/html": [
       "<div>\n",
       "<style scoped>\n",
       "    .dataframe tbody tr th:only-of-type {\n",
       "        vertical-align: middle;\n",
       "    }\n",
       "\n",
       "    .dataframe tbody tr th {\n",
       "        vertical-align: top;\n",
       "    }\n",
       "\n",
       "    .dataframe thead th {\n",
       "        text-align: right;\n",
       "    }\n",
       "</style>\n",
       "<table border=\"1\" class=\"dataframe\">\n",
       "  <thead>\n",
       "    <tr style=\"text-align: right;\">\n",
       "      <th></th>\n",
       "      <th>State</th>\n",
       "      <th>State Code</th>\n",
       "      <th>Region</th>\n",
       "      <th>Division</th>\n",
       "    </tr>\n",
       "  </thead>\n",
       "  <tbody>\n",
       "    <tr>\n",
       "      <th>0</th>\n",
       "      <td>Illinois</td>\n",
       "      <td>IL</td>\n",
       "      <td>Midwest</td>\n",
       "      <td>East North Central</td>\n",
       "    </tr>\n",
       "    <tr>\n",
       "      <th>1</th>\n",
       "      <td>Indiana</td>\n",
       "      <td>IN</td>\n",
       "      <td>Midwest</td>\n",
       "      <td>East North Central</td>\n",
       "    </tr>\n",
       "    <tr>\n",
       "      <th>2</th>\n",
       "      <td>Michigan</td>\n",
       "      <td>MI</td>\n",
       "      <td>Midwest</td>\n",
       "      <td>East North Central</td>\n",
       "    </tr>\n",
       "    <tr>\n",
       "      <th>3</th>\n",
       "      <td>Ohio</td>\n",
       "      <td>OH</td>\n",
       "      <td>Midwest</td>\n",
       "      <td>East North Central</td>\n",
       "    </tr>\n",
       "    <tr>\n",
       "      <th>4</th>\n",
       "      <td>Wisconsin</td>\n",
       "      <td>WI</td>\n",
       "      <td>Midwest</td>\n",
       "      <td>East North Central</td>\n",
       "    </tr>\n",
       "  </tbody>\n",
       "</table>\n",
       "</div>"
      ],
      "text/plain": [
       "       State State Code   Region            Division\n",
       "0   Illinois         IL  Midwest  East North Central\n",
       "1    Indiana         IN  Midwest  East North Central\n",
       "2   Michigan         MI  Midwest  East North Central\n",
       "3       Ohio         OH  Midwest  East North Central\n",
       "4  Wisconsin         WI  Midwest  East North Central"
      ]
     },
     "execution_count": 12,
     "metadata": {},
     "output_type": "execute_result"
    }
   ],
   "source": [
    "region_data.head()"
   ]
  },
  {
   "cell_type": "code",
   "execution_count": 13,
   "id": "770e4199-d7e4-47f5-adc7-1d5abd513cdd",
   "metadata": {},
   "outputs": [
    {
     "data": {
      "text/plain": [
       "(51,)"
      ]
     },
     "execution_count": 13,
     "metadata": {},
     "output_type": "execute_result"
    }
   ],
   "source": [
    "region_data.State.unique().shape"
   ]
  },
  {
   "cell_type": "markdown",
   "id": "f54a1a45-b20b-4675-b49f-7afa304d683d",
   "metadata": {
    "jp-MarkdownHeadingCollapsed": true
   },
   "source": [
    "## Importing main incident data regional "
   ]
  },
  {
   "cell_type": "code",
   "execution_count": 14,
   "id": "6612c745-b51d-4525-b207-f19c39f7e58b",
   "metadata": {},
   "outputs": [],
   "source": [
    "incident_geographic_data = pd.read_csv(r'C:\\Users\\pryns\\OneDrive\\Desktop\\Dataset\\Processed Dataset for POWER BI\\incidents_location.csv')"
   ]
  },
  {
   "cell_type": "code",
   "execution_count": 15,
   "id": "04b7e723-d4e4-4a55-850d-bc18bc6c3f08",
   "metadata": {},
   "outputs": [
    {
     "data": {
      "text/html": [
       "<div>\n",
       "<style scoped>\n",
       "    .dataframe tbody tr th:only-of-type {\n",
       "        vertical-align: middle;\n",
       "    }\n",
       "\n",
       "    .dataframe tbody tr th {\n",
       "        vertical-align: top;\n",
       "    }\n",
       "\n",
       "    .dataframe thead th {\n",
       "        text-align: right;\n",
       "    }\n",
       "</style>\n",
       "<table border=\"1\" class=\"dataframe\">\n",
       "  <thead>\n",
       "    <tr style=\"text-align: right;\">\n",
       "      <th></th>\n",
       "      <th>Incident ID</th>\n",
       "      <th>State</th>\n",
       "      <th>City Or County</th>\n",
       "      <th>Address</th>\n",
       "    </tr>\n",
       "  </thead>\n",
       "  <tbody>\n",
       "    <tr>\n",
       "      <th>0</th>\n",
       "      <td>271363</td>\n",
       "      <td>Louisiana</td>\n",
       "      <td>New Orleans</td>\n",
       "      <td>Poydras and Bolivar</td>\n",
       "    </tr>\n",
       "    <tr>\n",
       "      <th>1</th>\n",
       "      <td>269679</td>\n",
       "      <td>California</td>\n",
       "      <td>Los Angeles</td>\n",
       "      <td>8800 block of South Figueroa Street</td>\n",
       "    </tr>\n",
       "    <tr>\n",
       "      <th>2</th>\n",
       "      <td>270036</td>\n",
       "      <td>California</td>\n",
       "      <td>Sacramento</td>\n",
       "      <td>4000 block of May Street</td>\n",
       "    </tr>\n",
       "    <tr>\n",
       "      <th>3</th>\n",
       "      <td>269167</td>\n",
       "      <td>Illinois</td>\n",
       "      <td>East St. Louis</td>\n",
       "      <td>2500 block of Summit Avenue</td>\n",
       "    </tr>\n",
       "    <tr>\n",
       "      <th>4</th>\n",
       "      <td>268598</td>\n",
       "      <td>Missouri</td>\n",
       "      <td>Saint Louis</td>\n",
       "      <td>18th and Pine</td>\n",
       "    </tr>\n",
       "  </tbody>\n",
       "</table>\n",
       "</div>"
      ],
      "text/plain": [
       "   Incident ID       State  City Or County  \\\n",
       "0       271363   Louisiana     New Orleans   \n",
       "1       269679  California     Los Angeles   \n",
       "2       270036  California      Sacramento   \n",
       "3       269167    Illinois  East St. Louis   \n",
       "4       268598    Missouri     Saint Louis   \n",
       "\n",
       "                               Address  \n",
       "0                  Poydras and Bolivar  \n",
       "1  8800 block of South Figueroa Street  \n",
       "2             4000 block of May Street  \n",
       "3          2500 block of Summit Avenue  \n",
       "4                        18th and Pine  "
      ]
     },
     "execution_count": 15,
     "metadata": {},
     "output_type": "execute_result"
    }
   ],
   "source": [
    "incident_geographic_data.head()"
   ]
  },
  {
   "cell_type": "code",
   "execution_count": 16,
   "id": "e6281bdf-c20f-4df2-aceb-1a9cd25f34d2",
   "metadata": {},
   "outputs": [
    {
     "data": {
      "text/plain": [
       "array(['Louisiana', 'California', 'Illinois', 'Missouri', 'Kentucky',\n",
       "       'Michigan', 'New York', 'Florida', 'Mississippi', 'New Jersey',\n",
       "       'Pennsylvania', 'Oregon', 'Indiana', 'Virginia', 'Tennessee',\n",
       "       'Georgia', 'Texas', 'Colorado', 'Ohio', 'South Dakota', 'Nevada',\n",
       "       'Washington', 'South Carolina', 'Alaska', 'Massachusetts', 'Utah',\n",
       "       'District of Columbia', 'Minnesota', 'New Mexico', 'Wisconsin',\n",
       "       'North Carolina', 'Maine', 'Arkansas', 'Connecticut',\n",
       "       'Rhode Island', 'Maryland', 'Alabama', 'Oklahoma', 'Arizona',\n",
       "       'Nebraska', 'Iowa', 'Vermont', 'Delaware', 'Montana', 'Kansas',\n",
       "       'West Virginia', 'Wyoming', 'Idaho', 'North Dakota',\n",
       "       'New Hampshire', 'Hawaii'], dtype=object)"
      ]
     },
     "execution_count": 16,
     "metadata": {},
     "output_type": "execute_result"
    }
   ],
   "source": [
    "incident_geographic_data.State.unique()"
   ]
  },
  {
   "cell_type": "markdown",
   "id": "16269c6a-f414-44cd-85e5-a209c7b943ee",
   "metadata": {
    "jp-MarkdownHeadingCollapsed": true
   },
   "source": [
    "## Importing master List of States"
   ]
  },
  {
   "cell_type": "code",
   "execution_count": 17,
   "id": "4cc66b9b-a5bc-4524-a6da-d868c1658d69",
   "metadata": {},
   "outputs": [],
   "source": [
    "geographic_data_master = pd.read_csv(r'C:\\Users\\pryns\\OneDrive\\Desktop\\Dataset\\Raw Dataset\\us_states_master.csv')"
   ]
  },
  {
   "cell_type": "code",
   "execution_count": 18,
   "id": "d6d9391c-2b2c-4eda-825c-093951058e5e",
   "metadata": {},
   "outputs": [
    {
     "data": {
      "text/html": [
       "<div>\n",
       "<style scoped>\n",
       "    .dataframe tbody tr th:only-of-type {\n",
       "        vertical-align: middle;\n",
       "    }\n",
       "\n",
       "    .dataframe tbody tr th {\n",
       "        vertical-align: top;\n",
       "    }\n",
       "\n",
       "    .dataframe thead th {\n",
       "        text-align: right;\n",
       "    }\n",
       "</style>\n",
       "<table border=\"1\" class=\"dataframe\">\n",
       "  <thead>\n",
       "    <tr style=\"text-align: right;\">\n",
       "      <th></th>\n",
       "      <th>Type</th>\n",
       "      <th>State</th>\n",
       "      <th>State Code</th>\n",
       "      <th>Capital</th>\n",
       "      <th>Since</th>\n",
       "      <th>Other Names</th>\n",
       "      <th>incident_states</th>\n",
       "    </tr>\n",
       "  </thead>\n",
       "  <tbody>\n",
       "    <tr>\n",
       "      <th>0</th>\n",
       "      <td>State</td>\n",
       "      <td>Alabama</td>\n",
       "      <td>AL</td>\n",
       "      <td>Montgomery</td>\n",
       "      <td>1846</td>\n",
       "      <td>NaN</td>\n",
       "      <td>Alabama</td>\n",
       "    </tr>\n",
       "    <tr>\n",
       "      <th>1</th>\n",
       "      <td>State</td>\n",
       "      <td>Alaska</td>\n",
       "      <td>AK</td>\n",
       "      <td>Juneau</td>\n",
       "      <td>1906</td>\n",
       "      <td>NaN</td>\n",
       "      <td>Alaska</td>\n",
       "    </tr>\n",
       "    <tr>\n",
       "      <th>2</th>\n",
       "      <td>State</td>\n",
       "      <td>Arizona</td>\n",
       "      <td>AZ</td>\n",
       "      <td>Phoenix</td>\n",
       "      <td>1912</td>\n",
       "      <td>NaN</td>\n",
       "      <td>Arizona</td>\n",
       "    </tr>\n",
       "    <tr>\n",
       "      <th>3</th>\n",
       "      <td>State</td>\n",
       "      <td>Arkansas</td>\n",
       "      <td>AR</td>\n",
       "      <td>Little Rock</td>\n",
       "      <td>1821</td>\n",
       "      <td>NaN</td>\n",
       "      <td>Arkansas</td>\n",
       "    </tr>\n",
       "    <tr>\n",
       "      <th>4</th>\n",
       "      <td>State</td>\n",
       "      <td>California</td>\n",
       "      <td>CA</td>\n",
       "      <td>Sacramento</td>\n",
       "      <td>1854</td>\n",
       "      <td>NaN</td>\n",
       "      <td>California</td>\n",
       "    </tr>\n",
       "  </tbody>\n",
       "</table>\n",
       "</div>"
      ],
      "text/plain": [
       "    Type       State State Code      Capital  Since Other Names  \\\n",
       "0  State     Alabama         AL   Montgomery   1846         NaN   \n",
       "1  State      Alaska         AK       Juneau   1906         NaN   \n",
       "2  State     Arizona         AZ      Phoenix   1912         NaN   \n",
       "3  State    Arkansas         AR  Little Rock   1821         NaN   \n",
       "4  State  California         CA   Sacramento   1854         NaN   \n",
       "\n",
       "  incident_states  \n",
       "0         Alabama  \n",
       "1          Alaska  \n",
       "2         Arizona  \n",
       "3        Arkansas  \n",
       "4      California  "
      ]
     },
     "execution_count": 18,
     "metadata": {},
     "output_type": "execute_result"
    }
   ],
   "source": [
    "geographic_data_master.head()"
   ]
  },
  {
   "cell_type": "markdown",
   "id": "fe8d0b2c-77be-4eaa-9333-547cca28319a",
   "metadata": {},
   "source": [
    "## Analysing region and county data"
   ]
  },
  {
   "cell_type": "code",
   "execution_count": 19,
   "id": "4aa1ae8d-598b-4e4c-9133-c23e9378f6d7",
   "metadata": {},
   "outputs": [
    {
     "data": {
      "text/plain": [
       "((51,), (57,), (56,), (51,))"
      ]
     },
     "execution_count": 19,
     "metadata": {},
     "output_type": "execute_result"
    }
   ],
   "source": [
    "print\n",
    "(\n",
    "incident_geographic_data.State.unique().shape,\n",
    "geographic_data_master.State.unique().shape,\n",
    "geographic_data_1[\"Official State Name\"].unique().shape,\n",
    "region_data.State.unique().shape,\n",
    ")"
   ]
  },
  {
   "cell_type": "markdown",
   "id": "90a645ed-8a44-4557-97f9-449bad202de2",
   "metadata": {},
   "source": [
    "- checking if rest of the state data is within the geographic_data_master"
   ]
  },
  {
   "cell_type": "code",
   "execution_count": 20,
   "id": "361c963e-9fbf-4551-af00-ecde2ae42a60",
   "metadata": {},
   "outputs": [
    {
     "name": "stdout",
     "output_type": "stream",
     "text": [
      "\n",
      " True \n",
      " True \n",
      " False \n",
      "\n"
     ]
    }
   ],
   "source": [
    "print( '\\n',\n",
    "      \n",
    "       # checking state data of main_incident dataset with master data\n",
    "        np.isin(incident_geographic_data.State.unique(),geographic_data_master.State.unique()).all(),'\\n',\n",
    "    \n",
    "       # checking state data of region dataset with master data\n",
    "        np.isin(region_data.State.unique(),incident_geographic_data.State.unique()).all(),'\\n',\n",
    "    \n",
    "      # checking state data of geographic_data dataset with master data\n",
    "        np.isin(geographic_data_1[\"Official State Name\"].unique(),geographic_data_master.State.unique()).all(),'\\n',\n",
    "\n",
    "    )"
   ]
  },
  {
   "cell_type": "code",
   "execution_count": 21,
   "id": "8552f131-0bd7-4f04-9700-1ad3a2846457",
   "metadata": {},
   "outputs": [
    {
     "data": {
      "text/plain": [
       "array([ True,  True,  True,  True,  True,  True,  True,  True,  True,\n",
       "        True,  True,  True,  True,  True,  True,  True,  True,  True,\n",
       "        True,  True,  True,  True,  True,  True,  True,  True,  True,\n",
       "        True,  True,  True,  True,  True,  True,  True,  True,  True,\n",
       "        True,  True,  True,  True,  True,  True,  True,  True,  True,\n",
       "        True,  True,  True,  True,  True,  True,  True,  True,  True,\n",
       "       False,  True])"
      ]
     },
     "execution_count": 21,
     "metadata": {},
     "output_type": "execute_result"
    }
   ],
   "source": [
    "np.isin(geographic_data_1[\"Official State Name\"].unique(),geographic_data_master.State.unique())"
   ]
  },
  {
   "cell_type": "code",
   "execution_count": 22,
   "id": "b0500701-6a7b-4920-90c3-fab40d19fb47",
   "metadata": {},
   "outputs": [
    {
     "data": {
      "text/plain": [
       "array(['California', 'Hawaii', 'Guam', 'Oregon', 'Washington',\n",
       "       'South Dakota', 'Puerto Rico', 'Massachusetts', 'Rhode Island',\n",
       "       'New Hampshire', 'Maine', 'Vermont', 'Connecticut', 'New Jersey',\n",
       "       'New York', 'Pennsylvania', 'Delaware', 'District of Columbia',\n",
       "       'Virginia', 'Maryland', 'West Virginia', 'North Carolina',\n",
       "       'South Carolina', 'Georgia', 'Florida', 'Alabama', 'Tennessee',\n",
       "       'Mississippi', 'Kentucky', 'Ohio', 'Indiana', 'Michigan', 'Iowa',\n",
       "       'Wisconsin', 'Minnesota', 'North Dakota', 'Montana', 'Illinois',\n",
       "       'Missouri', 'Kansas', 'Nebraska', 'Louisiana', 'Arkansas',\n",
       "       'Oklahoma', 'Texas', 'Colorado', 'Wyoming', 'Idaho', 'Utah',\n",
       "       'Arizona', 'New Mexico', 'Nevada', 'Alaska',\n",
       "       'Northern Mariana Islands', 'Virgin Islands', 'American Samoa'],\n",
       "      dtype=object)"
      ]
     },
     "execution_count": 22,
     "metadata": {},
     "output_type": "execute_result"
    }
   ],
   "source": [
    "geographic_data_1[\"Official State Name\"].unique()"
   ]
  },
  {
   "cell_type": "code",
   "execution_count": 23,
   "id": "838c6ae1-a19e-43da-85b9-8c3cd5d35574",
   "metadata": {},
   "outputs": [
    {
     "data": {
      "text/plain": [
       "array(['Alabama', 'Alaska', 'Arizona', 'Arkansas', 'California',\n",
       "       'Colorado', 'Connecticut', 'Delaware', 'Florida', 'Georgia',\n",
       "       'Hawaii', 'Idaho', 'Illinois', 'Indiana', 'Iowa', 'Kansas',\n",
       "       'Kentucky', 'Louisiana', 'Maine', 'Maryland', 'Massachusetts',\n",
       "       'Michigan', 'Minnesota', 'Mississippi', 'Missouri', 'Montana',\n",
       "       'Nebraska', 'Nevada', 'New Hampshire', 'New Jersey', 'New Mexico',\n",
       "       'New York', 'North Carolina', 'North Dakota', 'Ohio', 'Oklahoma',\n",
       "       'Oregon', 'Pennsylvania', 'Rhode Island', 'South Carolina',\n",
       "       'South Dakota', 'Tennessee', 'Texas', 'Utah', 'Vermont',\n",
       "       'Virginia', 'Washington', 'West Virginia', 'Wisconsin', 'Wyoming',\n",
       "       'American Samoa', 'Guam', 'Northern Mariana Islands',\n",
       "       'Puerto Rico', 'Virgin Islands, U.S.', 'District of Columbia',\n",
       "       'United States Minor Outlying Islands'], dtype=object)"
      ]
     },
     "execution_count": 23,
     "metadata": {},
     "output_type": "execute_result"
    }
   ],
   "source": [
    "geographic_data_master.State.unique()"
   ]
  },
  {
   "cell_type": "markdown",
   "id": "0e224645-516d-47bd-8edc-03e4e204a156",
   "metadata": {},
   "source": [
    "- The states names are the same so we can merge these datasets on state names\n",
    "- geographic_data_1 and geographic_data_master does not match for one state, which is Virgin Islands, we can edit the geographic_data_1 and change the name according to geographic_data_master\n"
   ]
  },
  {
   "cell_type": "code",
   "execution_count": 24,
   "id": "f99e8398-f474-4010-8b44-ad05cc357540",
   "metadata": {},
   "outputs": [
    {
     "data": {
      "text/plain": [
       "3204     Virgin Islands\n",
       "4096     Virgin Islands\n",
       "11504    Virgin Islands\n",
       "13074    Virgin Islands\n",
       "16669    Virgin Islands\n",
       "Name: Official State Name, dtype: object"
      ]
     },
     "execution_count": 24,
     "metadata": {},
     "output_type": "execute_result"
    }
   ],
   "source": [
    "geographic_data_1[\"Official State Name\"][geographic_data_1[\"Official State Name\"]=='Virgin Islands']"
   ]
  },
  {
   "cell_type": "code",
   "execution_count": 25,
   "id": "62c7c661-2bed-45e5-b29e-284b921faf0d",
   "metadata": {},
   "outputs": [],
   "source": [
    "# modifying state_name\n",
    "\n",
    "for i in geographic_data_1[\"Official State Name\"][geographic_data_1[\"Official State Name\"]=='Virgin Islands'].index:\n",
    "    geographic_data_1.loc[i,\"Official State Name\"] = 'Virgin Islands, U.S.'\n"
   ]
  },
  {
   "cell_type": "code",
   "execution_count": 26,
   "id": "63afe50a-930b-44bc-87ed-b4f3b3bf6095",
   "metadata": {},
   "outputs": [
    {
     "data": {
      "text/plain": [
       "3204     Virgin Islands, U.S.\n",
       "4096     Virgin Islands, U.S.\n",
       "11504    Virgin Islands, U.S.\n",
       "13074    Virgin Islands, U.S.\n",
       "16669    Virgin Islands, U.S.\n",
       "Name: Official State Name, dtype: object"
      ]
     },
     "execution_count": 26,
     "metadata": {},
     "output_type": "execute_result"
    }
   ],
   "source": [
    "geographic_data_1[\"Official State Name\"][geographic_data_1[\"Official State Name\"]=='Virgin Islands, U.S.']"
   ]
  },
  {
   "cell_type": "markdown",
   "id": "6855e972-02b1-4f04-8b36-31107f38b01e",
   "metadata": {},
   "source": [
    "- creating a dataset for list of states and regions by merging reagion_data and geographic_data_master."
   ]
  },
  {
   "cell_type": "code",
   "execution_count": 27,
   "id": "3f84cdaa-49ea-4989-96f5-704ea34960c7",
   "metadata": {},
   "outputs": [
    {
     "data": {
      "text/plain": [
       "Index(['State', 'State Code', 'Region', 'Division'], dtype='object')"
      ]
     },
     "execution_count": 27,
     "metadata": {},
     "output_type": "execute_result"
    }
   ],
   "source": [
    "region_data.columns"
   ]
  },
  {
   "cell_type": "code",
   "execution_count": 28,
   "id": "2fcf2ff8-dd8a-4e8e-8c4e-8a464edefa06",
   "metadata": {},
   "outputs": [],
   "source": [
    "us_states_regions = geographic_data_master.merge(region_data[['State','Region','Division']],'outer',left_on= 'State', right_on = 'State').drop(['Other Names','incident_states'],axis = 1)"
   ]
  },
  {
   "cell_type": "code",
   "execution_count": 29,
   "id": "e447a20e-226b-4b2e-bff1-0a83e891b606",
   "metadata": {},
   "outputs": [
    {
     "data": {
      "text/html": [
       "<div>\n",
       "<style scoped>\n",
       "    .dataframe tbody tr th:only-of-type {\n",
       "        vertical-align: middle;\n",
       "    }\n",
       "\n",
       "    .dataframe tbody tr th {\n",
       "        vertical-align: top;\n",
       "    }\n",
       "\n",
       "    .dataframe thead th {\n",
       "        text-align: right;\n",
       "    }\n",
       "</style>\n",
       "<table border=\"1\" class=\"dataframe\">\n",
       "  <thead>\n",
       "    <tr style=\"text-align: right;\">\n",
       "      <th></th>\n",
       "      <th>Type</th>\n",
       "      <th>State</th>\n",
       "      <th>State Code</th>\n",
       "      <th>Capital</th>\n",
       "      <th>Since</th>\n",
       "      <th>Region</th>\n",
       "      <th>Division</th>\n",
       "    </tr>\n",
       "  </thead>\n",
       "  <tbody>\n",
       "    <tr>\n",
       "      <th>0</th>\n",
       "      <td>State</td>\n",
       "      <td>Alabama</td>\n",
       "      <td>AL</td>\n",
       "      <td>Montgomery</td>\n",
       "      <td>1846</td>\n",
       "      <td>South</td>\n",
       "      <td>East South Central</td>\n",
       "    </tr>\n",
       "    <tr>\n",
       "      <th>1</th>\n",
       "      <td>State</td>\n",
       "      <td>Alaska</td>\n",
       "      <td>AK</td>\n",
       "      <td>Juneau</td>\n",
       "      <td>1906</td>\n",
       "      <td>West</td>\n",
       "      <td>Pacific</td>\n",
       "    </tr>\n",
       "    <tr>\n",
       "      <th>2</th>\n",
       "      <td>State</td>\n",
       "      <td>Arizona</td>\n",
       "      <td>AZ</td>\n",
       "      <td>Phoenix</td>\n",
       "      <td>1912</td>\n",
       "      <td>West</td>\n",
       "      <td>Mountain</td>\n",
       "    </tr>\n",
       "    <tr>\n",
       "      <th>3</th>\n",
       "      <td>State</td>\n",
       "      <td>Arkansas</td>\n",
       "      <td>AR</td>\n",
       "      <td>Little Rock</td>\n",
       "      <td>1821</td>\n",
       "      <td>South</td>\n",
       "      <td>West South Central</td>\n",
       "    </tr>\n",
       "    <tr>\n",
       "      <th>4</th>\n",
       "      <td>State</td>\n",
       "      <td>California</td>\n",
       "      <td>CA</td>\n",
       "      <td>Sacramento</td>\n",
       "      <td>1854</td>\n",
       "      <td>West</td>\n",
       "      <td>Pacific</td>\n",
       "    </tr>\n",
       "  </tbody>\n",
       "</table>\n",
       "</div>"
      ],
      "text/plain": [
       "    Type       State State Code      Capital  Since Region            Division\n",
       "0  State     Alabama         AL   Montgomery   1846  South  East South Central\n",
       "1  State      Alaska         AK       Juneau   1906   West             Pacific\n",
       "2  State     Arizona         AZ      Phoenix   1912   West            Mountain\n",
       "3  State    Arkansas         AR  Little Rock   1821  South  West South Central\n",
       "4  State  California         CA   Sacramento   1854   West             Pacific"
      ]
     },
     "execution_count": 29,
     "metadata": {},
     "output_type": "execute_result"
    }
   ],
   "source": [
    "us_states_regions.head()"
   ]
  },
  {
   "cell_type": "markdown",
   "id": "ba88149a-0d8f-483b-8f78-e8e628d8f48c",
   "metadata": {},
   "source": [
    " - Checking incidents geographic data of city and county"
   ]
  },
  {
   "cell_type": "code",
   "execution_count": 30,
   "id": "2e38237f-271c-4a8d-b62e-332218619bd4",
   "metadata": {},
   "outputs": [
    {
     "data": {
      "text/plain": [
       "array(['Louisiana', 'California', 'Illinois', 'Missouri', 'Kentucky',\n",
       "       'Michigan', 'New York', 'Florida', 'Mississippi', 'New Jersey',\n",
       "       'Pennsylvania', 'Oregon', 'Indiana', 'Virginia', 'Tennessee',\n",
       "       'Georgia', 'Texas', 'Colorado', 'Ohio', 'South Dakota', 'Nevada',\n",
       "       'Washington', 'South Carolina', 'Alaska', 'Massachusetts', 'Utah',\n",
       "       'District of Columbia', 'Minnesota', 'New Mexico', 'Wisconsin',\n",
       "       'North Carolina', 'Maine', 'Arkansas', 'Connecticut',\n",
       "       'Rhode Island', 'Maryland', 'Alabama', 'Oklahoma', 'Arizona',\n",
       "       'Nebraska', 'Iowa', 'Vermont', 'Delaware', 'Montana', 'Kansas',\n",
       "       'West Virginia', 'Wyoming', 'Idaho', 'North Dakota',\n",
       "       'New Hampshire', 'Hawaii'], dtype=object)"
      ]
     },
     "execution_count": 30,
     "metadata": {},
     "output_type": "execute_result"
    }
   ],
   "source": [
    "# checking incident geographic data\n",
    "\n",
    "incident_geographic_data.State.unique()"
   ]
  },
  {
   "cell_type": "code",
   "execution_count": 31,
   "id": "b4d813a0-1093-494b-8b30-ea82c5555a61",
   "metadata": {},
   "outputs": [
    {
     "data": {
      "text/plain": [
       "array(['Alabama', 'Alaska', 'Arizona', 'Arkansas', 'California',\n",
       "       'Colorado', 'Connecticut', 'Delaware', 'Florida', 'Georgia',\n",
       "       'Hawaii', 'Idaho', 'Illinois', 'Indiana', 'Iowa', 'Kansas',\n",
       "       'Kentucky', 'Louisiana', 'Maine', 'Maryland', 'Massachusetts',\n",
       "       'Michigan', 'Minnesota', 'Mississippi', 'Missouri', 'Montana',\n",
       "       'Nebraska', 'Nevada', 'New Hampshire', 'New Jersey', 'New Mexico',\n",
       "       'New York', 'North Carolina', 'North Dakota', 'Ohio', 'Oklahoma',\n",
       "       'Oregon', 'Pennsylvania', 'Rhode Island', 'South Carolina',\n",
       "       'South Dakota', 'Tennessee', 'Texas', 'Utah', 'Vermont',\n",
       "       'Virginia', 'Washington', 'West Virginia', 'Wisconsin', 'Wyoming',\n",
       "       'American Samoa', 'Guam', 'Northern Mariana Islands',\n",
       "       'Puerto Rico', 'Virgin Islands, U.S.', 'District of Columbia',\n",
       "       'United States Minor Outlying Islands'], dtype=object)"
      ]
     },
     "execution_count": 31,
     "metadata": {},
     "output_type": "execute_result"
    }
   ],
   "source": [
    "us_states_regions.State.unique()"
   ]
  },
  {
   "cell_type": "code",
   "execution_count": 32,
   "id": "cde985b0-c871-414c-a780-2190a7a20b21",
   "metadata": {},
   "outputs": [
    {
     "data": {
      "text/plain": [
       "array([ True,  True,  True,  True,  True,  True,  True,  True,  True,\n",
       "        True,  True,  True,  True,  True,  True,  True,  True,  True,\n",
       "        True,  True,  True,  True,  True,  True,  True,  True,  True,\n",
       "        True,  True,  True,  True,  True,  True,  True,  True,  True,\n",
       "        True,  True,  True,  True,  True,  True,  True,  True,  True,\n",
       "        True,  True,  True,  True,  True, False, False, False, False,\n",
       "       False,  True, False])"
      ]
     },
     "execution_count": 32,
     "metadata": {},
     "output_type": "execute_result"
    }
   ],
   "source": [
    "np.isin(us_states_regions.State.unique(),incident_geographic_data.State.unique())"
   ]
  },
  {
   "cell_type": "markdown",
   "id": "9f90c2f5-a96e-40fc-8ce4-a62978fa0eb2",
   "metadata": {},
   "source": [
    "- No incidents have occured in the below states/areas \n",
    "- **'American Samoa', 'Guam', 'Northern Mariana Islands','Puerto Rico', 'Virgin Islands, U.S.', 'United States Minor Outlying Islands'**"
   ]
  },
  {
   "cell_type": "markdown",
   "id": "24dd23f2-7ae7-4c14-b946-4999f1e7c67c",
   "metadata": {},
   "source": [
    "- merging **geographic_data_1** and **incident_geographic_data** dataset on State and city/county to check if the cities and counties match"
   ]
  },
  {
   "cell_type": "code",
   "execution_count": 33,
   "id": "cbe03390-1998-4a03-847c-e87f89e79cef",
   "metadata": {},
   "outputs": [
    {
     "data": {
      "text/html": [
       "<div>\n",
       "<style scoped>\n",
       "    .dataframe tbody tr th:only-of-type {\n",
       "        vertical-align: middle;\n",
       "    }\n",
       "\n",
       "    .dataframe tbody tr th {\n",
       "        vertical-align: top;\n",
       "    }\n",
       "\n",
       "    .dataframe thead th {\n",
       "        text-align: right;\n",
       "    }\n",
       "</style>\n",
       "<table border=\"1\" class=\"dataframe\">\n",
       "  <thead>\n",
       "    <tr style=\"text-align: right;\">\n",
       "      <th></th>\n",
       "      <th>Official USPS city name</th>\n",
       "      <th>Official USPS State Code</th>\n",
       "      <th>Official State Name</th>\n",
       "      <th>Primary Official County Name</th>\n",
       "    </tr>\n",
       "  </thead>\n",
       "  <tbody>\n",
       "    <tr>\n",
       "      <th>0</th>\n",
       "      <td>Los Angeles</td>\n",
       "      <td>CA</td>\n",
       "      <td>California</td>\n",
       "      <td>Los Angeles</td>\n",
       "    </tr>\n",
       "    <tr>\n",
       "      <th>5</th>\n",
       "      <td>Santa Monica</td>\n",
       "      <td>CA</td>\n",
       "      <td>California</td>\n",
       "      <td>Los Angeles</td>\n",
       "    </tr>\n",
       "    <tr>\n",
       "      <th>6</th>\n",
       "      <td>Torrance</td>\n",
       "      <td>CA</td>\n",
       "      <td>California</td>\n",
       "      <td>Los Angeles</td>\n",
       "    </tr>\n",
       "    <tr>\n",
       "      <th>7</th>\n",
       "      <td>Lomita</td>\n",
       "      <td>CA</td>\n",
       "      <td>California</td>\n",
       "      <td>Los Angeles</td>\n",
       "    </tr>\n",
       "    <tr>\n",
       "      <th>8</th>\n",
       "      <td>Long Beach</td>\n",
       "      <td>CA</td>\n",
       "      <td>California</td>\n",
       "      <td>Los Angeles</td>\n",
       "    </tr>\n",
       "  </tbody>\n",
       "</table>\n",
       "</div>"
      ],
      "text/plain": [
       "  Official USPS city name Official USPS State Code Official State Name  \\\n",
       "0             Los Angeles                       CA          California   \n",
       "5            Santa Monica                       CA          California   \n",
       "6                Torrance                       CA          California   \n",
       "7                  Lomita                       CA          California   \n",
       "8              Long Beach                       CA          California   \n",
       "\n",
       "  Primary Official County Name  \n",
       "0                  Los Angeles  \n",
       "5                  Los Angeles  \n",
       "6                  Los Angeles  \n",
       "7                  Los Angeles  \n",
       "8                  Los Angeles  "
      ]
     },
     "execution_count": 33,
     "metadata": {},
     "output_type": "execute_result"
    }
   ],
   "source": [
    "geographic_data_1.head()"
   ]
  },
  {
   "cell_type": "code",
   "execution_count": 34,
   "id": "b70f46d7-eeff-4b6a-97c8-1b62eeafdc12",
   "metadata": {},
   "outputs": [
    {
     "data": {
      "text/html": [
       "<div>\n",
       "<style scoped>\n",
       "    .dataframe tbody tr th:only-of-type {\n",
       "        vertical-align: middle;\n",
       "    }\n",
       "\n",
       "    .dataframe tbody tr th {\n",
       "        vertical-align: top;\n",
       "    }\n",
       "\n",
       "    .dataframe thead th {\n",
       "        text-align: right;\n",
       "    }\n",
       "</style>\n",
       "<table border=\"1\" class=\"dataframe\">\n",
       "  <thead>\n",
       "    <tr style=\"text-align: right;\">\n",
       "      <th></th>\n",
       "      <th>Incident ID</th>\n",
       "      <th>State</th>\n",
       "      <th>City Or County</th>\n",
       "      <th>Address</th>\n",
       "    </tr>\n",
       "  </thead>\n",
       "  <tbody>\n",
       "    <tr>\n",
       "      <th>0</th>\n",
       "      <td>271363</td>\n",
       "      <td>Louisiana</td>\n",
       "      <td>New Orleans</td>\n",
       "      <td>Poydras and Bolivar</td>\n",
       "    </tr>\n",
       "    <tr>\n",
       "      <th>1</th>\n",
       "      <td>269679</td>\n",
       "      <td>California</td>\n",
       "      <td>Los Angeles</td>\n",
       "      <td>8800 block of South Figueroa Street</td>\n",
       "    </tr>\n",
       "    <tr>\n",
       "      <th>2</th>\n",
       "      <td>270036</td>\n",
       "      <td>California</td>\n",
       "      <td>Sacramento</td>\n",
       "      <td>4000 block of May Street</td>\n",
       "    </tr>\n",
       "    <tr>\n",
       "      <th>3</th>\n",
       "      <td>269167</td>\n",
       "      <td>Illinois</td>\n",
       "      <td>East St. Louis</td>\n",
       "      <td>2500 block of Summit Avenue</td>\n",
       "    </tr>\n",
       "    <tr>\n",
       "      <th>4</th>\n",
       "      <td>268598</td>\n",
       "      <td>Missouri</td>\n",
       "      <td>Saint Louis</td>\n",
       "      <td>18th and Pine</td>\n",
       "    </tr>\n",
       "  </tbody>\n",
       "</table>\n",
       "</div>"
      ],
      "text/plain": [
       "   Incident ID       State  City Or County  \\\n",
       "0       271363   Louisiana     New Orleans   \n",
       "1       269679  California     Los Angeles   \n",
       "2       270036  California      Sacramento   \n",
       "3       269167    Illinois  East St. Louis   \n",
       "4       268598    Missouri     Saint Louis   \n",
       "\n",
       "                               Address  \n",
       "0                  Poydras and Bolivar  \n",
       "1  8800 block of South Figueroa Street  \n",
       "2             4000 block of May Street  \n",
       "3          2500 block of Summit Avenue  \n",
       "4                        18th and Pine  "
      ]
     },
     "execution_count": 34,
     "metadata": {},
     "output_type": "execute_result"
    }
   ],
   "source": [
    "incident_geographic_data.head()"
   ]
  },
  {
   "cell_type": "code",
   "execution_count": 35,
   "id": "f81f989a-92a6-45e8-bfc3-6c6e4f05f3b4",
   "metadata": {},
   "outputs": [
    {
     "data": {
      "text/plain": [
       "(4521, 2)"
      ]
     },
     "execution_count": 35,
     "metadata": {},
     "output_type": "execute_result"
    }
   ],
   "source": [
    "incident_geographic_data[['State','City Or County']].shape"
   ]
  },
  {
   "cell_type": "code",
   "execution_count": 36,
   "id": "ce41c9a2-5437-433c-9583-797e6b7c3783",
   "metadata": {},
   "outputs": [
    {
     "data": {
      "text/plain": [
       "(1219, 2)"
      ]
     },
     "execution_count": 36,
     "metadata": {},
     "output_type": "execute_result"
    }
   ],
   "source": [
    "incident_geographic_data[['State','City Or County']].drop_duplicates().shape"
   ]
  },
  {
   "cell_type": "code",
   "execution_count": 37,
   "id": "d9c84490-ff75-4cd8-a6bd-4d7f2beb419c",
   "metadata": {},
   "outputs": [],
   "source": [
    "# merging the master data with incident geographic data on County\n",
    "\n",
    "merge_1 = incident_geographic_data[['State','City Or County']].drop_duplicates().merge(\n",
    "                        geographic_data_1[['Official State Name','Primary Official County Name']].drop_duplicates(),\n",
    "                        'outer',\n",
    "                        left_on = ['State','City Or County'], \n",
    "                        right_on = ['Official State Name','Primary Official County Name']\n",
    "                            )"
   ]
  },
  {
   "cell_type": "code",
   "execution_count": 38,
   "id": "f50f9434-8286-42ad-b043-fbe3a3b16457",
   "metadata": {},
   "outputs": [],
   "source": [
    "location_data_1 = merge_1[(merge_1['Primary Official County Name'].isna() == False) & (merge_1['City Or County'].isna() == False) ]"
   ]
  },
  {
   "cell_type": "code",
   "execution_count": 39,
   "id": "71ba49af-9541-4735-91b7-9b58177dcc27",
   "metadata": {},
   "outputs": [
    {
     "data": {
      "text/html": [
       "<div>\n",
       "<style scoped>\n",
       "    .dataframe tbody tr th:only-of-type {\n",
       "        vertical-align: middle;\n",
       "    }\n",
       "\n",
       "    .dataframe tbody tr th {\n",
       "        vertical-align: top;\n",
       "    }\n",
       "\n",
       "    .dataframe thead th {\n",
       "        text-align: right;\n",
       "    }\n",
       "</style>\n",
       "<table border=\"1\" class=\"dataframe\">\n",
       "  <thead>\n",
       "    <tr style=\"text-align: right;\">\n",
       "      <th></th>\n",
       "      <th>State</th>\n",
       "      <th>City Or County</th>\n",
       "      <th>Official State Name</th>\n",
       "      <th>Primary Official County Name</th>\n",
       "    </tr>\n",
       "  </thead>\n",
       "  <tbody>\n",
       "    <tr>\n",
       "      <th>1</th>\n",
       "      <td>California</td>\n",
       "      <td>Los Angeles</td>\n",
       "      <td>California</td>\n",
       "      <td>Los Angeles</td>\n",
       "    </tr>\n",
       "    <tr>\n",
       "      <th>2</th>\n",
       "      <td>California</td>\n",
       "      <td>Sacramento</td>\n",
       "      <td>California</td>\n",
       "      <td>Sacramento</td>\n",
       "    </tr>\n",
       "    <tr>\n",
       "      <th>9</th>\n",
       "      <td>Florida</td>\n",
       "      <td>Sarasota</td>\n",
       "      <td>Florida</td>\n",
       "      <td>Sarasota</td>\n",
       "    </tr>\n",
       "    <tr>\n",
       "      <th>19</th>\n",
       "      <td>Virginia</td>\n",
       "      <td>Newport News</td>\n",
       "      <td>Virginia</td>\n",
       "      <td>Newport News</td>\n",
       "    </tr>\n",
       "    <tr>\n",
       "      <th>26</th>\n",
       "      <td>California</td>\n",
       "      <td>San Francisco</td>\n",
       "      <td>California</td>\n",
       "      <td>San Francisco</td>\n",
       "    </tr>\n",
       "  </tbody>\n",
       "</table>\n",
       "</div>"
      ],
      "text/plain": [
       "         State City Or County Official State Name Primary Official County Name\n",
       "1   California    Los Angeles          California                  Los Angeles\n",
       "2   California     Sacramento          California                   Sacramento\n",
       "9      Florida       Sarasota             Florida                     Sarasota\n",
       "19    Virginia   Newport News            Virginia                 Newport News\n",
       "26  California  San Francisco          California                San Francisco"
      ]
     },
     "execution_count": 39,
     "metadata": {},
     "output_type": "execute_result"
    }
   ],
   "source": [
    "location_data_1.head()"
   ]
  },
  {
   "cell_type": "code",
   "execution_count": 40,
   "id": "cab8b043-8189-4b94-bf37-4d3507ba82a6",
   "metadata": {},
   "outputs": [
    {
     "data": {
      "text/plain": [
       "137"
      ]
     },
     "execution_count": 40,
     "metadata": {},
     "output_type": "execute_result"
    }
   ],
   "source": [
    "# only 137 counties matched\n",
    "\n",
    "location_data_1.shape[0]"
   ]
  },
  {
   "cell_type": "code",
   "execution_count": 41,
   "id": "9bb211d8-2d59-4215-99c2-9444c5e7e073",
   "metadata": {},
   "outputs": [],
   "source": [
    "# filtering the unmatched data\n",
    "\n",
    "merge_1_find = merge_1[(merge_1['Primary Official County Name'].isna() == True)]"
   ]
  },
  {
   "cell_type": "code",
   "execution_count": 42,
   "id": "d052af78-2ac7-4bc6-a759-847a2200eab2",
   "metadata": {},
   "outputs": [
    {
     "data": {
      "text/html": [
       "<div>\n",
       "<style scoped>\n",
       "    .dataframe tbody tr th:only-of-type {\n",
       "        vertical-align: middle;\n",
       "    }\n",
       "\n",
       "    .dataframe tbody tr th {\n",
       "        vertical-align: top;\n",
       "    }\n",
       "\n",
       "    .dataframe thead th {\n",
       "        text-align: right;\n",
       "    }\n",
       "</style>\n",
       "<table border=\"1\" class=\"dataframe\">\n",
       "  <thead>\n",
       "    <tr style=\"text-align: right;\">\n",
       "      <th></th>\n",
       "      <th>State</th>\n",
       "      <th>City Or County</th>\n",
       "      <th>Official State Name</th>\n",
       "      <th>Primary Official County Name</th>\n",
       "    </tr>\n",
       "  </thead>\n",
       "  <tbody>\n",
       "    <tr>\n",
       "      <th>0</th>\n",
       "      <td>Louisiana</td>\n",
       "      <td>New Orleans</td>\n",
       "      <td>NaN</td>\n",
       "      <td>NaN</td>\n",
       "    </tr>\n",
       "    <tr>\n",
       "      <th>3</th>\n",
       "      <td>Illinois</td>\n",
       "      <td>East St. Louis</td>\n",
       "      <td>NaN</td>\n",
       "      <td>NaN</td>\n",
       "    </tr>\n",
       "    <tr>\n",
       "      <th>4</th>\n",
       "      <td>Missouri</td>\n",
       "      <td>Saint Louis</td>\n",
       "      <td>NaN</td>\n",
       "      <td>NaN</td>\n",
       "    </tr>\n",
       "    <tr>\n",
       "      <th>5</th>\n",
       "      <td>Kentucky</td>\n",
       "      <td>Winchester</td>\n",
       "      <td>NaN</td>\n",
       "      <td>NaN</td>\n",
       "    </tr>\n",
       "    <tr>\n",
       "      <th>6</th>\n",
       "      <td>Michigan</td>\n",
       "      <td>Detroit</td>\n",
       "      <td>NaN</td>\n",
       "      <td>NaN</td>\n",
       "    </tr>\n",
       "  </tbody>\n",
       "</table>\n",
       "</div>"
      ],
      "text/plain": [
       "       State  City Or County Official State Name Primary Official County Name\n",
       "0  Louisiana     New Orleans                 NaN                          NaN\n",
       "3   Illinois  East St. Louis                 NaN                          NaN\n",
       "4   Missouri     Saint Louis                 NaN                          NaN\n",
       "5   Kentucky      Winchester                 NaN                          NaN\n",
       "6   Michigan         Detroit                 NaN                          NaN"
      ]
     },
     "execution_count": 42,
     "metadata": {},
     "output_type": "execute_result"
    }
   ],
   "source": [
    "merge_1_find.head()"
   ]
  },
  {
   "cell_type": "code",
   "execution_count": 43,
   "id": "1c2f1fa5-0d4b-4cfd-8efe-3541d10ecc03",
   "metadata": {},
   "outputs": [
    {
     "data": {
      "text/plain": [
       "1082"
      ]
     },
     "execution_count": 43,
     "metadata": {},
     "output_type": "execute_result"
    }
   ],
   "source": [
    "merge_1_find.shape[0]"
   ]
  },
  {
   "cell_type": "code",
   "execution_count": 44,
   "id": "ba45dbe6-6571-4721-a69b-0414d29341f1",
   "metadata": {},
   "outputs": [
    {
     "data": {
      "text/plain": [
       "1219"
      ]
     },
     "execution_count": 44,
     "metadata": {},
     "output_type": "execute_result"
    }
   ],
   "source": [
    "1082+137"
   ]
  },
  {
   "cell_type": "code",
   "execution_count": 45,
   "id": "6500478a-f001-4087-a8eb-799e0d724dd0",
   "metadata": {},
   "outputs": [],
   "source": [
    "# merging the master data with unmatched data on City\n",
    "\n",
    "merge_2 = merge_1_find[['State','City Or County']].drop_duplicates().merge(\n",
    "                        geographic_data_1,\n",
    "                        'outer',\n",
    "                        left_on = ['State','City Or County'], \n",
    "                        right_on = ['Official State Name','Official USPS city name']\n",
    "                            )"
   ]
  },
  {
   "cell_type": "code",
   "execution_count": 46,
   "id": "4d39e4ee-53ee-4fd2-afa5-8c9eaff07a9d",
   "metadata": {},
   "outputs": [],
   "source": [
    "# filtering matching data\n",
    "\n",
    "location_data_2 = merge_2[(merge_2['Official USPS city name'].isna() == False) & (merge_2['City Or County'].isna() == False)]"
   ]
  },
  {
   "cell_type": "code",
   "execution_count": 47,
   "id": "f145d57b-90dd-4505-a1ba-3fc72fc60ec9",
   "metadata": {},
   "outputs": [
    {
     "data": {
      "text/plain": [
       "1034"
      ]
     },
     "execution_count": 47,
     "metadata": {},
     "output_type": "execute_result"
    }
   ],
   "source": [
    "# 1034 mathing iteme;\n",
    "# but it seems that a city has more than 2 counties\n",
    "\n",
    "location_data_2.shape[0]"
   ]
  },
  {
   "cell_type": "code",
   "execution_count": 48,
   "id": "2ee21cf3-687d-418a-82ee-52c228d4e97f",
   "metadata": {},
   "outputs": [
    {
     "data": {
      "text/html": [
       "<div>\n",
       "<style scoped>\n",
       "    .dataframe tbody tr th:only-of-type {\n",
       "        vertical-align: middle;\n",
       "    }\n",
       "\n",
       "    .dataframe tbody tr th {\n",
       "        vertical-align: top;\n",
       "    }\n",
       "\n",
       "    .dataframe thead th {\n",
       "        text-align: right;\n",
       "    }\n",
       "</style>\n",
       "<table border=\"1\" class=\"dataframe\">\n",
       "  <thead>\n",
       "    <tr style=\"text-align: right;\">\n",
       "      <th></th>\n",
       "      <th>State</th>\n",
       "      <th>City Or County</th>\n",
       "      <th>Official USPS city name</th>\n",
       "      <th>Official USPS State Code</th>\n",
       "      <th>Official State Name</th>\n",
       "      <th>Primary Official County Name</th>\n",
       "    </tr>\n",
       "  </thead>\n",
       "  <tbody>\n",
       "    <tr>\n",
       "      <th>0</th>\n",
       "      <td>Louisiana</td>\n",
       "      <td>New Orleans</td>\n",
       "      <td>New Orleans</td>\n",
       "      <td>LA</td>\n",
       "      <td>Louisiana</td>\n",
       "      <td>Orleans</td>\n",
       "    </tr>\n",
       "    <tr>\n",
       "      <th>1</th>\n",
       "      <td>Louisiana</td>\n",
       "      <td>New Orleans</td>\n",
       "      <td>New Orleans</td>\n",
       "      <td>LA</td>\n",
       "      <td>Louisiana</td>\n",
       "      <td>Jefferson</td>\n",
       "    </tr>\n",
       "    <tr>\n",
       "      <th>3</th>\n",
       "      <td>Missouri</td>\n",
       "      <td>Saint Louis</td>\n",
       "      <td>Saint Louis</td>\n",
       "      <td>MO</td>\n",
       "      <td>Missouri</td>\n",
       "      <td>St. Louis</td>\n",
       "    </tr>\n",
       "    <tr>\n",
       "      <th>4</th>\n",
       "      <td>Kentucky</td>\n",
       "      <td>Winchester</td>\n",
       "      <td>Winchester</td>\n",
       "      <td>KY</td>\n",
       "      <td>Kentucky</td>\n",
       "      <td>Clark</td>\n",
       "    </tr>\n",
       "    <tr>\n",
       "      <th>5</th>\n",
       "      <td>Michigan</td>\n",
       "      <td>Detroit</td>\n",
       "      <td>Detroit</td>\n",
       "      <td>MI</td>\n",
       "      <td>Michigan</td>\n",
       "      <td>Wayne</td>\n",
       "    </tr>\n",
       "  </tbody>\n",
       "</table>\n",
       "</div>"
      ],
      "text/plain": [
       "       State City Or County Official USPS city name Official USPS State Code  \\\n",
       "0  Louisiana    New Orleans             New Orleans                       LA   \n",
       "1  Louisiana    New Orleans             New Orleans                       LA   \n",
       "3   Missouri    Saint Louis             Saint Louis                       MO   \n",
       "4   Kentucky     Winchester              Winchester                       KY   \n",
       "5   Michigan        Detroit                 Detroit                       MI   \n",
       "\n",
       "  Official State Name Primary Official County Name  \n",
       "0           Louisiana                      Orleans  \n",
       "1           Louisiana                    Jefferson  \n",
       "3            Missouri                    St. Louis  \n",
       "4            Kentucky                        Clark  \n",
       "5            Michigan                        Wayne  "
      ]
     },
     "execution_count": 48,
     "metadata": {},
     "output_type": "execute_result"
    }
   ],
   "source": [
    "location_data_2.head()"
   ]
  },
  {
   "cell_type": "code",
   "execution_count": 49,
   "id": "9d1ba520-15a5-40db-995a-e6b4f8c363b5",
   "metadata": {},
   "outputs": [
    {
     "data": {
      "text/html": [
       "<div>\n",
       "<style scoped>\n",
       "    .dataframe tbody tr th:only-of-type {\n",
       "        vertical-align: middle;\n",
       "    }\n",
       "\n",
       "    .dataframe tbody tr th {\n",
       "        vertical-align: top;\n",
       "    }\n",
       "\n",
       "    .dataframe thead th {\n",
       "        text-align: right;\n",
       "    }\n",
       "</style>\n",
       "<table border=\"1\" class=\"dataframe\">\n",
       "  <thead>\n",
       "    <tr style=\"text-align: right;\">\n",
       "      <th></th>\n",
       "      <th>State</th>\n",
       "      <th>City Or County</th>\n",
       "      <th>Official USPS city name</th>\n",
       "      <th>Official USPS State Code</th>\n",
       "      <th>Official State Name</th>\n",
       "      <th>count</th>\n",
       "    </tr>\n",
       "  </thead>\n",
       "  <tbody>\n",
       "    <tr>\n",
       "      <th>0</th>\n",
       "      <td>Minnesota</td>\n",
       "      <td>Saint Paul</td>\n",
       "      <td>Saint Paul</td>\n",
       "      <td>MN</td>\n",
       "      <td>Minnesota</td>\n",
       "      <td>4</td>\n",
       "    </tr>\n",
       "    <tr>\n",
       "      <th>1</th>\n",
       "      <td>Maryland</td>\n",
       "      <td>Laurel</td>\n",
       "      <td>Laurel</td>\n",
       "      <td>MD</td>\n",
       "      <td>Maryland</td>\n",
       "      <td>3</td>\n",
       "    </tr>\n",
       "    <tr>\n",
       "      <th>2</th>\n",
       "      <td>Georgia</td>\n",
       "      <td>Atlanta</td>\n",
       "      <td>Atlanta</td>\n",
       "      <td>GA</td>\n",
       "      <td>Georgia</td>\n",
       "      <td>3</td>\n",
       "    </tr>\n",
       "    <tr>\n",
       "      <th>3</th>\n",
       "      <td>Texas</td>\n",
       "      <td>Amarillo</td>\n",
       "      <td>Amarillo</td>\n",
       "      <td>TX</td>\n",
       "      <td>Texas</td>\n",
       "      <td>3</td>\n",
       "    </tr>\n",
       "    <tr>\n",
       "      <th>4</th>\n",
       "      <td>Mississippi</td>\n",
       "      <td>Greenville</td>\n",
       "      <td>Greenville</td>\n",
       "      <td>MS</td>\n",
       "      <td>Mississippi</td>\n",
       "      <td>3</td>\n",
       "    </tr>\n",
       "    <tr>\n",
       "      <th>5</th>\n",
       "      <td>Oregon</td>\n",
       "      <td>Portland</td>\n",
       "      <td>Portland</td>\n",
       "      <td>OR</td>\n",
       "      <td>Oregon</td>\n",
       "      <td>3</td>\n",
       "    </tr>\n",
       "    <tr>\n",
       "      <th>6</th>\n",
       "      <td>Missouri</td>\n",
       "      <td>Kansas City</td>\n",
       "      <td>Kansas City</td>\n",
       "      <td>MO</td>\n",
       "      <td>Missouri</td>\n",
       "      <td>3</td>\n",
       "    </tr>\n",
       "    <tr>\n",
       "      <th>7</th>\n",
       "      <td>Illinois</td>\n",
       "      <td>Aurora</td>\n",
       "      <td>Aurora</td>\n",
       "      <td>IL</td>\n",
       "      <td>Illinois</td>\n",
       "      <td>3</td>\n",
       "    </tr>\n",
       "    <tr>\n",
       "      <th>8</th>\n",
       "      <td>Oklahoma</td>\n",
       "      <td>Oklahoma City</td>\n",
       "      <td>Oklahoma City</td>\n",
       "      <td>OK</td>\n",
       "      <td>Oklahoma</td>\n",
       "      <td>3</td>\n",
       "    </tr>\n",
       "    <tr>\n",
       "      <th>9</th>\n",
       "      <td>Minnesota</td>\n",
       "      <td>Minneapolis</td>\n",
       "      <td>Minneapolis</td>\n",
       "      <td>MN</td>\n",
       "      <td>Minnesota</td>\n",
       "      <td>2</td>\n",
       "    </tr>\n",
       "    <tr>\n",
       "      <th>10</th>\n",
       "      <td>Texas</td>\n",
       "      <td>Katy</td>\n",
       "      <td>Katy</td>\n",
       "      <td>TX</td>\n",
       "      <td>Texas</td>\n",
       "      <td>2</td>\n",
       "    </tr>\n",
       "    <tr>\n",
       "      <th>11</th>\n",
       "      <td>North Carolina</td>\n",
       "      <td>Rocky Mount</td>\n",
       "      <td>Rocky Mount</td>\n",
       "      <td>NC</td>\n",
       "      <td>North Carolina</td>\n",
       "      <td>2</td>\n",
       "    </tr>\n",
       "    <tr>\n",
       "      <th>12</th>\n",
       "      <td>Texas</td>\n",
       "      <td>Baytown</td>\n",
       "      <td>Baytown</td>\n",
       "      <td>TX</td>\n",
       "      <td>Texas</td>\n",
       "      <td>2</td>\n",
       "    </tr>\n",
       "    <tr>\n",
       "      <th>13</th>\n",
       "      <td>Oklahoma</td>\n",
       "      <td>Broken Arrow</td>\n",
       "      <td>Broken Arrow</td>\n",
       "      <td>OK</td>\n",
       "      <td>Oklahoma</td>\n",
       "      <td>2</td>\n",
       "    </tr>\n",
       "    <tr>\n",
       "      <th>14</th>\n",
       "      <td>Washington</td>\n",
       "      <td>Bothell</td>\n",
       "      <td>Bothell</td>\n",
       "      <td>WA</td>\n",
       "      <td>Washington</td>\n",
       "      <td>2</td>\n",
       "    </tr>\n",
       "    <tr>\n",
       "      <th>15</th>\n",
       "      <td>Minnesota</td>\n",
       "      <td>Saint Cloud</td>\n",
       "      <td>Saint Cloud</td>\n",
       "      <td>MN</td>\n",
       "      <td>Minnesota</td>\n",
       "      <td>2</td>\n",
       "    </tr>\n",
       "    <tr>\n",
       "      <th>16</th>\n",
       "      <td>Nebraska</td>\n",
       "      <td>Omaha</td>\n",
       "      <td>Omaha</td>\n",
       "      <td>NE</td>\n",
       "      <td>Nebraska</td>\n",
       "      <td>2</td>\n",
       "    </tr>\n",
       "    <tr>\n",
       "      <th>17</th>\n",
       "      <td>Alabama</td>\n",
       "      <td>Phenix City</td>\n",
       "      <td>Phenix City</td>\n",
       "      <td>AL</td>\n",
       "      <td>Alabama</td>\n",
       "      <td>2</td>\n",
       "    </tr>\n",
       "    <tr>\n",
       "      <th>18</th>\n",
       "      <td>Texas</td>\n",
       "      <td>Cleveland</td>\n",
       "      <td>Cleveland</td>\n",
       "      <td>TX</td>\n",
       "      <td>Texas</td>\n",
       "      <td>2</td>\n",
       "    </tr>\n",
       "    <tr>\n",
       "      <th>19</th>\n",
       "      <td>Arizona</td>\n",
       "      <td>Tucson</td>\n",
       "      <td>Tucson</td>\n",
       "      <td>AZ</td>\n",
       "      <td>Arizona</td>\n",
       "      <td>2</td>\n",
       "    </tr>\n",
       "    <tr>\n",
       "      <th>20</th>\n",
       "      <td>South Carolina</td>\n",
       "      <td>North Charleston</td>\n",
       "      <td>North Charleston</td>\n",
       "      <td>SC</td>\n",
       "      <td>South Carolina</td>\n",
       "      <td>2</td>\n",
       "    </tr>\n",
       "    <tr>\n",
       "      <th>21</th>\n",
       "      <td>Georgia</td>\n",
       "      <td>Rome</td>\n",
       "      <td>Rome</td>\n",
       "      <td>GA</td>\n",
       "      <td>Georgia</td>\n",
       "      <td>2</td>\n",
       "    </tr>\n",
       "    <tr>\n",
       "      <th>22</th>\n",
       "      <td>Oregon</td>\n",
       "      <td>Salem</td>\n",
       "      <td>Salem</td>\n",
       "      <td>OR</td>\n",
       "      <td>Oregon</td>\n",
       "      <td>2</td>\n",
       "    </tr>\n",
       "    <tr>\n",
       "      <th>23</th>\n",
       "      <td>North Carolina</td>\n",
       "      <td>High Point</td>\n",
       "      <td>High Point</td>\n",
       "      <td>NC</td>\n",
       "      <td>North Carolina</td>\n",
       "      <td>2</td>\n",
       "    </tr>\n",
       "    <tr>\n",
       "      <th>24</th>\n",
       "      <td>Louisiana</td>\n",
       "      <td>New Orleans</td>\n",
       "      <td>New Orleans</td>\n",
       "      <td>LA</td>\n",
       "      <td>Louisiana</td>\n",
       "      <td>2</td>\n",
       "    </tr>\n",
       "    <tr>\n",
       "      <th>25</th>\n",
       "      <td>Florida</td>\n",
       "      <td>Kissimmee</td>\n",
       "      <td>Kissimmee</td>\n",
       "      <td>FL</td>\n",
       "      <td>Florida</td>\n",
       "      <td>2</td>\n",
       "    </tr>\n",
       "    <tr>\n",
       "      <th>26</th>\n",
       "      <td>Mississippi</td>\n",
       "      <td>Hattiesburg</td>\n",
       "      <td>Hattiesburg</td>\n",
       "      <td>MS</td>\n",
       "      <td>Mississippi</td>\n",
       "      <td>2</td>\n",
       "    </tr>\n",
       "    <tr>\n",
       "      <th>27</th>\n",
       "      <td>Indiana</td>\n",
       "      <td>Indianapolis</td>\n",
       "      <td>Indianapolis</td>\n",
       "      <td>IN</td>\n",
       "      <td>Indiana</td>\n",
       "      <td>2</td>\n",
       "    </tr>\n",
       "    <tr>\n",
       "      <th>28</th>\n",
       "      <td>Georgia</td>\n",
       "      <td>Augusta</td>\n",
       "      <td>Augusta</td>\n",
       "      <td>GA</td>\n",
       "      <td>Georgia</td>\n",
       "      <td>2</td>\n",
       "    </tr>\n",
       "    <tr>\n",
       "      <th>29</th>\n",
       "      <td>Ohio</td>\n",
       "      <td>Cincinnati</td>\n",
       "      <td>Cincinnati</td>\n",
       "      <td>OH</td>\n",
       "      <td>Ohio</td>\n",
       "      <td>2</td>\n",
       "    </tr>\n",
       "    <tr>\n",
       "      <th>30</th>\n",
       "      <td>Ohio</td>\n",
       "      <td>Columbus</td>\n",
       "      <td>Columbus</td>\n",
       "      <td>OH</td>\n",
       "      <td>Ohio</td>\n",
       "      <td>2</td>\n",
       "    </tr>\n",
       "    <tr>\n",
       "      <th>31</th>\n",
       "      <td>Wisconsin</td>\n",
       "      <td>Madison</td>\n",
       "      <td>Madison</td>\n",
       "      <td>WI</td>\n",
       "      <td>Wisconsin</td>\n",
       "      <td>2</td>\n",
       "    </tr>\n",
       "    <tr>\n",
       "      <th>32</th>\n",
       "      <td>Ohio</td>\n",
       "      <td>Dayton</td>\n",
       "      <td>Dayton</td>\n",
       "      <td>OH</td>\n",
       "      <td>Ohio</td>\n",
       "      <td>2</td>\n",
       "    </tr>\n",
       "    <tr>\n",
       "      <th>33</th>\n",
       "      <td>Alabama</td>\n",
       "      <td>Birmingham</td>\n",
       "      <td>Birmingham</td>\n",
       "      <td>AL</td>\n",
       "      <td>Alabama</td>\n",
       "      <td>2</td>\n",
       "    </tr>\n",
       "    <tr>\n",
       "      <th>34</th>\n",
       "      <td>Georgia</td>\n",
       "      <td>Acworth</td>\n",
       "      <td>Acworth</td>\n",
       "      <td>GA</td>\n",
       "      <td>Georgia</td>\n",
       "      <td>2</td>\n",
       "    </tr>\n",
       "    <tr>\n",
       "      <th>35</th>\n",
       "      <td>South Carolina</td>\n",
       "      <td>Columbia</td>\n",
       "      <td>Columbia</td>\n",
       "      <td>SC</td>\n",
       "      <td>South Carolina</td>\n",
       "      <td>2</td>\n",
       "    </tr>\n",
       "    <tr>\n",
       "      <th>36</th>\n",
       "      <td>New York</td>\n",
       "      <td>Troy</td>\n",
       "      <td>Troy</td>\n",
       "      <td>NY</td>\n",
       "      <td>New York</td>\n",
       "      <td>2</td>\n",
       "    </tr>\n",
       "    <tr>\n",
       "      <th>37</th>\n",
       "      <td>Texas</td>\n",
       "      <td>San Antonio</td>\n",
       "      <td>San Antonio</td>\n",
       "      <td>TX</td>\n",
       "      <td>Texas</td>\n",
       "      <td>2</td>\n",
       "    </tr>\n",
       "    <tr>\n",
       "      <th>38</th>\n",
       "      <td>West Virginia</td>\n",
       "      <td>Huntington</td>\n",
       "      <td>Huntington</td>\n",
       "      <td>WV</td>\n",
       "      <td>West Virginia</td>\n",
       "      <td>2</td>\n",
       "    </tr>\n",
       "    <tr>\n",
       "      <th>39</th>\n",
       "      <td>Michigan</td>\n",
       "      <td>Lansing</td>\n",
       "      <td>Lansing</td>\n",
       "      <td>MI</td>\n",
       "      <td>Michigan</td>\n",
       "      <td>2</td>\n",
       "    </tr>\n",
       "    <tr>\n",
       "      <th>40</th>\n",
       "      <td>South Dakota</td>\n",
       "      <td>Sioux Falls</td>\n",
       "      <td>Sioux Falls</td>\n",
       "      <td>SD</td>\n",
       "      <td>South Dakota</td>\n",
       "      <td>2</td>\n",
       "    </tr>\n",
       "    <tr>\n",
       "      <th>41</th>\n",
       "      <td>Colorado</td>\n",
       "      <td>Brighton</td>\n",
       "      <td>Brighton</td>\n",
       "      <td>CO</td>\n",
       "      <td>Colorado</td>\n",
       "      <td>2</td>\n",
       "    </tr>\n",
       "    <tr>\n",
       "      <th>42</th>\n",
       "      <td>Texas</td>\n",
       "      <td>Spring</td>\n",
       "      <td>Spring</td>\n",
       "      <td>TX</td>\n",
       "      <td>Texas</td>\n",
       "      <td>2</td>\n",
       "    </tr>\n",
       "    <tr>\n",
       "      <th>43</th>\n",
       "      <td>Colorado</td>\n",
       "      <td>Aurora</td>\n",
       "      <td>Aurora</td>\n",
       "      <td>CO</td>\n",
       "      <td>Colorado</td>\n",
       "      <td>2</td>\n",
       "    </tr>\n",
       "  </tbody>\n",
       "</table>\n",
       "</div>"
      ],
      "text/plain": [
       "             State    City Or County Official USPS city name  \\\n",
       "0        Minnesota        Saint Paul              Saint Paul   \n",
       "1         Maryland            Laurel                  Laurel   \n",
       "2          Georgia           Atlanta                 Atlanta   \n",
       "3            Texas          Amarillo                Amarillo   \n",
       "4      Mississippi        Greenville              Greenville   \n",
       "5           Oregon          Portland                Portland   \n",
       "6         Missouri       Kansas City             Kansas City   \n",
       "7         Illinois            Aurora                  Aurora   \n",
       "8         Oklahoma     Oklahoma City           Oklahoma City   \n",
       "9        Minnesota       Minneapolis             Minneapolis   \n",
       "10           Texas              Katy                    Katy   \n",
       "11  North Carolina       Rocky Mount             Rocky Mount   \n",
       "12           Texas           Baytown                 Baytown   \n",
       "13        Oklahoma      Broken Arrow            Broken Arrow   \n",
       "14      Washington           Bothell                 Bothell   \n",
       "15       Minnesota       Saint Cloud             Saint Cloud   \n",
       "16        Nebraska             Omaha                   Omaha   \n",
       "17         Alabama       Phenix City             Phenix City   \n",
       "18           Texas         Cleveland               Cleveland   \n",
       "19         Arizona            Tucson                  Tucson   \n",
       "20  South Carolina  North Charleston        North Charleston   \n",
       "21         Georgia              Rome                    Rome   \n",
       "22          Oregon             Salem                   Salem   \n",
       "23  North Carolina        High Point              High Point   \n",
       "24       Louisiana       New Orleans             New Orleans   \n",
       "25         Florida         Kissimmee               Kissimmee   \n",
       "26     Mississippi       Hattiesburg             Hattiesburg   \n",
       "27         Indiana      Indianapolis            Indianapolis   \n",
       "28         Georgia           Augusta                 Augusta   \n",
       "29            Ohio        Cincinnati              Cincinnati   \n",
       "30            Ohio          Columbus                Columbus   \n",
       "31       Wisconsin           Madison                 Madison   \n",
       "32            Ohio            Dayton                  Dayton   \n",
       "33         Alabama        Birmingham              Birmingham   \n",
       "34         Georgia           Acworth                 Acworth   \n",
       "35  South Carolina          Columbia                Columbia   \n",
       "36        New York              Troy                    Troy   \n",
       "37           Texas       San Antonio             San Antonio   \n",
       "38   West Virginia        Huntington              Huntington   \n",
       "39        Michigan           Lansing                 Lansing   \n",
       "40    South Dakota       Sioux Falls             Sioux Falls   \n",
       "41        Colorado          Brighton                Brighton   \n",
       "42           Texas            Spring                  Spring   \n",
       "43        Colorado            Aurora                  Aurora   \n",
       "\n",
       "   Official USPS State Code Official State Name  count  \n",
       "0                        MN           Minnesota      4  \n",
       "1                        MD            Maryland      3  \n",
       "2                        GA             Georgia      3  \n",
       "3                        TX               Texas      3  \n",
       "4                        MS         Mississippi      3  \n",
       "5                        OR              Oregon      3  \n",
       "6                        MO            Missouri      3  \n",
       "7                        IL            Illinois      3  \n",
       "8                        OK            Oklahoma      3  \n",
       "9                        MN           Minnesota      2  \n",
       "10                       TX               Texas      2  \n",
       "11                       NC      North Carolina      2  \n",
       "12                       TX               Texas      2  \n",
       "13                       OK            Oklahoma      2  \n",
       "14                       WA          Washington      2  \n",
       "15                       MN           Minnesota      2  \n",
       "16                       NE            Nebraska      2  \n",
       "17                       AL             Alabama      2  \n",
       "18                       TX               Texas      2  \n",
       "19                       AZ             Arizona      2  \n",
       "20                       SC      South Carolina      2  \n",
       "21                       GA             Georgia      2  \n",
       "22                       OR              Oregon      2  \n",
       "23                       NC      North Carolina      2  \n",
       "24                       LA           Louisiana      2  \n",
       "25                       FL             Florida      2  \n",
       "26                       MS         Mississippi      2  \n",
       "27                       IN             Indiana      2  \n",
       "28                       GA             Georgia      2  \n",
       "29                       OH                Ohio      2  \n",
       "30                       OH                Ohio      2  \n",
       "31                       WI           Wisconsin      2  \n",
       "32                       OH                Ohio      2  \n",
       "33                       AL             Alabama      2  \n",
       "34                       GA             Georgia      2  \n",
       "35                       SC      South Carolina      2  \n",
       "36                       NY            New York      2  \n",
       "37                       TX               Texas      2  \n",
       "38                       WV       West Virginia      2  \n",
       "39                       MI            Michigan      2  \n",
       "40                       SD        South Dakota      2  \n",
       "41                       CO            Colorado      2  \n",
       "42                       TX               Texas      2  \n",
       "43                       CO            Colorado      2  "
      ]
     },
     "execution_count": 49,
     "metadata": {},
     "output_type": "execute_result"
    }
   ],
   "source": [
    "# frequency of a city having more that 1 county\n",
    "\n",
    "pd.DataFrame(location_data_2[location_data_2.columns[:-1]].value_counts()).reset_index()[pd.DataFrame(location_data_2[location_data_2.columns[:-1]].value_counts()).reset_index()[\"count\"] > 1]"
   ]
  },
  {
   "cell_type": "markdown",
   "id": "d04f5112-c93a-48bb-9c4c-57d172f2d510",
   "metadata": {},
   "source": [
    "- there are >= 2 county names for the same city, keeping the first row and eliminating the rest as duplicates"
   ]
  },
  {
   "cell_type": "code",
   "execution_count": 50,
   "id": "19eafa73-6761-4a65-a7c9-b4db691016e4",
   "metadata": {},
   "outputs": [],
   "source": [
    "location_data_2 = location_data_2[location_data_2.duplicated(subset = location_data_2.columns[:-1],keep = 'first') == False]"
   ]
  },
  {
   "cell_type": "code",
   "execution_count": 51,
   "id": "606f4abd-d6c9-4082-907f-207a06e56961",
   "metadata": {},
   "outputs": [
    {
     "data": {
      "text/html": [
       "<div>\n",
       "<style scoped>\n",
       "    .dataframe tbody tr th:only-of-type {\n",
       "        vertical-align: middle;\n",
       "    }\n",
       "\n",
       "    .dataframe tbody tr th {\n",
       "        vertical-align: top;\n",
       "    }\n",
       "\n",
       "    .dataframe thead th {\n",
       "        text-align: right;\n",
       "    }\n",
       "</style>\n",
       "<table border=\"1\" class=\"dataframe\">\n",
       "  <thead>\n",
       "    <tr style=\"text-align: right;\">\n",
       "      <th></th>\n",
       "      <th>State</th>\n",
       "      <th>City Or County</th>\n",
       "      <th>Official USPS city name</th>\n",
       "      <th>Official USPS State Code</th>\n",
       "      <th>Official State Name</th>\n",
       "      <th>Primary Official County Name</th>\n",
       "    </tr>\n",
       "  </thead>\n",
       "  <tbody>\n",
       "    <tr>\n",
       "      <th>0</th>\n",
       "      <td>Louisiana</td>\n",
       "      <td>New Orleans</td>\n",
       "      <td>New Orleans</td>\n",
       "      <td>LA</td>\n",
       "      <td>Louisiana</td>\n",
       "      <td>Orleans</td>\n",
       "    </tr>\n",
       "    <tr>\n",
       "      <th>3</th>\n",
       "      <td>Missouri</td>\n",
       "      <td>Saint Louis</td>\n",
       "      <td>Saint Louis</td>\n",
       "      <td>MO</td>\n",
       "      <td>Missouri</td>\n",
       "      <td>St. Louis</td>\n",
       "    </tr>\n",
       "    <tr>\n",
       "      <th>4</th>\n",
       "      <td>Kentucky</td>\n",
       "      <td>Winchester</td>\n",
       "      <td>Winchester</td>\n",
       "      <td>KY</td>\n",
       "      <td>Kentucky</td>\n",
       "      <td>Clark</td>\n",
       "    </tr>\n",
       "    <tr>\n",
       "      <th>5</th>\n",
       "      <td>Michigan</td>\n",
       "      <td>Detroit</td>\n",
       "      <td>Detroit</td>\n",
       "      <td>MI</td>\n",
       "      <td>Michigan</td>\n",
       "      <td>Wayne</td>\n",
       "    </tr>\n",
       "    <tr>\n",
       "      <th>6</th>\n",
       "      <td>New York</td>\n",
       "      <td>Webster</td>\n",
       "      <td>Webster</td>\n",
       "      <td>NY</td>\n",
       "      <td>New York</td>\n",
       "      <td>Monroe</td>\n",
       "    </tr>\n",
       "    <tr>\n",
       "      <th>...</th>\n",
       "      <td>...</td>\n",
       "      <td>...</td>\n",
       "      <td>...</td>\n",
       "      <td>...</td>\n",
       "      <td>...</td>\n",
       "      <td>...</td>\n",
       "    </tr>\n",
       "    <tr>\n",
       "      <th>1129</th>\n",
       "      <td>Pennsylvania</td>\n",
       "      <td>Mohnton</td>\n",
       "      <td>Mohnton</td>\n",
       "      <td>PA</td>\n",
       "      <td>Pennsylvania</td>\n",
       "      <td>Berks</td>\n",
       "    </tr>\n",
       "    <tr>\n",
       "      <th>1130</th>\n",
       "      <td>Mississippi</td>\n",
       "      <td>Benoit</td>\n",
       "      <td>Benoit</td>\n",
       "      <td>MS</td>\n",
       "      <td>Mississippi</td>\n",
       "      <td>Bolivar</td>\n",
       "    </tr>\n",
       "    <tr>\n",
       "      <th>1131</th>\n",
       "      <td>Colorado</td>\n",
       "      <td>Oak Creek</td>\n",
       "      <td>Oak Creek</td>\n",
       "      <td>CO</td>\n",
       "      <td>Colorado</td>\n",
       "      <td>Routt</td>\n",
       "    </tr>\n",
       "    <tr>\n",
       "      <th>1134</th>\n",
       "      <td>Pennsylvania</td>\n",
       "      <td>Tobyhanna</td>\n",
       "      <td>Tobyhanna</td>\n",
       "      <td>PA</td>\n",
       "      <td>Pennsylvania</td>\n",
       "      <td>Monroe</td>\n",
       "    </tr>\n",
       "    <tr>\n",
       "      <th>1135</th>\n",
       "      <td>Illinois</td>\n",
       "      <td>Galesburg</td>\n",
       "      <td>Galesburg</td>\n",
       "      <td>IL</td>\n",
       "      <td>Illinois</td>\n",
       "      <td>Knox</td>\n",
       "    </tr>\n",
       "  </tbody>\n",
       "</table>\n",
       "<p>980 rows × 6 columns</p>\n",
       "</div>"
      ],
      "text/plain": [
       "             State City Or County Official USPS city name  \\\n",
       "0        Louisiana    New Orleans             New Orleans   \n",
       "3         Missouri    Saint Louis             Saint Louis   \n",
       "4         Kentucky     Winchester              Winchester   \n",
       "5         Michigan        Detroit                 Detroit   \n",
       "6         New York        Webster                 Webster   \n",
       "...            ...            ...                     ...   \n",
       "1129  Pennsylvania        Mohnton                 Mohnton   \n",
       "1130   Mississippi         Benoit                  Benoit   \n",
       "1131      Colorado      Oak Creek               Oak Creek   \n",
       "1134  Pennsylvania      Tobyhanna               Tobyhanna   \n",
       "1135      Illinois      Galesburg               Galesburg   \n",
       "\n",
       "     Official USPS State Code Official State Name Primary Official County Name  \n",
       "0                          LA           Louisiana                      Orleans  \n",
       "3                          MO            Missouri                    St. Louis  \n",
       "4                          KY            Kentucky                        Clark  \n",
       "5                          MI            Michigan                        Wayne  \n",
       "6                          NY            New York                       Monroe  \n",
       "...                       ...                 ...                          ...  \n",
       "1129                       PA        Pennsylvania                        Berks  \n",
       "1130                       MS         Mississippi                      Bolivar  \n",
       "1131                       CO            Colorado                        Routt  \n",
       "1134                       PA        Pennsylvania                       Monroe  \n",
       "1135                       IL            Illinois                         Knox  \n",
       "\n",
       "[980 rows x 6 columns]"
      ]
     },
     "execution_count": 51,
     "metadata": {},
     "output_type": "execute_result"
    }
   ],
   "source": [
    "location_data_2"
   ]
  },
  {
   "cell_type": "code",
   "execution_count": 52,
   "id": "449483aa-d382-4eb5-b2c1-fbefd9c8c645",
   "metadata": {},
   "outputs": [
    {
     "data": {
      "text/plain": [
       "980"
      ]
     },
     "execution_count": 52,
     "metadata": {},
     "output_type": "execute_result"
    }
   ],
   "source": [
    "# 980 matching cities with county information\n",
    "\n",
    "location_data_2.shape[0]"
   ]
  },
  {
   "cell_type": "code",
   "execution_count": 53,
   "id": "0a488693-bcbf-47c0-af60-cabb7a16912e",
   "metadata": {},
   "outputs": [],
   "source": [
    "# filtering unmatched data from merge_2\n",
    "\n",
    "location_data_3 = merge_2[(merge_2['Official USPS city name'].isna() == True) & (merge_2['City Or County'].notna() == True)]"
   ]
  },
  {
   "cell_type": "code",
   "execution_count": 54,
   "id": "e2d7e5d6-18ea-4b68-bf3f-68fa4295a7d5",
   "metadata": {},
   "outputs": [
    {
     "data": {
      "text/html": [
       "<div>\n",
       "<style scoped>\n",
       "    .dataframe tbody tr th:only-of-type {\n",
       "        vertical-align: middle;\n",
       "    }\n",
       "\n",
       "    .dataframe tbody tr th {\n",
       "        vertical-align: top;\n",
       "    }\n",
       "\n",
       "    .dataframe thead th {\n",
       "        text-align: right;\n",
       "    }\n",
       "</style>\n",
       "<table border=\"1\" class=\"dataframe\">\n",
       "  <thead>\n",
       "    <tr style=\"text-align: right;\">\n",
       "      <th></th>\n",
       "      <th>State</th>\n",
       "      <th>City Or County</th>\n",
       "      <th>Official USPS city name</th>\n",
       "      <th>Official USPS State Code</th>\n",
       "      <th>Official State Name</th>\n",
       "      <th>Primary Official County Name</th>\n",
       "    </tr>\n",
       "  </thead>\n",
       "  <tbody>\n",
       "    <tr>\n",
       "      <th>2</th>\n",
       "      <td>Illinois</td>\n",
       "      <td>East St. Louis</td>\n",
       "      <td>NaN</td>\n",
       "      <td>NaN</td>\n",
       "      <td>NaN</td>\n",
       "      <td>NaN</td>\n",
       "    </tr>\n",
       "    <tr>\n",
       "      <th>49</th>\n",
       "      <td>Texas</td>\n",
       "      <td>Flour Bluff</td>\n",
       "      <td>NaN</td>\n",
       "      <td>NaN</td>\n",
       "      <td>NaN</td>\n",
       "      <td>NaN</td>\n",
       "    </tr>\n",
       "    <tr>\n",
       "      <th>60</th>\n",
       "      <td>California</td>\n",
       "      <td>East Palo Alto</td>\n",
       "      <td>NaN</td>\n",
       "      <td>NaN</td>\n",
       "      <td>NaN</td>\n",
       "      <td>NaN</td>\n",
       "    </tr>\n",
       "    <tr>\n",
       "      <th>86</th>\n",
       "      <td>Washington</td>\n",
       "      <td>Skyway</td>\n",
       "      <td>NaN</td>\n",
       "      <td>NaN</td>\n",
       "      <td>NaN</td>\n",
       "      <td>NaN</td>\n",
       "    </tr>\n",
       "    <tr>\n",
       "      <th>93</th>\n",
       "      <td>Illinois</td>\n",
       "      <td>Centreville</td>\n",
       "      <td>NaN</td>\n",
       "      <td>NaN</td>\n",
       "      <td>NaN</td>\n",
       "      <td>NaN</td>\n",
       "    </tr>\n",
       "    <tr>\n",
       "      <th>...</th>\n",
       "      <td>...</td>\n",
       "      <td>...</td>\n",
       "      <td>...</td>\n",
       "      <td>...</td>\n",
       "      <td>...</td>\n",
       "      <td>...</td>\n",
       "    </tr>\n",
       "    <tr>\n",
       "      <th>1108</th>\n",
       "      <td>Louisiana</td>\n",
       "      <td>La Place (Laplace)</td>\n",
       "      <td>NaN</td>\n",
       "      <td>NaN</td>\n",
       "      <td>NaN</td>\n",
       "      <td>NaN</td>\n",
       "    </tr>\n",
       "    <tr>\n",
       "      <th>1119</th>\n",
       "      <td>South Carolina</td>\n",
       "      <td>Mccormick</td>\n",
       "      <td>NaN</td>\n",
       "      <td>NaN</td>\n",
       "      <td>NaN</td>\n",
       "      <td>NaN</td>\n",
       "    </tr>\n",
       "    <tr>\n",
       "      <th>1123</th>\n",
       "      <td>Pennsylvania</td>\n",
       "      <td>Norristown (East Norriton)</td>\n",
       "      <td>NaN</td>\n",
       "      <td>NaN</td>\n",
       "      <td>NaN</td>\n",
       "      <td>NaN</td>\n",
       "    </tr>\n",
       "    <tr>\n",
       "      <th>1132</th>\n",
       "      <td>Florida</td>\n",
       "      <td>Fort Lauderdale (Sunrise)</td>\n",
       "      <td>NaN</td>\n",
       "      <td>NaN</td>\n",
       "      <td>NaN</td>\n",
       "      <td>NaN</td>\n",
       "    </tr>\n",
       "    <tr>\n",
       "      <th>1133</th>\n",
       "      <td>Pennsylvania</td>\n",
       "      <td>Mc Kees Rocks (Mckees Rocks)</td>\n",
       "      <td>NaN</td>\n",
       "      <td>NaN</td>\n",
       "      <td>NaN</td>\n",
       "      <td>NaN</td>\n",
       "    </tr>\n",
       "  </tbody>\n",
       "</table>\n",
       "<p>102 rows × 6 columns</p>\n",
       "</div>"
      ],
      "text/plain": [
       "               State                City Or County Official USPS city name  \\\n",
       "2           Illinois                East St. Louis                     NaN   \n",
       "49             Texas                   Flour Bluff                     NaN   \n",
       "60        California                East Palo Alto                     NaN   \n",
       "86        Washington                        Skyway                     NaN   \n",
       "93          Illinois                   Centreville                     NaN   \n",
       "...              ...                           ...                     ...   \n",
       "1108       Louisiana            La Place (Laplace)                     NaN   \n",
       "1119  South Carolina                     Mccormick                     NaN   \n",
       "1123    Pennsylvania    Norristown (East Norriton)                     NaN   \n",
       "1132         Florida     Fort Lauderdale (Sunrise)                     NaN   \n",
       "1133    Pennsylvania  Mc Kees Rocks (Mckees Rocks)                     NaN   \n",
       "\n",
       "     Official USPS State Code Official State Name Primary Official County Name  \n",
       "2                         NaN                 NaN                          NaN  \n",
       "49                        NaN                 NaN                          NaN  \n",
       "60                        NaN                 NaN                          NaN  \n",
       "86                        NaN                 NaN                          NaN  \n",
       "93                        NaN                 NaN                          NaN  \n",
       "...                       ...                 ...                          ...  \n",
       "1108                      NaN                 NaN                          NaN  \n",
       "1119                      NaN                 NaN                          NaN  \n",
       "1123                      NaN                 NaN                          NaN  \n",
       "1132                      NaN                 NaN                          NaN  \n",
       "1133                      NaN                 NaN                          NaN  \n",
       "\n",
       "[102 rows x 6 columns]"
      ]
     },
     "execution_count": 54,
     "metadata": {},
     "output_type": "execute_result"
    }
   ],
   "source": [
    "location_data_3"
   ]
  },
  {
   "cell_type": "code",
   "execution_count": 55,
   "id": "d68edd06-f3ee-4df1-b78e-9fe16abd1252",
   "metadata": {},
   "outputs": [
    {
     "data": {
      "text/plain": [
       "102"
      ]
     },
     "execution_count": 55,
     "metadata": {},
     "output_type": "execute_result"
    }
   ],
   "source": [
    "location_data_3.shape[0]"
   ]
  },
  {
   "cell_type": "markdown",
   "id": "72a75676-a28f-4337-8f6e-1502ffd422d0",
   "metadata": {},
   "source": [
    "- exporting this data to get the remaining County information from **CHAT GPT**"
   ]
  },
  {
   "cell_type": "code",
   "execution_count": 56,
   "id": "391691b1-b980-41f1-ba43-33f250b4b34c",
   "metadata": {},
   "outputs": [],
   "source": [
    "location_data_3[[\"State\",\"City Or County\"]].to_csv(r'C:\\Users\\pryns\\OneDrive\\Desktop\\Dataset\\county_info.csv',index = False)"
   ]
  },
  {
   "cell_type": "markdown",
   "id": "b0c4a775-a736-45fc-a1a3-034f26d7c7f5",
   "metadata": {},
   "source": [
    "- using the country information got from **CHAT GPT**"
   ]
  },
  {
   "cell_type": "code",
   "execution_count": 57,
   "id": "1333112a-7c49-4ef5-8a89-343c758c304c",
   "metadata": {},
   "outputs": [],
   "source": [
    "location_data_3 = pd.read_csv(r'C:\\Users\\pryns\\OneDrive\\Desktop\\Dataset\\county_info_chatgpt.csv')"
   ]
  },
  {
   "cell_type": "code",
   "execution_count": 58,
   "id": "e34461e7-161e-48d1-b4fe-3b605335bff0",
   "metadata": {},
   "outputs": [],
   "source": [
    "# removing the 'County' suffix from all the county names\n",
    "\n",
    "location_data_3['County'] = location_data_3.County.str.replace(' County','')"
   ]
  },
  {
   "cell_type": "code",
   "execution_count": 59,
   "id": "88547b5f-7128-4e8c-b20b-5eeb8e54a432",
   "metadata": {},
   "outputs": [
    {
     "data": {
      "text/html": [
       "<div>\n",
       "<style scoped>\n",
       "    .dataframe tbody tr th:only-of-type {\n",
       "        vertical-align: middle;\n",
       "    }\n",
       "\n",
       "    .dataframe tbody tr th {\n",
       "        vertical-align: top;\n",
       "    }\n",
       "\n",
       "    .dataframe thead th {\n",
       "        text-align: right;\n",
       "    }\n",
       "</style>\n",
       "<table border=\"1\" class=\"dataframe\">\n",
       "  <thead>\n",
       "    <tr style=\"text-align: right;\">\n",
       "      <th></th>\n",
       "      <th>City</th>\n",
       "      <th>State</th>\n",
       "      <th>County</th>\n",
       "    </tr>\n",
       "  </thead>\n",
       "  <tbody>\n",
       "    <tr>\n",
       "      <th>0</th>\n",
       "      <td>East St. Louis</td>\n",
       "      <td>Illinois</td>\n",
       "      <td>St. Clair</td>\n",
       "    </tr>\n",
       "    <tr>\n",
       "      <th>1</th>\n",
       "      <td>Flour Bluff</td>\n",
       "      <td>Texas</td>\n",
       "      <td>Nueces</td>\n",
       "    </tr>\n",
       "    <tr>\n",
       "      <th>2</th>\n",
       "      <td>East Palo Alto</td>\n",
       "      <td>California</td>\n",
       "      <td>San Mateo</td>\n",
       "    </tr>\n",
       "    <tr>\n",
       "      <th>3</th>\n",
       "      <td>Skyway</td>\n",
       "      <td>Washington</td>\n",
       "      <td>King</td>\n",
       "    </tr>\n",
       "    <tr>\n",
       "      <th>4</th>\n",
       "      <td>Centreville</td>\n",
       "      <td>Illinois</td>\n",
       "      <td>St. Clair</td>\n",
       "    </tr>\n",
       "  </tbody>\n",
       "</table>\n",
       "</div>"
      ],
      "text/plain": [
       "             City       State     County\n",
       "0  East St. Louis    Illinois  St. Clair\n",
       "1     Flour Bluff       Texas     Nueces\n",
       "2  East Palo Alto  California  San Mateo\n",
       "3          Skyway  Washington       King\n",
       "4     Centreville    Illinois  St. Clair"
      ]
     },
     "execution_count": 59,
     "metadata": {},
     "output_type": "execute_result"
    }
   ],
   "source": [
    "location_data_3.head()"
   ]
  },
  {
   "cell_type": "code",
   "execution_count": 60,
   "id": "a75e7020-f814-43fd-90eb-39db2110b318",
   "metadata": {},
   "outputs": [
    {
     "data": {
      "text/html": [
       "<div>\n",
       "<style scoped>\n",
       "    .dataframe tbody tr th:only-of-type {\n",
       "        vertical-align: middle;\n",
       "    }\n",
       "\n",
       "    .dataframe tbody tr th {\n",
       "        vertical-align: top;\n",
       "    }\n",
       "\n",
       "    .dataframe thead th {\n",
       "        text-align: right;\n",
       "    }\n",
       "</style>\n",
       "<table border=\"1\" class=\"dataframe\">\n",
       "  <thead>\n",
       "    <tr style=\"text-align: right;\">\n",
       "      <th></th>\n",
       "      <th>City</th>\n",
       "      <th>State</th>\n",
       "      <th>County</th>\n",
       "    </tr>\n",
       "  </thead>\n",
       "  <tbody>\n",
       "    <tr>\n",
       "      <th>42</th>\n",
       "      <td>New Orleans (Gentilly)</td>\n",
       "      <td>Louisiana</td>\n",
       "      <td>Orleans Parish</td>\n",
       "    </tr>\n",
       "    <tr>\n",
       "      <th>49</th>\n",
       "      <td>New Orleans (Algiers)</td>\n",
       "      <td>Louisiana</td>\n",
       "      <td>Orleans Parish</td>\n",
       "    </tr>\n",
       "    <tr>\n",
       "      <th>89</th>\n",
       "      <td>Hahnville (Killona)</td>\n",
       "      <td>Louisiana</td>\n",
       "      <td>St. Charles Parish</td>\n",
       "    </tr>\n",
       "    <tr>\n",
       "      <th>97</th>\n",
       "      <td>La Place (Laplace)</td>\n",
       "      <td>Louisiana</td>\n",
       "      <td>St. John the Baptist Parish</td>\n",
       "    </tr>\n",
       "  </tbody>\n",
       "</table>\n",
       "</div>"
      ],
      "text/plain": [
       "                      City      State                       County\n",
       "42  New Orleans (Gentilly)  Louisiana               Orleans Parish\n",
       "49   New Orleans (Algiers)  Louisiana               Orleans Parish\n",
       "89     Hahnville (Killona)  Louisiana           St. Charles Parish\n",
       "97      La Place (Laplace)  Louisiana  St. John the Baptist Parish"
      ]
     },
     "execution_count": 60,
     "metadata": {},
     "output_type": "execute_result"
    }
   ],
   "source": [
    "# Checking if  the 'Parish' suffix exists in county names\n",
    "location_data_3[location_data_3['County'].str.contains('Parish')]"
   ]
  },
  {
   "cell_type": "code",
   "execution_count": 61,
   "id": "2d9bd3f8-9ec3-437d-92fe-1953069c729f",
   "metadata": {},
   "outputs": [],
   "source": [
    "# removing the 'Parish' suffix from the county names\n",
    "\n",
    "location_data_3['County'] = location_data_3['County'].str.replace(' Parish','')\n"
   ]
  },
  {
   "cell_type": "code",
   "execution_count": 62,
   "id": "e23570ab-57e2-41db-af1c-f8032e6f01dc",
   "metadata": {},
   "outputs": [
    {
     "data": {
      "text/html": [
       "<div>\n",
       "<style scoped>\n",
       "    .dataframe tbody tr th:only-of-type {\n",
       "        vertical-align: middle;\n",
       "    }\n",
       "\n",
       "    .dataframe tbody tr th {\n",
       "        vertical-align: top;\n",
       "    }\n",
       "\n",
       "    .dataframe thead th {\n",
       "        text-align: right;\n",
       "    }\n",
       "</style>\n",
       "<table border=\"1\" class=\"dataframe\">\n",
       "  <thead>\n",
       "    <tr style=\"text-align: right;\">\n",
       "      <th></th>\n",
       "      <th>City</th>\n",
       "      <th>State</th>\n",
       "      <th>County</th>\n",
       "    </tr>\n",
       "  </thead>\n",
       "  <tbody>\n",
       "  </tbody>\n",
       "</table>\n",
       "</div>"
      ],
      "text/plain": [
       "Empty DataFrame\n",
       "Columns: [City, State, County]\n",
       "Index: []"
      ]
     },
     "execution_count": 62,
     "metadata": {},
     "output_type": "execute_result"
    }
   ],
   "source": [
    "location_data_3[location_data_3['County'].str.contains('Parish')]"
   ]
  },
  {
   "cell_type": "code",
   "execution_count": 63,
   "id": "b33599e6-ef72-46be-a21f-fc8e95984bad",
   "metadata": {},
   "outputs": [],
   "source": [
    "# renaming the County Column to \"County/Parish\"\n",
    "\n",
    "location_data_3.rename(columns = {'County':'County/Parish'},inplace = True)"
   ]
  },
  {
   "cell_type": "code",
   "execution_count": 64,
   "id": "8680f801-b7d3-4b33-b088-05b491c42c43",
   "metadata": {},
   "outputs": [
    {
     "data": {
      "text/html": [
       "<div>\n",
       "<style scoped>\n",
       "    .dataframe tbody tr th:only-of-type {\n",
       "        vertical-align: middle;\n",
       "    }\n",
       "\n",
       "    .dataframe tbody tr th {\n",
       "        vertical-align: top;\n",
       "    }\n",
       "\n",
       "    .dataframe thead th {\n",
       "        text-align: right;\n",
       "    }\n",
       "</style>\n",
       "<table border=\"1\" class=\"dataframe\">\n",
       "  <thead>\n",
       "    <tr style=\"text-align: right;\">\n",
       "      <th></th>\n",
       "      <th>City</th>\n",
       "      <th>State</th>\n",
       "      <th>County/Parish</th>\n",
       "    </tr>\n",
       "  </thead>\n",
       "  <tbody>\n",
       "    <tr>\n",
       "      <th>0</th>\n",
       "      <td>East St. Louis</td>\n",
       "      <td>Illinois</td>\n",
       "      <td>St. Clair</td>\n",
       "    </tr>\n",
       "    <tr>\n",
       "      <th>1</th>\n",
       "      <td>Flour Bluff</td>\n",
       "      <td>Texas</td>\n",
       "      <td>Nueces</td>\n",
       "    </tr>\n",
       "    <tr>\n",
       "      <th>2</th>\n",
       "      <td>East Palo Alto</td>\n",
       "      <td>California</td>\n",
       "      <td>San Mateo</td>\n",
       "    </tr>\n",
       "    <tr>\n",
       "      <th>3</th>\n",
       "      <td>Skyway</td>\n",
       "      <td>Washington</td>\n",
       "      <td>King</td>\n",
       "    </tr>\n",
       "    <tr>\n",
       "      <th>4</th>\n",
       "      <td>Centreville</td>\n",
       "      <td>Illinois</td>\n",
       "      <td>St. Clair</td>\n",
       "    </tr>\n",
       "  </tbody>\n",
       "</table>\n",
       "</div>"
      ],
      "text/plain": [
       "             City       State County/Parish\n",
       "0  East St. Louis    Illinois     St. Clair\n",
       "1     Flour Bluff       Texas        Nueces\n",
       "2  East Palo Alto  California     San Mateo\n",
       "3          Skyway  Washington          King\n",
       "4     Centreville    Illinois     St. Clair"
      ]
     },
     "execution_count": 64,
     "metadata": {},
     "output_type": "execute_result"
    }
   ],
   "source": [
    "location_data_3.head()"
   ]
  },
  {
   "cell_type": "code",
   "execution_count": 66,
   "id": "65a3b121-9ca4-4786-8c5b-4a30a76136e1",
   "metadata": {},
   "outputs": [
    {
     "data": {
      "text/plain": [
       "1219"
      ]
     },
     "execution_count": 66,
     "metadata": {},
     "output_type": "execute_result"
    }
   ],
   "source": [
    "# checking if data has been extracted for the required no.of cities\n",
    "sum((location_data_1.shape[0],location_data_2.shape[0],location_data_3.shape[0]))"
   ]
  },
  {
   "cell_type": "markdown",
   "id": "c945e000-d01e-409f-954b-051d9a8960c2",
   "metadata": {
    "jp-MarkdownHeadingCollapsed": true
   },
   "source": [
    "## Cleaning and exporting data for POWER BI Consumption"
   ]
  },
  {
   "cell_type": "markdown",
   "id": "f89bd07a-09f0-4612-9348-5d2c93571110",
   "metadata": {},
   "source": [
    "- checking out the column labels and sequence"
   ]
  },
  {
   "cell_type": "code",
   "execution_count": 67,
   "id": "77a8195e-6d13-4502-ac6b-7a9b68d4e4f2",
   "metadata": {},
   "outputs": [
    {
     "data": {
      "text/plain": [
       "Index(['State', 'City Or County', 'Official State Name',\n",
       "       'Primary Official County Name'],\n",
       "      dtype='object')"
      ]
     },
     "execution_count": 67,
     "metadata": {},
     "output_type": "execute_result"
    }
   ],
   "source": [
    "location_data_1.columns"
   ]
  },
  {
   "cell_type": "code",
   "execution_count": 68,
   "id": "5b45c638-5269-4383-a8e3-533624791de8",
   "metadata": {},
   "outputs": [
    {
     "data": {
      "text/plain": [
       "Index(['State', 'City Or County', 'Official USPS city name',\n",
       "       'Official USPS State Code', 'Official State Name',\n",
       "       'Primary Official County Name'],\n",
       "      dtype='object')"
      ]
     },
     "execution_count": 68,
     "metadata": {},
     "output_type": "execute_result"
    }
   ],
   "source": [
    "location_data_2.columns"
   ]
  },
  {
   "cell_type": "code",
   "execution_count": 69,
   "id": "f979ee9c-40c5-4572-a467-e234480a832a",
   "metadata": {},
   "outputs": [
    {
     "data": {
      "text/plain": [
       "Index(['City', 'State', 'County/Parish'], dtype='object')"
      ]
     },
     "execution_count": 69,
     "metadata": {},
     "output_type": "execute_result"
    }
   ],
   "source": [
    "location_data_3.columns"
   ]
  },
  {
   "cell_type": "code",
   "execution_count": 70,
   "id": "f83cc2cc-3671-4eb6-806c-101234dc1f01",
   "metadata": {},
   "outputs": [
    {
     "data": {
      "text/html": [
       "<div>\n",
       "<style scoped>\n",
       "    .dataframe tbody tr th:only-of-type {\n",
       "        vertical-align: middle;\n",
       "    }\n",
       "\n",
       "    .dataframe tbody tr th {\n",
       "        vertical-align: top;\n",
       "    }\n",
       "\n",
       "    .dataframe thead th {\n",
       "        text-align: right;\n",
       "    }\n",
       "</style>\n",
       "<table border=\"1\" class=\"dataframe\">\n",
       "  <thead>\n",
       "    <tr style=\"text-align: right;\">\n",
       "      <th></th>\n",
       "      <th>State</th>\n",
       "      <th>City Or County</th>\n",
       "      <th>Official State Name</th>\n",
       "      <th>Primary Official County Name</th>\n",
       "    </tr>\n",
       "  </thead>\n",
       "  <tbody>\n",
       "    <tr>\n",
       "      <th>1</th>\n",
       "      <td>California</td>\n",
       "      <td>Los Angeles</td>\n",
       "      <td>California</td>\n",
       "      <td>Los Angeles</td>\n",
       "    </tr>\n",
       "    <tr>\n",
       "      <th>2</th>\n",
       "      <td>California</td>\n",
       "      <td>Sacramento</td>\n",
       "      <td>California</td>\n",
       "      <td>Sacramento</td>\n",
       "    </tr>\n",
       "    <tr>\n",
       "      <th>9</th>\n",
       "      <td>Florida</td>\n",
       "      <td>Sarasota</td>\n",
       "      <td>Florida</td>\n",
       "      <td>Sarasota</td>\n",
       "    </tr>\n",
       "    <tr>\n",
       "      <th>19</th>\n",
       "      <td>Virginia</td>\n",
       "      <td>Newport News</td>\n",
       "      <td>Virginia</td>\n",
       "      <td>Newport News</td>\n",
       "    </tr>\n",
       "    <tr>\n",
       "      <th>26</th>\n",
       "      <td>California</td>\n",
       "      <td>San Francisco</td>\n",
       "      <td>California</td>\n",
       "      <td>San Francisco</td>\n",
       "    </tr>\n",
       "  </tbody>\n",
       "</table>\n",
       "</div>"
      ],
      "text/plain": [
       "         State City Or County Official State Name Primary Official County Name\n",
       "1   California    Los Angeles          California                  Los Angeles\n",
       "2   California     Sacramento          California                   Sacramento\n",
       "9      Florida       Sarasota             Florida                     Sarasota\n",
       "19    Virginia   Newport News            Virginia                 Newport News\n",
       "26  California  San Francisco          California                San Francisco"
      ]
     },
     "execution_count": 70,
     "metadata": {},
     "output_type": "execute_result"
    }
   ],
   "source": [
    "location_data_1.head()"
   ]
  },
  {
   "cell_type": "code",
   "execution_count": 73,
   "id": "403f581c-9be7-4874-8a18-f418cf59991a",
   "metadata": {},
   "outputs": [
    {
     "name": "stderr",
     "output_type": "stream",
     "text": [
      "C:\\Users\\pryns\\AppData\\Local\\Temp\\ipykernel_9972\\479317254.py:1: SettingWithCopyWarning: \n",
      "A value is trying to be set on a copy of a slice from a DataFrame\n",
      "\n",
      "See the caveats in the documentation: https://pandas.pydata.org/pandas-docs/stable/user_guide/indexing.html#returning-a-view-versus-a-copy\n",
      "  location_data_1.rename({\"Primary Official County Name\":\"County\"},axis = 1,inplace = True)\n"
     ]
    }
   ],
   "source": [
    "location_data_1.rename({\"Primary Official County Name\":\"County/Parish\"},axis = 1,inplace = True)"
   ]
  },
  {
   "cell_type": "code",
   "execution_count": 77,
   "id": "d25f21b5-3846-495d-bd78-cd753b4c3457",
   "metadata": {},
   "outputs": [
    {
     "name": "stderr",
     "output_type": "stream",
     "text": [
      "C:\\Users\\pryns\\AppData\\Local\\Temp\\ipykernel_9972\\3570230377.py:1: SettingWithCopyWarning: \n",
      "A value is trying to be set on a copy of a slice from a DataFrame\n",
      "\n",
      "See the caveats in the documentation: https://pandas.pydata.org/pandas-docs/stable/user_guide/indexing.html#returning-a-view-versus-a-copy\n",
      "  location_data_1.drop(\"Official State Name\", axis = 1,inplace = True)\n"
     ]
    }
   ],
   "source": [
    "location_data_1.drop(\"Official State Name\", axis = 1,inplace = True)"
   ]
  },
  {
   "cell_type": "code",
   "execution_count": 80,
   "id": "2f00e4c2-6080-439f-8228-2da27901e483",
   "metadata": {},
   "outputs": [
    {
     "data": {
      "text/html": [
       "<div>\n",
       "<style scoped>\n",
       "    .dataframe tbody tr th:only-of-type {\n",
       "        vertical-align: middle;\n",
       "    }\n",
       "\n",
       "    .dataframe tbody tr th {\n",
       "        vertical-align: top;\n",
       "    }\n",
       "\n",
       "    .dataframe thead th {\n",
       "        text-align: right;\n",
       "    }\n",
       "</style>\n",
       "<table border=\"1\" class=\"dataframe\">\n",
       "  <thead>\n",
       "    <tr style=\"text-align: right;\">\n",
       "      <th></th>\n",
       "      <th>State</th>\n",
       "      <th>City Or County</th>\n",
       "      <th>County</th>\n",
       "    </tr>\n",
       "  </thead>\n",
       "  <tbody>\n",
       "    <tr>\n",
       "      <th>1</th>\n",
       "      <td>California</td>\n",
       "      <td>Los Angeles</td>\n",
       "      <td>Los Angeles</td>\n",
       "    </tr>\n",
       "    <tr>\n",
       "      <th>2</th>\n",
       "      <td>California</td>\n",
       "      <td>Sacramento</td>\n",
       "      <td>Sacramento</td>\n",
       "    </tr>\n",
       "    <tr>\n",
       "      <th>9</th>\n",
       "      <td>Florida</td>\n",
       "      <td>Sarasota</td>\n",
       "      <td>Sarasota</td>\n",
       "    </tr>\n",
       "    <tr>\n",
       "      <th>19</th>\n",
       "      <td>Virginia</td>\n",
       "      <td>Newport News</td>\n",
       "      <td>Newport News</td>\n",
       "    </tr>\n",
       "    <tr>\n",
       "      <th>26</th>\n",
       "      <td>California</td>\n",
       "      <td>San Francisco</td>\n",
       "      <td>San Francisco</td>\n",
       "    </tr>\n",
       "    <tr>\n",
       "      <th>...</th>\n",
       "      <td>...</td>\n",
       "      <td>...</td>\n",
       "      <td>...</td>\n",
       "    </tr>\n",
       "    <tr>\n",
       "      <th>1151</th>\n",
       "      <td>South Carolina</td>\n",
       "      <td>Darlington</td>\n",
       "      <td>Darlington</td>\n",
       "    </tr>\n",
       "    <tr>\n",
       "      <th>1191</th>\n",
       "      <td>California</td>\n",
       "      <td>Orange</td>\n",
       "      <td>Orange</td>\n",
       "    </tr>\n",
       "    <tr>\n",
       "      <th>1193</th>\n",
       "      <td>Colorado</td>\n",
       "      <td>Boulder</td>\n",
       "      <td>Boulder</td>\n",
       "    </tr>\n",
       "    <tr>\n",
       "      <th>1214</th>\n",
       "      <td>Oklahoma</td>\n",
       "      <td>Muskogee</td>\n",
       "      <td>Muskogee</td>\n",
       "    </tr>\n",
       "    <tr>\n",
       "      <th>1217</th>\n",
       "      <td>California</td>\n",
       "      <td>Santa Barbara</td>\n",
       "      <td>Santa Barbara</td>\n",
       "    </tr>\n",
       "  </tbody>\n",
       "</table>\n",
       "<p>137 rows × 3 columns</p>\n",
       "</div>"
      ],
      "text/plain": [
       "               State City Or County         County\n",
       "1         California    Los Angeles    Los Angeles\n",
       "2         California     Sacramento     Sacramento\n",
       "9            Florida       Sarasota       Sarasota\n",
       "19          Virginia   Newport News   Newport News\n",
       "26        California  San Francisco  San Francisco\n",
       "...              ...            ...            ...\n",
       "1151  South Carolina     Darlington     Darlington\n",
       "1191      California         Orange         Orange\n",
       "1193        Colorado        Boulder        Boulder\n",
       "1214        Oklahoma       Muskogee       Muskogee\n",
       "1217      California  Santa Barbara  Santa Barbara\n",
       "\n",
       "[137 rows x 3 columns]"
      ]
     },
     "execution_count": 80,
     "metadata": {},
     "output_type": "execute_result"
    }
   ],
   "source": [
    "location_data_1"
   ]
  },
  {
   "cell_type": "code",
   "execution_count": 86,
   "id": "10ef4395-9380-4920-b6fe-4ceb3579b21f",
   "metadata": {},
   "outputs": [],
   "source": [
    "location_data_2.drop([\"Official USPS city name\",\"Official USPS State Code\",\"Official State Name\"],axis=1,inplace = True)"
   ]
  },
  {
   "cell_type": "code",
   "execution_count": 87,
   "id": "6672cf7d-e2ee-4974-afb9-9fb52b8670a2",
   "metadata": {},
   "outputs": [],
   "source": [
    "location_data_2.rename({\"Primary Official County Name\":\"County/Parish\"},axis = 1,inplace = True)"
   ]
  },
  {
   "cell_type": "code",
   "execution_count": 88,
   "id": "6a09924f-6364-4876-bf5a-611f44b1d034",
   "metadata": {},
   "outputs": [
    {
     "data": {
      "text/html": [
       "<div>\n",
       "<style scoped>\n",
       "    .dataframe tbody tr th:only-of-type {\n",
       "        vertical-align: middle;\n",
       "    }\n",
       "\n",
       "    .dataframe tbody tr th {\n",
       "        vertical-align: top;\n",
       "    }\n",
       "\n",
       "    .dataframe thead th {\n",
       "        text-align: right;\n",
       "    }\n",
       "</style>\n",
       "<table border=\"1\" class=\"dataframe\">\n",
       "  <thead>\n",
       "    <tr style=\"text-align: right;\">\n",
       "      <th></th>\n",
       "      <th>State</th>\n",
       "      <th>City Or County</th>\n",
       "      <th>County</th>\n",
       "    </tr>\n",
       "  </thead>\n",
       "  <tbody>\n",
       "    <tr>\n",
       "      <th>0</th>\n",
       "      <td>Louisiana</td>\n",
       "      <td>New Orleans</td>\n",
       "      <td>Orleans</td>\n",
       "    </tr>\n",
       "    <tr>\n",
       "      <th>3</th>\n",
       "      <td>Missouri</td>\n",
       "      <td>Saint Louis</td>\n",
       "      <td>St. Louis</td>\n",
       "    </tr>\n",
       "    <tr>\n",
       "      <th>4</th>\n",
       "      <td>Kentucky</td>\n",
       "      <td>Winchester</td>\n",
       "      <td>Clark</td>\n",
       "    </tr>\n",
       "    <tr>\n",
       "      <th>5</th>\n",
       "      <td>Michigan</td>\n",
       "      <td>Detroit</td>\n",
       "      <td>Wayne</td>\n",
       "    </tr>\n",
       "    <tr>\n",
       "      <th>6</th>\n",
       "      <td>New York</td>\n",
       "      <td>Webster</td>\n",
       "      <td>Monroe</td>\n",
       "    </tr>\n",
       "    <tr>\n",
       "      <th>...</th>\n",
       "      <td>...</td>\n",
       "      <td>...</td>\n",
       "      <td>...</td>\n",
       "    </tr>\n",
       "    <tr>\n",
       "      <th>1129</th>\n",
       "      <td>Pennsylvania</td>\n",
       "      <td>Mohnton</td>\n",
       "      <td>Berks</td>\n",
       "    </tr>\n",
       "    <tr>\n",
       "      <th>1130</th>\n",
       "      <td>Mississippi</td>\n",
       "      <td>Benoit</td>\n",
       "      <td>Bolivar</td>\n",
       "    </tr>\n",
       "    <tr>\n",
       "      <th>1131</th>\n",
       "      <td>Colorado</td>\n",
       "      <td>Oak Creek</td>\n",
       "      <td>Routt</td>\n",
       "    </tr>\n",
       "    <tr>\n",
       "      <th>1134</th>\n",
       "      <td>Pennsylvania</td>\n",
       "      <td>Tobyhanna</td>\n",
       "      <td>Monroe</td>\n",
       "    </tr>\n",
       "    <tr>\n",
       "      <th>1135</th>\n",
       "      <td>Illinois</td>\n",
       "      <td>Galesburg</td>\n",
       "      <td>Knox</td>\n",
       "    </tr>\n",
       "  </tbody>\n",
       "</table>\n",
       "<p>980 rows × 3 columns</p>\n",
       "</div>"
      ],
      "text/plain": [
       "             State City Or County     County\n",
       "0        Louisiana    New Orleans    Orleans\n",
       "3         Missouri    Saint Louis  St. Louis\n",
       "4         Kentucky     Winchester      Clark\n",
       "5         Michigan        Detroit      Wayne\n",
       "6         New York        Webster     Monroe\n",
       "...            ...            ...        ...\n",
       "1129  Pennsylvania        Mohnton      Berks\n",
       "1130   Mississippi         Benoit    Bolivar\n",
       "1131      Colorado      Oak Creek      Routt\n",
       "1134  Pennsylvania      Tobyhanna     Monroe\n",
       "1135      Illinois      Galesburg       Knox\n",
       "\n",
       "[980 rows x 3 columns]"
      ]
     },
     "execution_count": 88,
     "metadata": {},
     "output_type": "execute_result"
    }
   ],
   "source": [
    "location_data_2"
   ]
  },
  {
   "cell_type": "code",
   "execution_count": 90,
   "id": "4763ada5-29f0-4e44-9c81-252ef6f27f0e",
   "metadata": {},
   "outputs": [
    {
     "data": {
      "text/html": [
       "<div>\n",
       "<style scoped>\n",
       "    .dataframe tbody tr th:only-of-type {\n",
       "        vertical-align: middle;\n",
       "    }\n",
       "\n",
       "    .dataframe tbody tr th {\n",
       "        vertical-align: top;\n",
       "    }\n",
       "\n",
       "    .dataframe thead th {\n",
       "        text-align: right;\n",
       "    }\n",
       "</style>\n",
       "<table border=\"1\" class=\"dataframe\">\n",
       "  <thead>\n",
       "    <tr style=\"text-align: right;\">\n",
       "      <th></th>\n",
       "      <th>City</th>\n",
       "      <th>State</th>\n",
       "      <th>County/Parish</th>\n",
       "    </tr>\n",
       "  </thead>\n",
       "  <tbody>\n",
       "    <tr>\n",
       "      <th>0</th>\n",
       "      <td>East St. Louis</td>\n",
       "      <td>Illinois</td>\n",
       "      <td>St. Clair</td>\n",
       "    </tr>\n",
       "    <tr>\n",
       "      <th>1</th>\n",
       "      <td>Flour Bluff</td>\n",
       "      <td>Texas</td>\n",
       "      <td>Nueces</td>\n",
       "    </tr>\n",
       "    <tr>\n",
       "      <th>2</th>\n",
       "      <td>East Palo Alto</td>\n",
       "      <td>California</td>\n",
       "      <td>San Mateo</td>\n",
       "    </tr>\n",
       "    <tr>\n",
       "      <th>3</th>\n",
       "      <td>Skyway</td>\n",
       "      <td>Washington</td>\n",
       "      <td>King</td>\n",
       "    </tr>\n",
       "    <tr>\n",
       "      <th>4</th>\n",
       "      <td>Centreville</td>\n",
       "      <td>Illinois</td>\n",
       "      <td>St. Clair</td>\n",
       "    </tr>\n",
       "  </tbody>\n",
       "</table>\n",
       "</div>"
      ],
      "text/plain": [
       "             City       State County/Parish\n",
       "0  East St. Louis    Illinois     St. Clair\n",
       "1     Flour Bluff       Texas        Nueces\n",
       "2  East Palo Alto  California     San Mateo\n",
       "3          Skyway  Washington          King\n",
       "4     Centreville    Illinois     St. Clair"
      ]
     },
     "execution_count": 90,
     "metadata": {},
     "output_type": "execute_result"
    }
   ],
   "source": [
    "location_data_3.head()"
   ]
  },
  {
   "cell_type": "code",
   "execution_count": 103,
   "id": "29b4ab8f-734d-4858-9f38-85f5e0bbf520",
   "metadata": {},
   "outputs": [],
   "source": [
    "location_data_3 = location_data_3[['State','City','County/Parish']].copy()"
   ]
  },
  {
   "cell_type": "code",
   "execution_count": 104,
   "id": "724d64ae-1e55-4165-a453-58286f4b4bc9",
   "metadata": {},
   "outputs": [],
   "source": [
    "location_data_3.rename({\"City\":\"City Or County\"},axis = 1,inplace = True)"
   ]
  },
  {
   "cell_type": "code",
   "execution_count": 105,
   "id": "f0d99912-15f9-46b2-a028-1b8ad36cfdbe",
   "metadata": {},
   "outputs": [
    {
     "data": {
      "text/html": [
       "<div>\n",
       "<style scoped>\n",
       "    .dataframe tbody tr th:only-of-type {\n",
       "        vertical-align: middle;\n",
       "    }\n",
       "\n",
       "    .dataframe tbody tr th {\n",
       "        vertical-align: top;\n",
       "    }\n",
       "\n",
       "    .dataframe thead th {\n",
       "        text-align: right;\n",
       "    }\n",
       "</style>\n",
       "<table border=\"1\" class=\"dataframe\">\n",
       "  <thead>\n",
       "    <tr style=\"text-align: right;\">\n",
       "      <th></th>\n",
       "      <th>State</th>\n",
       "      <th>City Or County</th>\n",
       "      <th>County/Parish</th>\n",
       "    </tr>\n",
       "  </thead>\n",
       "  <tbody>\n",
       "    <tr>\n",
       "      <th>0</th>\n",
       "      <td>Illinois</td>\n",
       "      <td>East St. Louis</td>\n",
       "      <td>St. Clair</td>\n",
       "    </tr>\n",
       "    <tr>\n",
       "      <th>1</th>\n",
       "      <td>Texas</td>\n",
       "      <td>Flour Bluff</td>\n",
       "      <td>Nueces</td>\n",
       "    </tr>\n",
       "    <tr>\n",
       "      <th>2</th>\n",
       "      <td>California</td>\n",
       "      <td>East Palo Alto</td>\n",
       "      <td>San Mateo</td>\n",
       "    </tr>\n",
       "    <tr>\n",
       "      <th>3</th>\n",
       "      <td>Washington</td>\n",
       "      <td>Skyway</td>\n",
       "      <td>King</td>\n",
       "    </tr>\n",
       "    <tr>\n",
       "      <th>4</th>\n",
       "      <td>Illinois</td>\n",
       "      <td>Centreville</td>\n",
       "      <td>St. Clair</td>\n",
       "    </tr>\n",
       "    <tr>\n",
       "      <th>...</th>\n",
       "      <td>...</td>\n",
       "      <td>...</td>\n",
       "      <td>...</td>\n",
       "    </tr>\n",
       "    <tr>\n",
       "      <th>97</th>\n",
       "      <td>Louisiana</td>\n",
       "      <td>La Place (Laplace)</td>\n",
       "      <td>St. John the Baptist</td>\n",
       "    </tr>\n",
       "    <tr>\n",
       "      <th>98</th>\n",
       "      <td>South Carolina</td>\n",
       "      <td>Mccormick</td>\n",
       "      <td>McCormick</td>\n",
       "    </tr>\n",
       "    <tr>\n",
       "      <th>99</th>\n",
       "      <td>Pennsylvania</td>\n",
       "      <td>Norristown (East Norriton)</td>\n",
       "      <td>Montgomery</td>\n",
       "    </tr>\n",
       "    <tr>\n",
       "      <th>100</th>\n",
       "      <td>Florida</td>\n",
       "      <td>Fort Lauderdale (Sunrise)</td>\n",
       "      <td>Broward</td>\n",
       "    </tr>\n",
       "    <tr>\n",
       "      <th>101</th>\n",
       "      <td>Pennsylvania</td>\n",
       "      <td>McKees Rocks (Mckees Rocks)</td>\n",
       "      <td>Allegheny</td>\n",
       "    </tr>\n",
       "  </tbody>\n",
       "</table>\n",
       "<p>102 rows × 3 columns</p>\n",
       "</div>"
      ],
      "text/plain": [
       "              State               City Or County         County/Parish\n",
       "0          Illinois               East St. Louis             St. Clair\n",
       "1             Texas                  Flour Bluff                Nueces\n",
       "2        California               East Palo Alto             San Mateo\n",
       "3        Washington                       Skyway                  King\n",
       "4          Illinois                  Centreville             St. Clair\n",
       "..              ...                          ...                   ...\n",
       "97        Louisiana           La Place (Laplace)  St. John the Baptist\n",
       "98   South Carolina                    Mccormick             McCormick\n",
       "99     Pennsylvania   Norristown (East Norriton)            Montgomery\n",
       "100         Florida    Fort Lauderdale (Sunrise)               Broward\n",
       "101    Pennsylvania  McKees Rocks (Mckees Rocks)             Allegheny\n",
       "\n",
       "[102 rows x 3 columns]"
      ]
     },
     "execution_count": 105,
     "metadata": {},
     "output_type": "execute_result"
    }
   ],
   "source": [
    "location_data_3"
   ]
  },
  {
   "cell_type": "code",
   "execution_count": 107,
   "id": "959f7941-075e-4b32-a740-0df614c42142",
   "metadata": {},
   "outputs": [],
   "source": [
    "gegraphic_data_incidents = pd.concat([location_data_1,location_data_2,location_data_3],ignore_index = True)"
   ]
  },
  {
   "cell_type": "markdown",
   "id": "5b8f72bb-0444-4f20-a91f-5852e3102eba",
   "metadata": {},
   "source": [
    "## exporting the required data for POWER BI"
   ]
  },
  {
   "cell_type": "code",
   "execution_count": 110,
   "id": "2fd5969a-9826-4039-abeb-2a3fe0452555",
   "metadata": {},
   "outputs": [],
   "source": [
    "gegraphic_data_incidents.to_csv(r'C:\\Users\\pryns\\OneDrive\\Desktop\\Dataset\\Processed Dataset for POWER BI\\us_city_county.csv',index = False)"
   ]
  },
  {
   "cell_type": "code",
   "execution_count": 111,
   "id": "cc2c2c0e-d42a-4464-ac7e-0bb92de571d4",
   "metadata": {},
   "outputs": [],
   "source": [
    "us_states_regions.to_csv(r'C:\\Users\\pryns\\OneDrive\\Desktop\\Dataset\\Processed Dataset for POWER BI\\us_states_regions.csv',index = False)"
   ]
  },
  {
   "cell_type": "code",
   "execution_count": null,
   "id": "2a3af3c4-b943-496b-abdf-5df477c4649b",
   "metadata": {},
   "outputs": [],
   "source": []
  }
 ],
 "metadata": {
  "kernelspec": {
   "display_name": "general",
   "language": "python",
   "name": "general"
  },
  "language_info": {
   "codemirror_mode": {
    "name": "ipython",
    "version": 3
   },
   "file_extension": ".py",
   "mimetype": "text/x-python",
   "name": "python",
   "nbconvert_exporter": "python",
   "pygments_lexer": "ipython3",
   "version": "3.11.4"
  }
 },
 "nbformat": 4,
 "nbformat_minor": 5
}
